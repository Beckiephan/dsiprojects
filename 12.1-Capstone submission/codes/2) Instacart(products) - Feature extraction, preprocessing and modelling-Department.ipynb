{
 "cells": [
  {
   "cell_type": "markdown",
   "metadata": {},
   "source": [
    "# Notebook 2: Capstone Project - Instacart"
   ]
  },
  {
   "cell_type": "markdown",
   "metadata": {},
   "source": [
    "## Problem Statement\n",
    "\n",
    "Instacart being a grocery delivery and pick-up service, offers its services through the website and mobile app. Being an e-commerce business especially now, during the Covid period, it is important to maintain user experience and ease in finding products on their online store. As a data analyst with Instacart, it has come to our attention that there are quite a lot of missing information of which department and aisles a product belongs to. As products are categorized into departments, users could search for products by departments. With missing departments, those products would not appear if users were to search by department. To solve this problem, we will build a model that would automatically take the product name and map them to their most likely department which would ensure all items are mapped to their most closely related department. This would not only ease users search for items and prevent any omission of products if users search by departments, which may result in higher sales as well, it would give a more complete and organized inventory and help make reporting more efficient, complete and accurate, for example, reporting the department-wise sales. "
   ]
  },
  {
   "cell_type": "markdown",
   "metadata": {},
   "source": [
    "## Executive Summary\n",
    "\n",
    "The goal is to help find solutions using data to predict which product goes to which department automatically. This would help not only more efficient inventory management, it would also help reporting to be more efficient and accurate by preventing any ommission of data. For example, when looking at the department-wise revenue.\n",
    "\n",
    "The data gathered for this project is from [Kaggle](https://www.kaggle.com/c/instacart-market-basket-analysis/data). The data is from an American company that operates a grocery delivery and pick-up service in the United States and Canada and consists of:\n",
    "* All the Product Name and ID\n",
    "* Aisle Name and ID corresponding to its product\n",
    "* Department Name and ID corresponding to its product\n",
    "\n",
    "The data from the 3 sets mentioned above were cleaned and combined together to form the full dataset called \"products_df\" for more EDA and analysis and ultimately modelling. \n",
    "\n",
    "From the vast data collection, missing departments and aisles were found for some products. Since Instacart is known for their e-commerce business, this could mean that users who were to search by department for products to buy, may never get the opportunity to see these products as one of their choices, which would then affect sales on these products. This is assuming that these data would feed into the algorithm of their website and mobile app. Building a model that would map the product to its department automatically and as accurately as possible, might improve user experience and sales. The target variable \"department\" was chosen as the product names in each aisle were too similar, which is a limitation to help in accurate predictions.\n",
    "\n",
    "The product name was used as features to predict which department a product would be in. They were preprocessed, extracted to form the vocabulary and fitted into the model. \n",
    "\n",
    "Preprocessing steps:\n",
    "* Removal of stop words\n",
    "* Removal of punctuations and special characters\n",
    "* Lemmatization\n",
    "* Train_test_split\n",
    "\n",
    "Gridsearching was done with a combination of feature extraction steps: \n",
    "* CountVectorizer\n",
    "* TfifdVectorizer\n",
    "* Doc2Vec\n",
    "\n",
    "and modeling:\n",
    "* Logistic Regression\n",
    "* MultinomialNaiveBayes\n",
    "* Transfer Learning - RNN(LSTM)\n",
    "\n",
    "Different Vectorizers were used to see how well the model could see order and frequency and count of each word would be in the prediction of products and its departments. Logistic Regression was chosen as it was a simple and effective model which could be used as benchmark to other models. Each hyperparameters were tuned for its feature extraction and modelling steps. Gridsearch with 5 Cross-validations was done to get the best \"macro-average\" F1score, precision and recall. The production model was chosen by comparing the train and validation scores between models.\n",
    "\n",
    "\n",
    "The production model choses what the Logistic Regression model with count vectorized features. There were about 216,000 features after vectorizing, we used the count vectorizer of max features 80,000 to fit into the model. The model may have been slightly overfitted with the train accuracy at 0.97 and test at 0.84. However it had the highest F1-score which was our main metric for measuring the performance of our models. Looking at the confusion matrix was another method for choosing the model. Most of the confusion matrix had similar results, except for all the Doc2Vec features that were fitted, where most of the classes were predicted correctly. I would recommend to first implement a simple model, and looking at how the model performs and whether there was improved sales especially for those products that were missing initially, and from there we could probably fine-tune the model more, build a recommender system to recommend products that are similar to those the customer tends to buy or even build a model to categorize products by aisles(subcategory to department) to help filter items better, if we see that the model helps improve sales for products especially those initially with missing departments."
   ]
  },
  {
   "cell_type": "markdown",
   "metadata": {},
   "source": [
    "### Contents\n",
    "-[Preparation for Train & Test](Preparing-Train-and-Test-sets)\n",
    "-[Feature Extraction & Modelling](Feature-Extraction-and-Modelling)\n",
    "-[Evaluation of Production Model](Evaluation-of-Production-Model)\n",
    "-[Conclusion & Recommendation](Conclusion-and-Recommendation)"
   ]
  },
  {
   "cell_type": "code",
   "execution_count": 1,
   "metadata": {
    "ExecuteTime": {
     "end_time": "2021-01-27T13:15:37.766549Z",
     "start_time": "2021-01-27T13:15:30.900943Z"
    }
   },
   "outputs": [],
   "source": [
    "#import all the libraries\n",
    "import pandas as pd\n",
    "import numpy as np\n",
    "import matplotlib.pyplot as plt\n",
    "import seaborn as sns\n",
    "import pickle\n",
    "from tqdm import tqdm\n",
    "import sklearn\n",
    "\n",
    "import nltk\n",
    "from nltk import word_tokenize\n",
    "from nltk.corpus import stopwords as stops\n",
    "from sklearn.neighbors import KNeighborsClassifier\n",
    "from sklearn.model_selection import GridSearchCV, cross_val_score, train_test_split\n",
    "from sklearn.metrics import r2_score, confusion_matrix, plot_roc_curve\n",
    "from sklearn.feature_extraction.text import CountVectorizer, TfidfVectorizer\n",
    "from sklearn.feature_selection import SelectKBest, chi2\n",
    "from sklearn.linear_model import LogisticRegression\n",
    "from sklearn.naive_bayes import MultinomialNB, GaussianNB\n",
    "from sklearn.ensemble import RandomForestClassifier\n",
    "from sklearn.metrics import accuracy_score, precision_score, recall_score, f1_score\n",
    "from sklearn.metrics import confusion_matrix, plot_confusion_matrix, classification_report\n",
    "from imblearn.pipeline import Pipeline\n",
    "from gensim.models.doc2vec import Doc2Vec, TaggedDocument\n",
    "import multiprocessing\n",
    "from sklearn.base import BaseEstimator\n",
    "from tensorflow.keras.layers import LSTM, Dense, Flatten\n",
    "from tensorflow.keras.models import Sequential\n",
    "from keras.layers.embeddings import Embedding\n",
    "from MulticoreTSNE import MulticoreTSNE as tsne\n",
    "from imblearn.under_sampling import NeighbourhoodCleaningRule\n",
    "from tensorflow.keras.preprocessing.sequence import pad_sequences\n",
    "from keras.preprocessing.text import Tokenizer\n",
    "from tensorflow.keras import utils\n",
    "from keras import layers\n",
    "from plot_keras_history import plot_history\n",
    "from tensorflow.python.keras.callbacks import History\n",
    "\n",
    "\n",
    "%matplotlib inline\n",
    "\n",
    "pd.set_option('display.max_columns', None)\n",
    "pd.set_option('display.max_rows', None)\n",
    "\n"
   ]
  },
  {
   "cell_type": "code",
   "execution_count": 2,
   "metadata": {
    "ExecuteTime": {
     "end_time": "2021-01-27T13:15:37.864185Z",
     "start_time": "2021-01-27T13:15:37.768887Z"
    }
   },
   "outputs": [],
   "source": [
    "## Loading the clean products csv\n",
    "products_df = pd.read_csv('../datasets/products_df.csv')"
   ]
  },
  {
   "cell_type": "code",
   "execution_count": 3,
   "metadata": {
    "ExecuteTime": {
     "end_time": "2021-01-27T13:15:37.873808Z",
     "start_time": "2021-01-27T13:15:37.867861Z"
    }
   },
   "outputs": [
    {
     "data": {
      "text/plain": [
       "(49688, 9)"
      ]
     },
     "execution_count": 3,
     "metadata": {},
     "output_type": "execute_result"
    }
   ],
   "source": [
    "products_df.shape"
   ]
  },
  {
   "cell_type": "markdown",
   "metadata": {},
   "source": [
    "For this problem, we will be working with 67 out of the 134 aisles due to computational limitations. We will take the more well represented aisles, with at least 305 products in each aisle. In this case, we did not use SMOTEENN as we will just be created artificial samples of each minority classes by over-sampling and we may be taking away some information by under-sampling."
   ]
  },
  {
   "cell_type": "code",
   "execution_count": 4,
   "metadata": {
    "ExecuteTime": {
     "end_time": "2021-01-27T13:15:37.882610Z",
     "start_time": "2021-01-27T13:15:37.876147Z"
    }
   },
   "outputs": [
    {
     "data": {
      "text/plain": [
       "20"
      ]
     },
     "execution_count": 4,
     "metadata": {},
     "output_type": "execute_result"
    }
   ],
   "source": [
    "products_df['department_name'].nunique()"
   ]
  },
  {
   "cell_type": "markdown",
   "metadata": {},
   "source": [
    "## Preparing Train and Test sets"
   ]
  },
  {
   "cell_type": "code",
   "execution_count": 5,
   "metadata": {
    "ExecuteTime": {
     "end_time": "2021-01-27T13:15:37.894129Z",
     "start_time": "2021-01-27T13:15:37.884705Z"
    },
    "scrolled": true
   },
   "outputs": [
    {
     "name": "stdout",
     "output_type": "stream",
     "text": [
      "(49688, 9)\n",
      "(1258, 9)\n"
     ]
    }
   ],
   "source": [
    "print(products_df.shape)\n",
    "print(products_df[products_df['department_name']=='missing'].shape)"
   ]
  },
  {
   "cell_type": "markdown",
   "metadata": {},
   "source": [
    "Training and validation of the model will be done on a set of data that have their relative department name, we will do a train_test_split on this set to evaluate the model."
   ]
  },
  {
   "cell_type": "code",
   "execution_count": 6,
   "metadata": {
    "ExecuteTime": {
     "end_time": "2021-01-27T13:15:37.918860Z",
     "start_time": "2021-01-27T13:15:37.896530Z"
    }
   },
   "outputs": [
    {
     "name": "stdout",
     "output_type": "stream",
     "text": [
      "(48430, 9)\n"
     ]
    },
    {
     "data": {
      "text/html": [
       "<div>\n",
       "<style scoped>\n",
       "    .dataframe tbody tr th:only-of-type {\n",
       "        vertical-align: middle;\n",
       "    }\n",
       "\n",
       "    .dataframe tbody tr th {\n",
       "        vertical-align: top;\n",
       "    }\n",
       "\n",
       "    .dataframe thead th {\n",
       "        text-align: right;\n",
       "    }\n",
       "</style>\n",
       "<table border=\"1\" class=\"dataframe\">\n",
       "  <thead>\n",
       "    <tr style=\"text-align: right;\">\n",
       "      <th></th>\n",
       "      <th>Unnamed: 0</th>\n",
       "      <th>product_id</th>\n",
       "      <th>product_name</th>\n",
       "      <th>aisle_id</th>\n",
       "      <th>aisle_name</th>\n",
       "      <th>department_id</th>\n",
       "      <th>department_name</th>\n",
       "      <th>length_product_name</th>\n",
       "      <th>product_name_words</th>\n",
       "    </tr>\n",
       "  </thead>\n",
       "  <tbody>\n",
       "  </tbody>\n",
       "</table>\n",
       "</div>"
      ],
      "text/plain": [
       "Empty DataFrame\n",
       "Columns: [Unnamed: 0, product_id, product_name, aisle_id, aisle_name, department_id, department_name, length_product_name, product_name_words]\n",
       "Index: []"
      ]
     },
     "execution_count": 6,
     "metadata": {},
     "output_type": "execute_result"
    }
   ],
   "source": [
    "# training data consist of all those departments that are not missing\n",
    "Train = products_df[(products_df['department_name'] != 'missing')]\n",
    "print(Train.shape)\n",
    "Train[Train['department_name'] == 'missing']"
   ]
  },
  {
   "cell_type": "markdown",
   "metadata": {},
   "source": [
    "The chosen production model will be tested on with unseen data (missing departmentes) which will be the testing data."
   ]
  },
  {
   "cell_type": "code",
   "execution_count": 7,
   "metadata": {
    "ExecuteTime": {
     "end_time": "2021-01-27T13:15:39.084883Z",
     "start_time": "2021-01-27T13:15:39.069047Z"
    }
   },
   "outputs": [
    {
     "name": "stdout",
     "output_type": "stream",
     "text": [
      "(1258, 9)\n"
     ]
    },
    {
     "data": {
      "text/html": [
       "<div>\n",
       "<style scoped>\n",
       "    .dataframe tbody tr th:only-of-type {\n",
       "        vertical-align: middle;\n",
       "    }\n",
       "\n",
       "    .dataframe tbody tr th {\n",
       "        vertical-align: top;\n",
       "    }\n",
       "\n",
       "    .dataframe thead th {\n",
       "        text-align: right;\n",
       "    }\n",
       "</style>\n",
       "<table border=\"1\" class=\"dataframe\">\n",
       "  <thead>\n",
       "    <tr style=\"text-align: right;\">\n",
       "      <th></th>\n",
       "      <th>Unnamed: 0</th>\n",
       "      <th>product_id</th>\n",
       "      <th>product_name</th>\n",
       "      <th>aisle_id</th>\n",
       "      <th>aisle_name</th>\n",
       "      <th>department_id</th>\n",
       "      <th>department_name</th>\n",
       "      <th>length_product_name</th>\n",
       "      <th>product_name_words</th>\n",
       "    </tr>\n",
       "  </thead>\n",
       "  <tbody>\n",
       "    <tr>\n",
       "      <th>37</th>\n",
       "      <td>37</td>\n",
       "      <td>38</td>\n",
       "      <td>Ultra Antibacterial Dish Liquid</td>\n",
       "      <td>100</td>\n",
       "      <td>missing</td>\n",
       "      <td>21</td>\n",
       "      <td>missing</td>\n",
       "      <td>4</td>\n",
       "      <td>ultra antibacterial dish liquid</td>\n",
       "    </tr>\n",
       "    <tr>\n",
       "      <th>71</th>\n",
       "      <td>71</td>\n",
       "      <td>72</td>\n",
       "      <td>Organic Honeycrisp Apples</td>\n",
       "      <td>100</td>\n",
       "      <td>missing</td>\n",
       "      <td>21</td>\n",
       "      <td>missing</td>\n",
       "      <td>3</td>\n",
       "      <td>organic honeycrisp apple</td>\n",
       "    </tr>\n",
       "  </tbody>\n",
       "</table>\n",
       "</div>"
      ],
      "text/plain": [
       "    Unnamed: 0  product_id                     product_name  aisle_id  \\\n",
       "37          37          38  Ultra Antibacterial Dish Liquid       100   \n",
       "71          71          72        Organic Honeycrisp Apples       100   \n",
       "\n",
       "   aisle_name  department_id department_name  length_product_name  \\\n",
       "37    missing             21         missing                    4   \n",
       "71    missing             21         missing                    3   \n",
       "\n",
       "                 product_name_words  \n",
       "37  ultra antibacterial dish liquid  \n",
       "71         organic honeycrisp apple  "
      ]
     },
     "execution_count": 7,
     "metadata": {},
     "output_type": "execute_result"
    }
   ],
   "source": [
    "# testing data consist of all those aisles and departments that are missing\n",
    "Test = products_df[(products_df['department_name'] == 'missing')]\n",
    "print(Test.shape)\n",
    "Test.head(2)"
   ]
  },
  {
   "cell_type": "markdown",
   "metadata": {},
   "source": [
    "## Feature Extraction and Modelling"
   ]
  },
  {
   "cell_type": "code",
   "execution_count": 8,
   "metadata": {
    "ExecuteTime": {
     "end_time": "2021-01-27T13:15:42.171836Z",
     "start_time": "2021-01-27T13:15:42.168389Z"
    }
   },
   "outputs": [],
   "source": [
    "# Assign X and y value\n",
    "X = Train['product_name']\n",
    "y = Train['department_id']"
   ]
  },
  {
   "cell_type": "markdown",
   "metadata": {
    "ExecuteTime": {
     "end_time": "2021-01-19T03:01:09.449906Z",
     "start_time": "2021-01-19T03:01:09.447855Z"
    }
   },
   "source": [
    "There are 21 departments, and we are interested to classify all products to their departments as accurately as possible. This would be a multi-class classification and all classes in this case would be of equal importance. There is no need to do StandardScaler preprocessing as the vectors will have the same scale. We will do some preprocessing on the data like train_test_split and preparing the vocabulary using different methods like CountVectorizer, TfidfVectorizer, Word2Vec and Doc2Vec. We will be using macro averaging(M) and not the micro averaging(µ) to measure the overall performance as macro averaging treats all classes equally. Since we are interested in all the classes, the metrics for evaluating our models in which we will be interested in are:\n",
    "\n",
    "1) **Fscore(m)**: mean of precision(m) and recall(m)\n",
    "* Precision(m): the average proportion of positive predictions that was actually correct per class\n",
    "    > sum(TP/(TP+FP))/number of classes \n",
    "* Recall(m): proportion of actual positives that was predicted correctly per class\n",
    "    > sum(TP/(TP+FN))/number of classes\n",
    "\n",
    "2) **Confusion Matrix**"
   ]
  },
  {
   "cell_type": "code",
   "execution_count": 9,
   "metadata": {
    "ExecuteTime": {
     "end_time": "2021-01-27T13:15:43.550512Z",
     "start_time": "2021-01-27T13:15:43.520650Z"
    }
   },
   "outputs": [],
   "source": [
    "# Preparing train and validation set\n",
    "Xtrain, Xval, ytrain, yval = train_test_split(X,\n",
    "                                              y,\n",
    "                                              test_size=0.25,\n",
    "                                              random_state=42,\n",
    "                                              stratify=y)"
   ]
  },
  {
   "cell_type": "code",
   "execution_count": 10,
   "metadata": {
    "ExecuteTime": {
     "end_time": "2021-01-27T13:15:43.930004Z",
     "start_time": "2021-01-27T13:15:43.924678Z"
    }
   },
   "outputs": [
    {
     "name": "stdout",
     "output_type": "stream",
     "text": [
      "(36322,)\n"
     ]
    },
    {
     "data": {
      "text/plain": [
       "24248              Jalapeno Chomperz Crunchy Seaweed Chips\n",
       "48754                      Pesto Alla Genovese Pasta Sauce\n",
       "9317                        California Peach Lowfat Yogurt\n",
       "16009                   Mocha with Almond Milk Iced Coffee\n",
       "6592     Geranium Scented Multi-Surface Everyday Spray ...\n",
       "Name: product_name, dtype: object"
      ]
     },
     "execution_count": 10,
     "metadata": {},
     "output_type": "execute_result"
    }
   ],
   "source": [
    "print(Xtrain.shape)\n",
    "Xtrain[:5]"
   ]
  },
  {
   "cell_type": "code",
   "execution_count": 11,
   "metadata": {
    "ExecuteTime": {
     "end_time": "2021-01-27T13:15:44.557556Z",
     "start_time": "2021-01-27T13:15:44.551801Z"
    }
   },
   "outputs": [
    {
     "name": "stdout",
     "output_type": "stream",
     "text": [
      "(12108,)\n"
     ]
    },
    {
     "data": {
      "text/plain": [
       "19437                               Chunky Beef Soup\n",
       "28823                                    Onion Rings\n",
       "17736    Gluten Free Red Velvet & Tuxedo Cupcake Duo\n",
       "34609                               Miso Ramen Broth\n",
       "16210                     3D White Pulsar Toothbrush\n",
       "Name: product_name, dtype: object"
      ]
     },
     "execution_count": 11,
     "metadata": {},
     "output_type": "execute_result"
    }
   ],
   "source": [
    "print(Xval.shape)\n",
    "Xval[:5]"
   ]
  },
  {
   "cell_type": "code",
   "execution_count": 12,
   "metadata": {
    "ExecuteTime": {
     "end_time": "2021-01-27T13:15:45.205493Z",
     "start_time": "2021-01-27T13:15:45.200661Z"
    }
   },
   "outputs": [
    {
     "name": "stdout",
     "output_type": "stream",
     "text": [
      "(36322,)\n"
     ]
    },
    {
     "data": {
      "text/plain": [
       "24248    19\n",
       "48754     9\n",
       "9317     16\n",
       "16009     7\n",
       "6592     17\n",
       "Name: department_id, dtype: int64"
      ]
     },
     "execution_count": 12,
     "metadata": {},
     "output_type": "execute_result"
    }
   ],
   "source": [
    "print(ytrain.shape)\n",
    "ytrain[:5]"
   ]
  },
  {
   "cell_type": "code",
   "execution_count": 13,
   "metadata": {
    "ExecuteTime": {
     "end_time": "2021-01-27T13:15:45.894692Z",
     "start_time": "2021-01-27T13:15:45.889180Z"
    }
   },
   "outputs": [
    {
     "name": "stdout",
     "output_type": "stream",
     "text": [
      "(12108,)\n"
     ]
    },
    {
     "data": {
      "text/plain": [
       "19437    15\n",
       "28823     1\n",
       "17736     3\n",
       "34609    15\n",
       "16210    11\n",
       "Name: department_id, dtype: int64"
      ]
     },
     "execution_count": 13,
     "metadata": {},
     "output_type": "execute_result"
    }
   ],
   "source": [
    "print(yval.shape)\n",
    "yval[:5]"
   ]
  },
  {
   "cell_type": "code",
   "execution_count": 14,
   "metadata": {
    "ExecuteTime": {
     "end_time": "2021-01-27T13:15:46.562698Z",
     "start_time": "2021-01-27T13:15:46.557696Z"
    }
   },
   "outputs": [
    {
     "data": {
      "text/plain": [
       "4922"
      ]
     },
     "execution_count": 14,
     "metadata": {},
     "output_type": "execute_result"
    }
   ],
   "source": [
    "ytrain.value_counts().max()"
   ]
  },
  {
   "cell_type": "code",
   "execution_count": 15,
   "metadata": {
    "ExecuteTime": {
     "end_time": "2021-01-27T13:15:47.023025Z",
     "start_time": "2021-01-27T13:15:47.017557Z"
    }
   },
   "outputs": [
    {
     "data": {
      "text/plain": [
       "29"
      ]
     },
     "execution_count": 15,
     "metadata": {},
     "output_type": "execute_result"
    }
   ],
   "source": [
    "ytrain.value_counts().min()"
   ]
  },
  {
   "cell_type": "code",
   "execution_count": 16,
   "metadata": {
    "ExecuteTime": {
     "end_time": "2021-01-27T13:15:47.542995Z",
     "start_time": "2021-01-27T13:15:47.537956Z"
    }
   },
   "outputs": [
    {
     "data": {
      "text/plain": [
       "1641"
      ]
     },
     "execution_count": 16,
     "metadata": {},
     "output_type": "execute_result"
    }
   ],
   "source": [
    "yval.value_counts().max()"
   ]
  },
  {
   "cell_type": "code",
   "execution_count": 17,
   "metadata": {
    "ExecuteTime": {
     "end_time": "2021-01-27T13:15:48.074733Z",
     "start_time": "2021-01-27T13:15:48.069109Z"
    }
   },
   "outputs": [
    {
     "data": {
      "text/plain": [
       "9"
      ]
     },
     "execution_count": 17,
     "metadata": {},
     "output_type": "execute_result"
    }
   ],
   "source": [
    "yval.value_counts().min()"
   ]
  },
  {
   "cell_type": "markdown",
   "metadata": {},
   "source": [
    "#### Baseline"
   ]
  },
  {
   "cell_type": "markdown",
   "metadata": {},
   "source": [
    "Without any models, the products will be classified correctly at about 14%. This is the baseline accuracy, which means if all product names were to be classified into our majority class, it would be 14% accurate."
   ]
  },
  {
   "cell_type": "code",
   "execution_count": 18,
   "metadata": {
    "ExecuteTime": {
     "end_time": "2021-01-27T13:15:49.572192Z",
     "start_time": "2021-01-27T13:15:49.553679Z"
    },
    "scrolled": true
   },
   "outputs": [
    {
     "data": {
      "text/plain": [
       "11    0.135510\n",
       "19    0.129343\n",
       "13    0.110897\n",
       "7     0.090138\n",
       "1     0.082732\n",
       "Name: department_id, dtype: float64"
      ]
     },
     "execution_count": 18,
     "metadata": {},
     "output_type": "execute_result"
    }
   ],
   "source": [
    "ytrain.value_counts(normalize=True)[:5]"
   ]
  },
  {
   "cell_type": "markdown",
   "metadata": {},
   "source": [
    "#### Benchmark Model - CountVectorizer, LogisticRegression"
   ]
  },
  {
   "cell_type": "markdown",
   "metadata": {},
   "source": [
    "The LogisticRegression model will be used as our benchmark model as it is a simple yet effective model. We will use the pipeline and gridsearch to find the best parameters for LogisticRegression. For the benchmark, we will use CountVectorizer to vectorize our vocabulary since it is also the most simple counting of number of each word. From our EDA, the products in each classes are distinctive enough between each other, therefore do not require over and unders sampling. \n",
    "\n",
    "[Solver](https://towardsdatascience.com/dont-sweat-the-solver-stuff-aea7cddc3451) "
   ]
  },
  {
   "cell_type": "code",
   "execution_count": null,
   "metadata": {
    "ExecuteTime": {
     "end_time": "2021-01-27T03:57:08.608729Z",
     "start_time": "2021-01-27T03:57:08.549540Z"
    },
    "scrolled": false
   },
   "outputs": [],
   "source": [
    "# Create pipe\n",
    "pipe_lr_cvec = Pipeline([('cvec', CountVectorizer()),\n",
    "                         ('lr', LogisticRegression(random_state=42, max_iter=1000))])\n",
    "\n",
    "# Define dictionary of hyperparameters.\n",
    "pipe_lr_cvec_params = {\n",
    "    'cvec__ngram_range': [(1, 1), (1, 2)],\n",
    "    'cvec__max_features': [40_000, 80_000] #reduce the amount of features as there are alot of features at 160,000\n",
    "}\n",
    "\n",
    "# Instantiate GridSearchCV object.\n",
    "pipe_lr_cvec_gs = GridSearchCV(pipe_lr_cvec,\n",
    "                               pipe_lr_cvec_params,\n",
    "                               cv=5,\n",
    "                               verbose=2)"
   ]
  },
  {
   "cell_type": "code",
   "execution_count": null,
   "metadata": {
    "ExecuteTime": {
     "end_time": "2021-01-27T04:03:25.705763Z",
     "start_time": "2021-01-27T03:57:12.648114Z"
    },
    "scrolled": true
   },
   "outputs": [],
   "source": [
    "# Fit the GridSearchCV object to the data.\n",
    "pipe_lr_cvec_gs.fit(Xtrain, ytrain)\n",
    "\n",
    "print(f'Finished and best params: {pipe_lr_cvec_gs.best_params_} and best score: {pipe_lr_cvec_gs.best_score_}.')"
   ]
  },
  {
   "cell_type": "markdown",
   "metadata": {},
   "source": [
    "##### Fitting with best params"
   ]
  },
  {
   "cell_type": "code",
   "execution_count": 19,
   "metadata": {
    "ExecuteTime": {
     "end_time": "2021-01-27T13:15:55.935482Z",
     "start_time": "2021-01-27T13:15:54.741740Z"
    }
   },
   "outputs": [],
   "source": [
    "# Instantiate default CountVectorizer\n",
    "lr_cvec = CountVectorizer(max_features=80_000, ngram_range=(1,2))\n",
    "\n",
    "# Fit and transform the CountVectorizer to train\n",
    "lr_Xtrain_cvec = pd.DataFrame(lr_cvec.fit_transform(\n",
    "    Xtrain).toarray(), columns=lr_cvec.get_feature_names())\n",
    "\n",
    "# Transform the fitted CountVectorizer to val\n",
    "lr_Xval_cvec = pd.DataFrame(lr_cvec.transform(\n",
    "    Xval).toarray(), columns=lr_cvec.get_feature_names())\n"
   ]
  },
  {
   "cell_type": "code",
   "execution_count": null,
   "metadata": {
    "ExecuteTime": {
     "end_time": "2021-01-27T05:25:52.619169Z",
     "start_time": "2021-01-27T04:04:49.239521Z"
    }
   },
   "outputs": [],
   "source": [
    "# Instantiate LogisticRegression model\n",
    "lr_cvec_ = LogisticRegression(random_state=42, max_iter=1000)\n",
    "\n",
    "# fit train cvec data to LogisticRegression model\n",
    "benchmark_model = lr_cvec_.fit(lr_Xtrain_cvec, ytrain)"
   ]
  },
  {
   "cell_type": "markdown",
   "metadata": {},
   "source": [
    "The benchmark model does better much better than our baseline but it is overfitted, however the validation score is still quite high at 0.84."
   ]
  },
  {
   "cell_type": "code",
   "execution_count": null,
   "metadata": {
    "ExecuteTime": {
     "end_time": "2021-01-27T07:44:22.994225Z",
     "start_time": "2021-01-27T07:44:22.603964Z"
    }
   },
   "outputs": [],
   "source": [
    "# saved the model to disk\n",
    "#pickle.dump(benchmark_model, open('../models/benchmark_model.sav', 'wb'))"
   ]
  },
  {
   "cell_type": "code",
   "execution_count": 20,
   "metadata": {
    "ExecuteTime": {
     "end_time": "2021-01-27T13:16:00.494204Z",
     "start_time": "2021-01-27T13:16:00.481690Z"
    }
   },
   "outputs": [],
   "source": [
    "# load the model from disk in case crash\n",
    "benchmark_model = pickle.load(open('../models/benchmark_model.sav', 'rb'))\n"
   ]
  },
  {
   "cell_type": "code",
   "execution_count": 21,
   "metadata": {
    "ExecuteTime": {
     "end_time": "2021-01-27T13:16:44.175103Z",
     "start_time": "2021-01-27T13:16:02.504698Z"
    }
   },
   "outputs": [
    {
     "name": "stdout",
     "output_type": "stream",
     "text": [
      "0.968448873960685\n",
      "0.8427485959696068\n"
     ]
    }
   ],
   "source": [
    "# check the scoring for the train set\n",
    "benckmark_train_score = benchmark_model.score(lr_Xtrain_cvec, ytrain)\n",
    "print(benckmark_train_score)\n",
    "\n",
    "# check the scoring for the validation set\n",
    "print(benchmark_model.score(lr_Xval_cvec, yval))"
   ]
  },
  {
   "cell_type": "code",
   "execution_count": 22,
   "metadata": {
    "ExecuteTime": {
     "end_time": "2021-01-27T13:17:04.497493Z",
     "start_time": "2021-01-27T13:16:53.834178Z"
    }
   },
   "outputs": [],
   "source": [
    "# predictions of the validation data\n",
    "benchmark_ypred = benchmark_model.predict(lr_Xval_cvec)\n"
   ]
  },
  {
   "cell_type": "markdown",
   "metadata": {},
   "source": [
    "The F1 socre for the benchmark model, Logistic Regression model fitted with CountVectorized features, is 0.75. This will be the main metrics for measuring and comparing the models as this is an imbalance multiclass text classification. Another metric to compare and see the performance of the models is to look at the confusion matrix itself. We can see that most of the features have been predicted accurately to the correct class. However there are still some misclassification. And department_id 10 which is others have none predicted correctly. This may be because it is the smallest department at only 500 products in them, therefore, in comparison it is hard to train for this."
   ]
  },
  {
   "cell_type": "code",
   "execution_count": 23,
   "metadata": {
    "ExecuteTime": {
     "end_time": "2021-01-27T13:17:10.857519Z",
     "start_time": "2021-01-27T13:17:10.809320Z"
    },
    "scrolled": true
   },
   "outputs": [],
   "source": [
    "# creating list of scores\n",
    "model_name = []\n",
    "model_precision = []\n",
    "model_recall = []\n",
    "model_F1scores = []\n",
    "model_train_accuracy = []\n",
    "model_test_accuracy = []\n",
    "\n",
    "# Create function for the scoring on unseen data\n",
    "def scoring(yact, ypred, model, train_score):\n",
    "    precision = precision_score(yact, ypred, average='macro')\n",
    "    recall = recall_score(yact, ypred, average='macro')\n",
    "    fscore = f1_score(yact, ypred, average='macro')\n",
    "    accuracy = accuracy_score(yact, ypred)\n",
    "\n",
    "    print('Macro Precision: {:.2f}'.format(precision))\n",
    "    print('Macro Recall: {:.2f}'.format(recall))\n",
    "    print('Macro F1-score: {:.2f}\\n'.format(fscore))\n",
    "    print('Accuracy: {:.2f}'.format(accuracy))\n",
    "    print(classification_report(yact, ypred, digits=3))\n",
    "    \n",
    "    # Append to the lists\n",
    "    model_name.append(model)\n",
    "    model_precision.append(precision)\n",
    "    model_recall.append(recall)\n",
    "    model_F1scores.append(fscore)\n",
    "    model_train_accuracy.append(train_score)\n",
    "    model_test_accuracy.append(accuracy)"
   ]
  },
  {
   "cell_type": "code",
   "execution_count": 24,
   "metadata": {
    "ExecuteTime": {
     "end_time": "2021-01-27T13:17:14.357037Z",
     "start_time": "2021-01-27T13:17:14.266950Z"
    }
   },
   "outputs": [
    {
     "name": "stdout",
     "output_type": "stream",
     "text": [
      "Macro Precision: 0.79\n",
      "Macro Recall: 0.74\n",
      "Macro F1-score: 0.76\n",
      "\n",
      "Accuracy: 0.84\n",
      "              precision    recall  f1-score   support\n",
      "\n",
      "           1      0.803     0.793     0.798      1002\n",
      "           2      0.596     0.248     0.351       137\n",
      "           3      0.837     0.773     0.804       379\n",
      "           4      0.689     0.831     0.753       421\n",
      "           5      0.912     0.867     0.889       263\n",
      "           6      0.681     0.495     0.573       285\n",
      "           7      0.911     0.929     0.920      1091\n",
      "           8      0.991     0.909     0.948       243\n",
      "           9      0.821     0.778     0.799       465\n",
      "          10      0.000     0.000     0.000         9\n",
      "          11      0.874     0.920     0.897      1641\n",
      "          12      0.789     0.727     0.757       227\n",
      "          13      0.787     0.870     0.826      1343\n",
      "          14      0.905     0.821     0.861       279\n",
      "          15      0.805     0.805     0.805       523\n",
      "          16      0.912     0.922     0.917       862\n",
      "          17      0.914     0.895     0.904       771\n",
      "          18      0.920     0.763     0.834       270\n",
      "          19      0.835     0.886     0.860      1566\n",
      "          20      0.748     0.592     0.661       331\n",
      "\n",
      "    accuracy                          0.843     12108\n",
      "   macro avg      0.787     0.741     0.758     12108\n",
      "weighted avg      0.841     0.843     0.839     12108\n",
      "\n"
     ]
    },
    {
     "name": "stderr",
     "output_type": "stream",
     "text": [
      "/Users/becksphan/opt/anaconda3/lib/python3.8/site-packages/sklearn/metrics/_classification.py:1221: UndefinedMetricWarning: Precision is ill-defined and being set to 0.0 in labels with no predicted samples. Use `zero_division` parameter to control this behavior.\n",
      "  _warn_prf(average, modifier, msg_start, len(result))\n",
      "/Users/becksphan/opt/anaconda3/lib/python3.8/site-packages/sklearn/metrics/_classification.py:1221: UndefinedMetricWarning: Precision and F-score are ill-defined and being set to 0.0 in labels with no predicted samples. Use `zero_division` parameter to control this behavior.\n",
      "  _warn_prf(average, modifier, msg_start, len(result))\n"
     ]
    }
   ],
   "source": [
    "#Call scoring function\n",
    "scoring(yval, benchmark_ypred, 'benchmark LR-CVEC model', benckmark_train_score)"
   ]
  },
  {
   "cell_type": "code",
   "execution_count": null,
   "metadata": {
    "ExecuteTime": {
     "end_time": "2021-01-27T05:28:51.230064Z",
     "start_time": "2021-01-27T05:28:51.165502Z"
    },
    "scrolled": true
   },
   "outputs": [],
   "source": [
    "cm_df = pd.DataFrame(sklearn.metrics.confusion_matrix(yval, benchmark_ypred))\n",
    "cm_df"
   ]
  },
  {
   "cell_type": "code",
   "execution_count": null,
   "metadata": {
    "ExecuteTime": {
     "end_time": "2021-01-27T03:52:10.875187Z",
     "start_time": "2021-01-27T03:52:10.816392Z"
    }
   },
   "outputs": [],
   "source": [
    "products_df[products_df['department_id']==10].head(1)"
   ]
  },
  {
   "cell_type": "code",
   "execution_count": null,
   "metadata": {
    "ExecuteTime": {
     "end_time": "2021-01-25T06:56:16.074567Z",
     "start_time": "2021-01-25T06:56:15.156291Z"
    }
   },
   "outputs": [],
   "source": [
    "benchmark_model.predict_proba(lr_Xval_cvec)"
   ]
  },
  {
   "cell_type": "code",
   "execution_count": null,
   "metadata": {
    "ExecuteTime": {
     "end_time": "2021-01-25T06:56:56.171781Z",
     "start_time": "2021-01-25T06:56:56.165784Z"
    }
   },
   "outputs": [],
   "source": [
    "from sklearn.preprocessing import LabelEncoder\n",
    "labels = LabelEncoder()\n",
    "yval_labels = labels.fit_transform(yval)"
   ]
  },
  {
   "cell_type": "code",
   "execution_count": null,
   "metadata": {
    "ExecuteTime": {
     "end_time": "2021-01-25T06:57:19.289532Z",
     "start_time": "2021-01-25T06:57:13.136295Z"
    }
   },
   "outputs": [],
   "source": [
    "pd.DataFrame(benchmark_model.predict_proba(lr_Xval_cvec)*100, columns=labels.classes_)"
   ]
  },
  {
   "cell_type": "markdown",
   "metadata": {},
   "source": [
    "#### LogisticRegression Model - TfidfVectorizer"
   ]
  },
  {
   "cell_type": "markdown",
   "metadata": {},
   "source": [
    "TfidfVectorizer although similar to CountVectorizer taking into account the number of times each word appears in a document, but uses the term frequency and puts weights on each word for a document. Lets see how well it performs in comparison to the model above."
   ]
  },
  {
   "cell_type": "code",
   "execution_count": 25,
   "metadata": {
    "ExecuteTime": {
     "end_time": "2021-01-27T07:47:24.293336Z",
     "start_time": "2021-01-27T07:47:24.262258Z"
    }
   },
   "outputs": [],
   "source": [
    "# Create pipe\n",
    "pipe_lr_tfidf = Pipeline([('tfidf', TfidfVectorizer()),\n",
    "                         ('lr', LogisticRegression(random_state=42, max_iter=1000))])\n",
    "\n",
    "# Define dictionary of hyperparameters.\n",
    "pipe_lr_tfidf_params = {\n",
    "    'tfidf__ngram_range': [(1, 1), (1, 2)],\n",
    "    'tfidf__max_features': [40_000, 80_000] #reduce the amount of features as there are alot of features at 160,000\n",
    "}\n",
    "\n",
    "# Instantiate GridSearchCV object.\n",
    "pipe_lr_tfidf_gs = GridSearchCV(pipe_lr_tfidf,\n",
    "                                pipe_lr_tfidf_params,\n",
    "                                cv=5,\n",
    "                                verbose=2)"
   ]
  },
  {
   "cell_type": "code",
   "execution_count": null,
   "metadata": {
    "ExecuteTime": {
     "end_time": "2021-01-27T05:35:58.920618Z",
     "start_time": "2021-01-27T05:29:29.942729Z"
    },
    "scrolled": true
   },
   "outputs": [],
   "source": [
    "# Fit the GridSearchCV object to the data.\n",
    "pipe_lr_tfidf_gs.fit(Xtrain, ytrain)\n",
    "\n",
    "print(f'Finished and best params: {pipe_lr_tfidf_gs.best_params_} and best score: {pipe_lr_tfidf_gs.best_score_}.')"
   ]
  },
  {
   "cell_type": "markdown",
   "metadata": {},
   "source": [
    "##### Fitting with best params"
   ]
  },
  {
   "cell_type": "code",
   "execution_count": 19,
   "metadata": {
    "ExecuteTime": {
     "end_time": "2021-01-27T07:55:02.775285Z",
     "start_time": "2021-01-27T07:55:01.672079Z"
    }
   },
   "outputs": [],
   "source": [
    "# Instantiate default TfidfVectorizer\n",
    "lr_tfidf = TfidfVectorizer(max_features=40_000, ngram_range=(1,2))\n",
    "\n",
    "# Fit and transform the CountVectorizer to train\n",
    "lr_Xtrain_tfidf = pd.DataFrame(lr_tfidf.fit_transform(\n",
    "    Xtrain).toarray(), columns=lr_tfidf.get_feature_names())\n",
    "\n",
    "# Transform the fitted CountVectorizer to val\n",
    "lr_Xval_tfidf = pd.DataFrame(lr_tfidf.transform(\n",
    "    Xval).toarray(), columns=lr_tfidf.get_feature_names())\n"
   ]
  },
  {
   "cell_type": "code",
   "execution_count": null,
   "metadata": {
    "ExecuteTime": {
     "end_time": "2021-01-27T06:29:14.604865Z",
     "start_time": "2021-01-27T05:36:19.470213Z"
    }
   },
   "outputs": [],
   "source": [
    "# Instantiate LogisticRegression model\n",
    "lr_tfidf_ = LogisticRegression(random_state=42, max_iter=1000)\n",
    "\n",
    "# fit train cvec data to LogisticRegression model\n",
    "lr_tfidf_model = lr_tfidf_.fit(lr_Xtrain_tfidf, ytrain)"
   ]
  },
  {
   "cell_type": "code",
   "execution_count": null,
   "metadata": {
    "ExecuteTime": {
     "end_time": "2021-01-27T07:44:30.222856Z",
     "start_time": "2021-01-27T07:44:30.183236Z"
    }
   },
   "outputs": [],
   "source": [
    "# saved the model to disk\n",
    "#pickle.dump(lr_tfidf_model, open('../models/lr_tfidf_model.sav', 'wb'))"
   ]
  },
  {
   "cell_type": "code",
   "execution_count": 20,
   "metadata": {
    "ExecuteTime": {
     "end_time": "2021-01-27T07:55:06.791250Z",
     "start_time": "2021-01-27T07:55:06.781826Z"
    }
   },
   "outputs": [],
   "source": [
    "# load the model from disk in case crash\n",
    "#lr_tfidf_model = pickle.load(open('../models/lr_tfidf_model.sav', 'rb'))"
   ]
  },
  {
   "cell_type": "markdown",
   "metadata": {},
   "source": [
    "This model also performs better than the baseline and is less overfitted than the benchmark model which is the logistic Regression fitted with CountVectorized features, and this model performs better on unseen data."
   ]
  },
  {
   "cell_type": "code",
   "execution_count": 21,
   "metadata": {
    "ExecuteTime": {
     "end_time": "2021-01-27T07:55:27.073527Z",
     "start_time": "2021-01-27T07:55:10.485306Z"
    }
   },
   "outputs": [
    {
     "name": "stdout",
     "output_type": "stream",
     "text": [
      "0.892324211221849\n",
      "0.8289560621076973\n"
     ]
    }
   ],
   "source": [
    "# check the scoring for the train set\n",
    "lr_tfidf_train_score = lr_tfidf_model.score(lr_Xtrain_tfidf, ytrain)\n",
    "print(lr_tfidf_train_score)\n",
    "\n",
    "# check the scoring for the validation set\n",
    "print(lr_tfidf_model.score(lr_Xval_tfidf, yval))"
   ]
  },
  {
   "cell_type": "code",
   "execution_count": 22,
   "metadata": {
    "ExecuteTime": {
     "end_time": "2021-01-27T07:55:27.944186Z",
     "start_time": "2021-01-27T07:55:27.083637Z"
    }
   },
   "outputs": [],
   "source": [
    "# predictions of the validation data\n",
    "lr_ypred_tfidf = lr_tfidf_model.predict(lr_Xval_tfidf)\n"
   ]
  },
  {
   "cell_type": "markdown",
   "metadata": {},
   "source": [
    "The F1 socre for the lr_tfidf_model, Logistic Regression model fitted with TfidfVectorized features, is 0.74 which is similar to the benchmark model. This will be the main metrics for measuring and comparing the models as this is an imbalance multiclass text classification. Another metric to compare and see the performance of the models is to look at the confusion matrix itself. We can see from the confusion matrix that most of the features have been predicted accurately to the correct class. However there are still some misclassification. And department_id 10 which is others have none predicted correctly. This may be because it is the smallest department at only 500 products in them, therefore, in comparison it is hard to train for this, this is a similar case seen for the benchmark model."
   ]
  },
  {
   "cell_type": "code",
   "execution_count": 29,
   "metadata": {
    "ExecuteTime": {
     "end_time": "2021-01-27T07:57:07.399728Z",
     "start_time": "2021-01-27T07:57:07.356037Z"
    },
    "scrolled": true
   },
   "outputs": [
    {
     "name": "stdout",
     "output_type": "stream",
     "text": [
      "Macro Precision: 0.79\n",
      "Macro Recall: 0.71\n",
      "Macro F1-score: 0.74\n",
      "\n",
      "Accuracy: 0.83\n",
      "              precision    recall  f1-score   support\n",
      "\n",
      "           1      0.777     0.780     0.778      1002\n",
      "           2      0.778     0.153     0.256       137\n",
      "           3      0.875     0.723     0.792       379\n",
      "           4      0.719     0.724     0.722       421\n",
      "           5      0.937     0.848     0.890       263\n",
      "           6      0.684     0.425     0.524       285\n",
      "           7      0.898     0.927     0.912      1091\n",
      "           8      0.986     0.885     0.933       243\n",
      "           9      0.810     0.753     0.780       465\n",
      "          10      0.000     0.000     0.000         9\n",
      "          11      0.828     0.936     0.879      1641\n",
      "          12      0.773     0.692     0.730       227\n",
      "          13      0.755     0.866     0.807      1343\n",
      "          14      0.925     0.792     0.853       279\n",
      "          15      0.790     0.797     0.794       523\n",
      "          16      0.881     0.916     0.898       862\n",
      "          17      0.931     0.875     0.902       771\n",
      "          18      0.932     0.711     0.807       270\n",
      "          19      0.816     0.901     0.856      1566\n",
      "          20      0.772     0.523     0.623       331\n",
      "\n",
      "    accuracy                          0.829     12108\n",
      "   macro avg      0.793     0.711     0.737     12108\n",
      "weighted avg      0.829     0.829     0.823     12108\n",
      "\n"
     ]
    }
   ],
   "source": [
    "#Call scoring function\n",
    "scoring(yval, lr_ypred_tfidf, 'LR-TFIDF model', lr_tfidf_train_score)\n"
   ]
  },
  {
   "cell_type": "code",
   "execution_count": null,
   "metadata": {
    "ExecuteTime": {
     "end_time": "2021-01-27T06:33:38.873886Z",
     "start_time": "2021-01-27T06:33:38.764829Z"
    }
   },
   "outputs": [],
   "source": [
    "cm_df = pd.DataFrame(sklearn.metrics.confusion_matrix(yval, lr_ypred_tfidf))\n",
    "cm_df"
   ]
  },
  {
   "cell_type": "markdown",
   "metadata": {},
   "source": [
    "#### LogisticRegression Model - Doc2Vec"
   ]
  },
  {
   "cell_type": "markdown",
   "metadata": {},
   "source": [
    "Some weaknesses of CountVectorizer and TfidfVectorizer is firstly, they lose all information about word order. Secondly, the model does not attempt to learn any underlying meaning, and as a consequence, the distance between vectors doesn’t always reflect the difference in meaning. In this case, as each product name is a document, using Doc2Vec to vectorize our words may see some improvement as it represent documents as a vector which would give some meaning to each document(each product name) to each target(department id).\n",
    "[hyperparameter-size](https://stackoverflow.com/questions/34948650/how-should-i-interpret-size-parameter-in-doc2vec-function-of-gensim)\n",
    "[hyperparameter-dm](https://stackoverflow.com/questions/56323377/which-method-dm-or-dbow-works-well-for-document-similarity-using-doc2vec)\n",
    "[dm&size](https://stackoverflow.com/questions/54521323/i-get-more-vectors-than-my-documents-size-gensim-doc2vec)\n",
    "In this case, which makes sense since it is just product names, it does not help the model to do better but in fact seems to make it worse."
   ]
  },
  {
   "cell_type": "code",
   "execution_count": 41,
   "metadata": {
    "ExecuteTime": {
     "end_time": "2021-01-27T08:05:11.917656Z",
     "start_time": "2021-01-27T08:05:11.912804Z"
    }
   },
   "outputs": [
    {
     "data": {
      "text/plain": [
       "8"
      ]
     },
     "execution_count": 41,
     "metadata": {},
     "output_type": "execute_result"
    }
   ],
   "source": [
    "# create cores for Doc2Vec using multiproccessors\n",
    "cores = multiprocessing.cpu_count()\n",
    "cores"
   ]
  },
  {
   "cell_type": "code",
   "execution_count": 42,
   "metadata": {
    "ExecuteTime": {
     "end_time": "2021-01-27T08:05:12.670866Z",
     "start_time": "2021-01-27T08:05:12.660834Z"
    }
   },
   "outputs": [],
   "source": [
    "class Doc2VecModel(BaseEstimator):\n",
    "\n",
    "    def __init__(self, dm=0, workers=cores, vector_size=100, min_count=1):\n",
    "        self.d2v_model = None\n",
    "        self.dm = 0\n",
    "        self.workers = workers\n",
    "        self.vector_size = vector_size\n",
    "        self.min_count = min_count\n",
    "\n",
    "    def fit(self, raw_documents, y=None):\n",
    "        # Initialize model\n",
    "        self.d2v_model = Doc2Vec(dm=self.dm, vector_size=self.vector_size, min_count=self.min_count, workers = self.workers, epochs=100, alpha=0.025, min_alpha=0.001)\n",
    "        # Tag docs\n",
    "        tagged_documents = []\n",
    "        for index, row in raw_documents.iteritems():\n",
    "            tag = '{}_{}'.format(\"type\", index)\n",
    "            tokens = row.split()\n",
    "            tagged_documents.append(TaggedDocument(words=tokens, tags=[tag]))\n",
    "        \n",
    "        # Build vocabulary\n",
    "        self.d2v_model.build_vocab(tagged_documents)\n",
    "        # Train model\n",
    "        self.d2v_model.train(tagged_documents, total_examples=len(tagged_documents), epochs=self.d2v_model.epochs)\n",
    "        return self\n",
    "\n",
    "    def transform(self, raw_documents):\n",
    "        X = []\n",
    "        for index, row in raw_documents.iteritems():\n",
    "            X.append(self.d2v_model.infer_vector(row.split()))\n",
    "        X = pd.DataFrame(X, index=raw_documents.index)\n",
    "        return X\n",
    "\n",
    "\n",
    "    def fit_transform(self, raw_documents, y=None):\n",
    "        self.fit(raw_documents)\n",
    "        return self.transform(raw_documents)"
   ]
  },
  {
   "cell_type": "code",
   "execution_count": 40,
   "metadata": {
    "ExecuteTime": {
     "end_time": "2021-01-27T07:50:17.586814Z",
     "start_time": "2021-01-27T07:50:11.869429Z"
    },
    "scrolled": true
   },
   "outputs": [
    {
     "name": "stdout",
     "output_type": "stream",
     "text": [
      "Fitting 5 folds for each of 2 candidates, totalling 10 fits\n",
      "[CV] doc2vec__vector_size=100 ........................................\n"
     ]
    },
    {
     "name": "stderr",
     "output_type": "stream",
     "text": [
      "[Parallel(n_jobs=1)]: Using backend SequentialBackend with 1 concurrent workers.\n"
     ]
    },
    {
     "ename": "KeyboardInterrupt",
     "evalue": "",
     "output_type": "error",
     "traceback": [
      "\u001b[0;31m---------------------------------------------------------------------------\u001b[0m",
      "\u001b[0;31mKeyboardInterrupt\u001b[0m                         Traceback (most recent call last)",
      "\u001b[0;32m<ipython-input-40-9ce4d029f8f2>\u001b[0m in \u001b[0;36m<module>\u001b[0;34m\u001b[0m\n\u001b[1;32m     10\u001b[0m \u001b[0;34m\u001b[0m\u001b[0m\n\u001b[1;32m     11\u001b[0m \u001b[0;31m# Fit the GridSearchCV object to the data.\u001b[0m\u001b[0;34m\u001b[0m\u001b[0;34m\u001b[0m\u001b[0;34m\u001b[0m\u001b[0m\n\u001b[0;32m---> 12\u001b[0;31m \u001b[0mlr_d2v_gs\u001b[0m\u001b[0;34m.\u001b[0m\u001b[0mfit\u001b[0m\u001b[0;34m(\u001b[0m\u001b[0mXtrain\u001b[0m\u001b[0;34m,\u001b[0m \u001b[0mytrain\u001b[0m\u001b[0;34m)\u001b[0m\u001b[0;34m\u001b[0m\u001b[0;34m\u001b[0m\u001b[0m\n\u001b[0m\u001b[1;32m     13\u001b[0m \u001b[0;34m\u001b[0m\u001b[0m\n\u001b[1;32m     14\u001b[0m \u001b[0mprint\u001b[0m\u001b[0;34m(\u001b[0m\u001b[0;34mf'Finished and best params: {lr_d2v_gs.best_params_} and best score: {lr_d2v_gs.best_score_}.'\u001b[0m\u001b[0;34m)\u001b[0m\u001b[0;34m\u001b[0m\u001b[0;34m\u001b[0m\u001b[0m\n",
      "\u001b[0;32m~/opt/anaconda3/lib/python3.8/site-packages/sklearn/utils/validation.py\u001b[0m in \u001b[0;36minner_f\u001b[0;34m(*args, **kwargs)\u001b[0m\n\u001b[1;32m     71\u001b[0m                           FutureWarning)\n\u001b[1;32m     72\u001b[0m         \u001b[0mkwargs\u001b[0m\u001b[0;34m.\u001b[0m\u001b[0mupdate\u001b[0m\u001b[0;34m(\u001b[0m\u001b[0;34m{\u001b[0m\u001b[0mk\u001b[0m\u001b[0;34m:\u001b[0m \u001b[0marg\u001b[0m \u001b[0;32mfor\u001b[0m \u001b[0mk\u001b[0m\u001b[0;34m,\u001b[0m \u001b[0marg\u001b[0m \u001b[0;32min\u001b[0m \u001b[0mzip\u001b[0m\u001b[0;34m(\u001b[0m\u001b[0msig\u001b[0m\u001b[0;34m.\u001b[0m\u001b[0mparameters\u001b[0m\u001b[0;34m,\u001b[0m \u001b[0margs\u001b[0m\u001b[0;34m)\u001b[0m\u001b[0;34m}\u001b[0m\u001b[0;34m)\u001b[0m\u001b[0;34m\u001b[0m\u001b[0;34m\u001b[0m\u001b[0m\n\u001b[0;32m---> 73\u001b[0;31m         \u001b[0;32mreturn\u001b[0m \u001b[0mf\u001b[0m\u001b[0;34m(\u001b[0m\u001b[0;34m**\u001b[0m\u001b[0mkwargs\u001b[0m\u001b[0;34m)\u001b[0m\u001b[0;34m\u001b[0m\u001b[0;34m\u001b[0m\u001b[0m\n\u001b[0m\u001b[1;32m     74\u001b[0m     \u001b[0;32mreturn\u001b[0m \u001b[0minner_f\u001b[0m\u001b[0;34m\u001b[0m\u001b[0;34m\u001b[0m\u001b[0m\n\u001b[1;32m     75\u001b[0m \u001b[0;34m\u001b[0m\u001b[0m\n",
      "\u001b[0;32m~/opt/anaconda3/lib/python3.8/site-packages/sklearn/model_selection/_search.py\u001b[0m in \u001b[0;36mfit\u001b[0;34m(self, X, y, groups, **fit_params)\u001b[0m\n\u001b[1;32m    734\u001b[0m                 \u001b[0;32mreturn\u001b[0m \u001b[0mresults\u001b[0m\u001b[0;34m\u001b[0m\u001b[0;34m\u001b[0m\u001b[0m\n\u001b[1;32m    735\u001b[0m \u001b[0;34m\u001b[0m\u001b[0m\n\u001b[0;32m--> 736\u001b[0;31m             \u001b[0mself\u001b[0m\u001b[0;34m.\u001b[0m\u001b[0m_run_search\u001b[0m\u001b[0;34m(\u001b[0m\u001b[0mevaluate_candidates\u001b[0m\u001b[0;34m)\u001b[0m\u001b[0;34m\u001b[0m\u001b[0;34m\u001b[0m\u001b[0m\n\u001b[0m\u001b[1;32m    737\u001b[0m \u001b[0;34m\u001b[0m\u001b[0m\n\u001b[1;32m    738\u001b[0m         \u001b[0;31m# For multi-metric evaluation, store the best_index_, best_params_ and\u001b[0m\u001b[0;34m\u001b[0m\u001b[0;34m\u001b[0m\u001b[0;34m\u001b[0m\u001b[0m\n",
      "\u001b[0;32m~/opt/anaconda3/lib/python3.8/site-packages/sklearn/model_selection/_search.py\u001b[0m in \u001b[0;36m_run_search\u001b[0;34m(self, evaluate_candidates)\u001b[0m\n\u001b[1;32m   1186\u001b[0m     \u001b[0;32mdef\u001b[0m \u001b[0m_run_search\u001b[0m\u001b[0;34m(\u001b[0m\u001b[0mself\u001b[0m\u001b[0;34m,\u001b[0m \u001b[0mevaluate_candidates\u001b[0m\u001b[0;34m)\u001b[0m\u001b[0;34m:\u001b[0m\u001b[0;34m\u001b[0m\u001b[0;34m\u001b[0m\u001b[0m\n\u001b[1;32m   1187\u001b[0m         \u001b[0;34m\"\"\"Search all candidates in param_grid\"\"\"\u001b[0m\u001b[0;34m\u001b[0m\u001b[0;34m\u001b[0m\u001b[0m\n\u001b[0;32m-> 1188\u001b[0;31m         \u001b[0mevaluate_candidates\u001b[0m\u001b[0;34m(\u001b[0m\u001b[0mParameterGrid\u001b[0m\u001b[0;34m(\u001b[0m\u001b[0mself\u001b[0m\u001b[0;34m.\u001b[0m\u001b[0mparam_grid\u001b[0m\u001b[0;34m)\u001b[0m\u001b[0;34m)\u001b[0m\u001b[0;34m\u001b[0m\u001b[0;34m\u001b[0m\u001b[0m\n\u001b[0m\u001b[1;32m   1189\u001b[0m \u001b[0;34m\u001b[0m\u001b[0m\n\u001b[1;32m   1190\u001b[0m \u001b[0;34m\u001b[0m\u001b[0m\n",
      "\u001b[0;32m~/opt/anaconda3/lib/python3.8/site-packages/sklearn/model_selection/_search.py\u001b[0m in \u001b[0;36mevaluate_candidates\u001b[0;34m(candidate_params)\u001b[0m\n\u001b[1;32m    706\u001b[0m                               n_splits, n_candidates, n_candidates * n_splits))\n\u001b[1;32m    707\u001b[0m \u001b[0;34m\u001b[0m\u001b[0m\n\u001b[0;32m--> 708\u001b[0;31m                 out = parallel(delayed(_fit_and_score)(clone(base_estimator),\n\u001b[0m\u001b[1;32m    709\u001b[0m                                                        \u001b[0mX\u001b[0m\u001b[0;34m,\u001b[0m \u001b[0my\u001b[0m\u001b[0;34m,\u001b[0m\u001b[0;34m\u001b[0m\u001b[0;34m\u001b[0m\u001b[0m\n\u001b[1;32m    710\u001b[0m                                                        \u001b[0mtrain\u001b[0m\u001b[0;34m=\u001b[0m\u001b[0mtrain\u001b[0m\u001b[0;34m,\u001b[0m \u001b[0mtest\u001b[0m\u001b[0;34m=\u001b[0m\u001b[0mtest\u001b[0m\u001b[0;34m,\u001b[0m\u001b[0;34m\u001b[0m\u001b[0;34m\u001b[0m\u001b[0m\n",
      "\u001b[0;32m~/opt/anaconda3/lib/python3.8/site-packages/joblib/parallel.py\u001b[0m in \u001b[0;36m__call__\u001b[0;34m(self, iterable)\u001b[0m\n\u001b[1;32m   1027\u001b[0m             \u001b[0;31m# remaining jobs.\u001b[0m\u001b[0;34m\u001b[0m\u001b[0;34m\u001b[0m\u001b[0;34m\u001b[0m\u001b[0m\n\u001b[1;32m   1028\u001b[0m             \u001b[0mself\u001b[0m\u001b[0;34m.\u001b[0m\u001b[0m_iterating\u001b[0m \u001b[0;34m=\u001b[0m \u001b[0;32mFalse\u001b[0m\u001b[0;34m\u001b[0m\u001b[0;34m\u001b[0m\u001b[0m\n\u001b[0;32m-> 1029\u001b[0;31m             \u001b[0;32mif\u001b[0m \u001b[0mself\u001b[0m\u001b[0;34m.\u001b[0m\u001b[0mdispatch_one_batch\u001b[0m\u001b[0;34m(\u001b[0m\u001b[0miterator\u001b[0m\u001b[0;34m)\u001b[0m\u001b[0;34m:\u001b[0m\u001b[0;34m\u001b[0m\u001b[0;34m\u001b[0m\u001b[0m\n\u001b[0m\u001b[1;32m   1030\u001b[0m                 \u001b[0mself\u001b[0m\u001b[0;34m.\u001b[0m\u001b[0m_iterating\u001b[0m \u001b[0;34m=\u001b[0m \u001b[0mself\u001b[0m\u001b[0;34m.\u001b[0m\u001b[0m_original_iterator\u001b[0m \u001b[0;32mis\u001b[0m \u001b[0;32mnot\u001b[0m \u001b[0;32mNone\u001b[0m\u001b[0;34m\u001b[0m\u001b[0;34m\u001b[0m\u001b[0m\n\u001b[1;32m   1031\u001b[0m \u001b[0;34m\u001b[0m\u001b[0m\n",
      "\u001b[0;32m~/opt/anaconda3/lib/python3.8/site-packages/joblib/parallel.py\u001b[0m in \u001b[0;36mdispatch_one_batch\u001b[0;34m(self, iterator)\u001b[0m\n\u001b[1;32m    845\u001b[0m                 \u001b[0;32mreturn\u001b[0m \u001b[0;32mFalse\u001b[0m\u001b[0;34m\u001b[0m\u001b[0;34m\u001b[0m\u001b[0m\n\u001b[1;32m    846\u001b[0m             \u001b[0;32melse\u001b[0m\u001b[0;34m:\u001b[0m\u001b[0;34m\u001b[0m\u001b[0;34m\u001b[0m\u001b[0m\n\u001b[0;32m--> 847\u001b[0;31m                 \u001b[0mself\u001b[0m\u001b[0;34m.\u001b[0m\u001b[0m_dispatch\u001b[0m\u001b[0;34m(\u001b[0m\u001b[0mtasks\u001b[0m\u001b[0;34m)\u001b[0m\u001b[0;34m\u001b[0m\u001b[0;34m\u001b[0m\u001b[0m\n\u001b[0m\u001b[1;32m    848\u001b[0m                 \u001b[0;32mreturn\u001b[0m \u001b[0;32mTrue\u001b[0m\u001b[0;34m\u001b[0m\u001b[0;34m\u001b[0m\u001b[0m\n\u001b[1;32m    849\u001b[0m \u001b[0;34m\u001b[0m\u001b[0m\n",
      "\u001b[0;32m~/opt/anaconda3/lib/python3.8/site-packages/joblib/parallel.py\u001b[0m in \u001b[0;36m_dispatch\u001b[0;34m(self, batch)\u001b[0m\n\u001b[1;32m    763\u001b[0m         \u001b[0;32mwith\u001b[0m \u001b[0mself\u001b[0m\u001b[0;34m.\u001b[0m\u001b[0m_lock\u001b[0m\u001b[0;34m:\u001b[0m\u001b[0;34m\u001b[0m\u001b[0;34m\u001b[0m\u001b[0m\n\u001b[1;32m    764\u001b[0m             \u001b[0mjob_idx\u001b[0m \u001b[0;34m=\u001b[0m \u001b[0mlen\u001b[0m\u001b[0;34m(\u001b[0m\u001b[0mself\u001b[0m\u001b[0;34m.\u001b[0m\u001b[0m_jobs\u001b[0m\u001b[0;34m)\u001b[0m\u001b[0;34m\u001b[0m\u001b[0;34m\u001b[0m\u001b[0m\n\u001b[0;32m--> 765\u001b[0;31m             \u001b[0mjob\u001b[0m \u001b[0;34m=\u001b[0m \u001b[0mself\u001b[0m\u001b[0;34m.\u001b[0m\u001b[0m_backend\u001b[0m\u001b[0;34m.\u001b[0m\u001b[0mapply_async\u001b[0m\u001b[0;34m(\u001b[0m\u001b[0mbatch\u001b[0m\u001b[0;34m,\u001b[0m \u001b[0mcallback\u001b[0m\u001b[0;34m=\u001b[0m\u001b[0mcb\u001b[0m\u001b[0;34m)\u001b[0m\u001b[0;34m\u001b[0m\u001b[0;34m\u001b[0m\u001b[0m\n\u001b[0m\u001b[1;32m    766\u001b[0m             \u001b[0;31m# A job can complete so quickly than its callback is\u001b[0m\u001b[0;34m\u001b[0m\u001b[0;34m\u001b[0m\u001b[0;34m\u001b[0m\u001b[0m\n\u001b[1;32m    767\u001b[0m             \u001b[0;31m# called before we get here, causing self._jobs to\u001b[0m\u001b[0;34m\u001b[0m\u001b[0;34m\u001b[0m\u001b[0;34m\u001b[0m\u001b[0m\n",
      "\u001b[0;32m~/opt/anaconda3/lib/python3.8/site-packages/joblib/_parallel_backends.py\u001b[0m in \u001b[0;36mapply_async\u001b[0;34m(self, func, callback)\u001b[0m\n\u001b[1;32m    206\u001b[0m     \u001b[0;32mdef\u001b[0m \u001b[0mapply_async\u001b[0m\u001b[0;34m(\u001b[0m\u001b[0mself\u001b[0m\u001b[0;34m,\u001b[0m \u001b[0mfunc\u001b[0m\u001b[0;34m,\u001b[0m \u001b[0mcallback\u001b[0m\u001b[0;34m=\u001b[0m\u001b[0;32mNone\u001b[0m\u001b[0;34m)\u001b[0m\u001b[0;34m:\u001b[0m\u001b[0;34m\u001b[0m\u001b[0;34m\u001b[0m\u001b[0m\n\u001b[1;32m    207\u001b[0m         \u001b[0;34m\"\"\"Schedule a func to be run\"\"\"\u001b[0m\u001b[0;34m\u001b[0m\u001b[0;34m\u001b[0m\u001b[0m\n\u001b[0;32m--> 208\u001b[0;31m         \u001b[0mresult\u001b[0m \u001b[0;34m=\u001b[0m \u001b[0mImmediateResult\u001b[0m\u001b[0;34m(\u001b[0m\u001b[0mfunc\u001b[0m\u001b[0;34m)\u001b[0m\u001b[0;34m\u001b[0m\u001b[0;34m\u001b[0m\u001b[0m\n\u001b[0m\u001b[1;32m    209\u001b[0m         \u001b[0;32mif\u001b[0m \u001b[0mcallback\u001b[0m\u001b[0;34m:\u001b[0m\u001b[0;34m\u001b[0m\u001b[0;34m\u001b[0m\u001b[0m\n\u001b[1;32m    210\u001b[0m             \u001b[0mcallback\u001b[0m\u001b[0;34m(\u001b[0m\u001b[0mresult\u001b[0m\u001b[0;34m)\u001b[0m\u001b[0;34m\u001b[0m\u001b[0;34m\u001b[0m\u001b[0m\n",
      "\u001b[0;32m~/opt/anaconda3/lib/python3.8/site-packages/joblib/_parallel_backends.py\u001b[0m in \u001b[0;36m__init__\u001b[0;34m(self, batch)\u001b[0m\n\u001b[1;32m    570\u001b[0m         \u001b[0;31m# Don't delay the application, to avoid keeping the input\u001b[0m\u001b[0;34m\u001b[0m\u001b[0;34m\u001b[0m\u001b[0;34m\u001b[0m\u001b[0m\n\u001b[1;32m    571\u001b[0m         \u001b[0;31m# arguments in memory\u001b[0m\u001b[0;34m\u001b[0m\u001b[0;34m\u001b[0m\u001b[0;34m\u001b[0m\u001b[0m\n\u001b[0;32m--> 572\u001b[0;31m         \u001b[0mself\u001b[0m\u001b[0;34m.\u001b[0m\u001b[0mresults\u001b[0m \u001b[0;34m=\u001b[0m \u001b[0mbatch\u001b[0m\u001b[0;34m(\u001b[0m\u001b[0;34m)\u001b[0m\u001b[0;34m\u001b[0m\u001b[0;34m\u001b[0m\u001b[0m\n\u001b[0m\u001b[1;32m    573\u001b[0m \u001b[0;34m\u001b[0m\u001b[0m\n\u001b[1;32m    574\u001b[0m     \u001b[0;32mdef\u001b[0m \u001b[0mget\u001b[0m\u001b[0;34m(\u001b[0m\u001b[0mself\u001b[0m\u001b[0;34m)\u001b[0m\u001b[0;34m:\u001b[0m\u001b[0;34m\u001b[0m\u001b[0;34m\u001b[0m\u001b[0m\n",
      "\u001b[0;32m~/opt/anaconda3/lib/python3.8/site-packages/joblib/parallel.py\u001b[0m in \u001b[0;36m__call__\u001b[0;34m(self)\u001b[0m\n\u001b[1;32m    250\u001b[0m         \u001b[0;31m# change the default number of processes to -1\u001b[0m\u001b[0;34m\u001b[0m\u001b[0;34m\u001b[0m\u001b[0;34m\u001b[0m\u001b[0m\n\u001b[1;32m    251\u001b[0m         \u001b[0;32mwith\u001b[0m \u001b[0mparallel_backend\u001b[0m\u001b[0;34m(\u001b[0m\u001b[0mself\u001b[0m\u001b[0;34m.\u001b[0m\u001b[0m_backend\u001b[0m\u001b[0;34m,\u001b[0m \u001b[0mn_jobs\u001b[0m\u001b[0;34m=\u001b[0m\u001b[0mself\u001b[0m\u001b[0;34m.\u001b[0m\u001b[0m_n_jobs\u001b[0m\u001b[0;34m)\u001b[0m\u001b[0;34m:\u001b[0m\u001b[0;34m\u001b[0m\u001b[0;34m\u001b[0m\u001b[0m\n\u001b[0;32m--> 252\u001b[0;31m             return [func(*args, **kwargs)\n\u001b[0m\u001b[1;32m    253\u001b[0m                     for func, args, kwargs in self.items]\n\u001b[1;32m    254\u001b[0m \u001b[0;34m\u001b[0m\u001b[0m\n",
      "\u001b[0;32m~/opt/anaconda3/lib/python3.8/site-packages/joblib/parallel.py\u001b[0m in \u001b[0;36m<listcomp>\u001b[0;34m(.0)\u001b[0m\n\u001b[1;32m    250\u001b[0m         \u001b[0;31m# change the default number of processes to -1\u001b[0m\u001b[0;34m\u001b[0m\u001b[0;34m\u001b[0m\u001b[0;34m\u001b[0m\u001b[0m\n\u001b[1;32m    251\u001b[0m         \u001b[0;32mwith\u001b[0m \u001b[0mparallel_backend\u001b[0m\u001b[0;34m(\u001b[0m\u001b[0mself\u001b[0m\u001b[0;34m.\u001b[0m\u001b[0m_backend\u001b[0m\u001b[0;34m,\u001b[0m \u001b[0mn_jobs\u001b[0m\u001b[0;34m=\u001b[0m\u001b[0mself\u001b[0m\u001b[0;34m.\u001b[0m\u001b[0m_n_jobs\u001b[0m\u001b[0;34m)\u001b[0m\u001b[0;34m:\u001b[0m\u001b[0;34m\u001b[0m\u001b[0;34m\u001b[0m\u001b[0m\n\u001b[0;32m--> 252\u001b[0;31m             return [func(*args, **kwargs)\n\u001b[0m\u001b[1;32m    253\u001b[0m                     for func, args, kwargs in self.items]\n\u001b[1;32m    254\u001b[0m \u001b[0;34m\u001b[0m\u001b[0m\n",
      "\u001b[0;32m~/opt/anaconda3/lib/python3.8/site-packages/sklearn/model_selection/_validation.py\u001b[0m in \u001b[0;36m_fit_and_score\u001b[0;34m(estimator, X, y, scorer, train, test, verbose, parameters, fit_params, return_train_score, return_parameters, return_n_test_samples, return_times, return_estimator, error_score)\u001b[0m\n\u001b[1;32m    529\u001b[0m             \u001b[0mestimator\u001b[0m\u001b[0;34m.\u001b[0m\u001b[0mfit\u001b[0m\u001b[0;34m(\u001b[0m\u001b[0mX_train\u001b[0m\u001b[0;34m,\u001b[0m \u001b[0;34m**\u001b[0m\u001b[0mfit_params\u001b[0m\u001b[0;34m)\u001b[0m\u001b[0;34m\u001b[0m\u001b[0;34m\u001b[0m\u001b[0m\n\u001b[1;32m    530\u001b[0m         \u001b[0;32melse\u001b[0m\u001b[0;34m:\u001b[0m\u001b[0;34m\u001b[0m\u001b[0;34m\u001b[0m\u001b[0m\n\u001b[0;32m--> 531\u001b[0;31m             \u001b[0mestimator\u001b[0m\u001b[0;34m.\u001b[0m\u001b[0mfit\u001b[0m\u001b[0;34m(\u001b[0m\u001b[0mX_train\u001b[0m\u001b[0;34m,\u001b[0m \u001b[0my_train\u001b[0m\u001b[0;34m,\u001b[0m \u001b[0;34m**\u001b[0m\u001b[0mfit_params\u001b[0m\u001b[0;34m)\u001b[0m\u001b[0;34m\u001b[0m\u001b[0;34m\u001b[0m\u001b[0m\n\u001b[0m\u001b[1;32m    532\u001b[0m \u001b[0;34m\u001b[0m\u001b[0m\n\u001b[1;32m    533\u001b[0m     \u001b[0;32mexcept\u001b[0m \u001b[0mException\u001b[0m \u001b[0;32mas\u001b[0m \u001b[0me\u001b[0m\u001b[0;34m:\u001b[0m\u001b[0;34m\u001b[0m\u001b[0;34m\u001b[0m\u001b[0m\n",
      "\u001b[0;32m~/opt/anaconda3/lib/python3.8/site-packages/imblearn/pipeline.py\u001b[0m in \u001b[0;36mfit\u001b[0;34m(self, X, y, **fit_params)\u001b[0m\n\u001b[1;32m    275\u001b[0m             \u001b[0mThis\u001b[0m \u001b[0mestimator\u001b[0m\u001b[0;34m.\u001b[0m\u001b[0;34m\u001b[0m\u001b[0;34m\u001b[0m\u001b[0m\n\u001b[1;32m    276\u001b[0m         \"\"\"\n\u001b[0;32m--> 277\u001b[0;31m         \u001b[0mXt\u001b[0m\u001b[0;34m,\u001b[0m \u001b[0myt\u001b[0m\u001b[0;34m,\u001b[0m \u001b[0mfit_params\u001b[0m \u001b[0;34m=\u001b[0m \u001b[0mself\u001b[0m\u001b[0;34m.\u001b[0m\u001b[0m_fit\u001b[0m\u001b[0;34m(\u001b[0m\u001b[0mX\u001b[0m\u001b[0;34m,\u001b[0m \u001b[0my\u001b[0m\u001b[0;34m,\u001b[0m \u001b[0;34m**\u001b[0m\u001b[0mfit_params\u001b[0m\u001b[0;34m)\u001b[0m\u001b[0;34m\u001b[0m\u001b[0;34m\u001b[0m\u001b[0m\n\u001b[0m\u001b[1;32m    278\u001b[0m         with _print_elapsed_time('Pipeline',\n\u001b[1;32m    279\u001b[0m                                  self._log_message(len(self.steps) - 1)):\n",
      "\u001b[0;32m~/opt/anaconda3/lib/python3.8/site-packages/imblearn/pipeline.py\u001b[0m in \u001b[0;36m_fit\u001b[0;34m(self, X, y, **fit_params)\u001b[0m\n\u001b[1;32m    227\u001b[0m                 \u001b[0mcloned_transformer\u001b[0m\u001b[0;34m,\u001b[0m \u001b[0;34m\"fit_transform\"\u001b[0m\u001b[0;34m\u001b[0m\u001b[0;34m\u001b[0m\u001b[0m\n\u001b[1;32m    228\u001b[0m             ):\n\u001b[0;32m--> 229\u001b[0;31m                 X, fitted_transformer = fit_transform_one_cached(\n\u001b[0m\u001b[1;32m    230\u001b[0m                     \u001b[0mcloned_transformer\u001b[0m\u001b[0;34m,\u001b[0m \u001b[0mX\u001b[0m\u001b[0;34m,\u001b[0m \u001b[0my\u001b[0m\u001b[0;34m,\u001b[0m \u001b[0;32mNone\u001b[0m\u001b[0;34m,\u001b[0m\u001b[0;34m\u001b[0m\u001b[0;34m\u001b[0m\u001b[0m\n\u001b[1;32m    231\u001b[0m                     \u001b[0mmessage_clsname\u001b[0m\u001b[0;34m=\u001b[0m\u001b[0;34m'Pipeline'\u001b[0m\u001b[0;34m,\u001b[0m\u001b[0;34m\u001b[0m\u001b[0;34m\u001b[0m\u001b[0m\n",
      "\u001b[0;32m~/opt/anaconda3/lib/python3.8/site-packages/joblib/memory.py\u001b[0m in \u001b[0;36m__call__\u001b[0;34m(self, *args, **kwargs)\u001b[0m\n\u001b[1;32m    350\u001b[0m \u001b[0;34m\u001b[0m\u001b[0m\n\u001b[1;32m    351\u001b[0m     \u001b[0;32mdef\u001b[0m \u001b[0m__call__\u001b[0m\u001b[0;34m(\u001b[0m\u001b[0mself\u001b[0m\u001b[0;34m,\u001b[0m \u001b[0;34m*\u001b[0m\u001b[0margs\u001b[0m\u001b[0;34m,\u001b[0m \u001b[0;34m**\u001b[0m\u001b[0mkwargs\u001b[0m\u001b[0;34m)\u001b[0m\u001b[0;34m:\u001b[0m\u001b[0;34m\u001b[0m\u001b[0;34m\u001b[0m\u001b[0m\n\u001b[0;32m--> 352\u001b[0;31m         \u001b[0;32mreturn\u001b[0m \u001b[0mself\u001b[0m\u001b[0;34m.\u001b[0m\u001b[0mfunc\u001b[0m\u001b[0;34m(\u001b[0m\u001b[0;34m*\u001b[0m\u001b[0margs\u001b[0m\u001b[0;34m,\u001b[0m \u001b[0;34m**\u001b[0m\u001b[0mkwargs\u001b[0m\u001b[0;34m)\u001b[0m\u001b[0;34m\u001b[0m\u001b[0;34m\u001b[0m\u001b[0m\n\u001b[0m\u001b[1;32m    353\u001b[0m \u001b[0;34m\u001b[0m\u001b[0m\n\u001b[1;32m    354\u001b[0m     \u001b[0;32mdef\u001b[0m \u001b[0mcall_and_shelve\u001b[0m\u001b[0;34m(\u001b[0m\u001b[0mself\u001b[0m\u001b[0;34m,\u001b[0m \u001b[0;34m*\u001b[0m\u001b[0margs\u001b[0m\u001b[0;34m,\u001b[0m \u001b[0;34m**\u001b[0m\u001b[0mkwargs\u001b[0m\u001b[0;34m)\u001b[0m\u001b[0;34m:\u001b[0m\u001b[0;34m\u001b[0m\u001b[0;34m\u001b[0m\u001b[0m\n",
      "\u001b[0;32m~/opt/anaconda3/lib/python3.8/site-packages/sklearn/pipeline.py\u001b[0m in \u001b[0;36m_fit_transform_one\u001b[0;34m(transformer, X, y, weight, message_clsname, message, **fit_params)\u001b[0m\n\u001b[1;32m    738\u001b[0m     \u001b[0;32mwith\u001b[0m \u001b[0m_print_elapsed_time\u001b[0m\u001b[0;34m(\u001b[0m\u001b[0mmessage_clsname\u001b[0m\u001b[0;34m,\u001b[0m \u001b[0mmessage\u001b[0m\u001b[0;34m)\u001b[0m\u001b[0;34m:\u001b[0m\u001b[0;34m\u001b[0m\u001b[0;34m\u001b[0m\u001b[0m\n\u001b[1;32m    739\u001b[0m         \u001b[0;32mif\u001b[0m \u001b[0mhasattr\u001b[0m\u001b[0;34m(\u001b[0m\u001b[0mtransformer\u001b[0m\u001b[0;34m,\u001b[0m \u001b[0;34m'fit_transform'\u001b[0m\u001b[0;34m)\u001b[0m\u001b[0;34m:\u001b[0m\u001b[0;34m\u001b[0m\u001b[0;34m\u001b[0m\u001b[0m\n\u001b[0;32m--> 740\u001b[0;31m             \u001b[0mres\u001b[0m \u001b[0;34m=\u001b[0m \u001b[0mtransformer\u001b[0m\u001b[0;34m.\u001b[0m\u001b[0mfit_transform\u001b[0m\u001b[0;34m(\u001b[0m\u001b[0mX\u001b[0m\u001b[0;34m,\u001b[0m \u001b[0my\u001b[0m\u001b[0;34m,\u001b[0m \u001b[0;34m**\u001b[0m\u001b[0mfit_params\u001b[0m\u001b[0;34m)\u001b[0m\u001b[0;34m\u001b[0m\u001b[0;34m\u001b[0m\u001b[0m\n\u001b[0m\u001b[1;32m    741\u001b[0m         \u001b[0;32melse\u001b[0m\u001b[0;34m:\u001b[0m\u001b[0;34m\u001b[0m\u001b[0;34m\u001b[0m\u001b[0m\n\u001b[1;32m    742\u001b[0m             \u001b[0mres\u001b[0m \u001b[0;34m=\u001b[0m \u001b[0mtransformer\u001b[0m\u001b[0;34m.\u001b[0m\u001b[0mfit\u001b[0m\u001b[0;34m(\u001b[0m\u001b[0mX\u001b[0m\u001b[0;34m,\u001b[0m \u001b[0my\u001b[0m\u001b[0;34m,\u001b[0m \u001b[0;34m**\u001b[0m\u001b[0mfit_params\u001b[0m\u001b[0;34m)\u001b[0m\u001b[0;34m.\u001b[0m\u001b[0mtransform\u001b[0m\u001b[0;34m(\u001b[0m\u001b[0mX\u001b[0m\u001b[0;34m)\u001b[0m\u001b[0;34m\u001b[0m\u001b[0;34m\u001b[0m\u001b[0m\n",
      "\u001b[0;32m<ipython-input-39-2a3619643a7f>\u001b[0m in \u001b[0;36mfit_transform\u001b[0;34m(self, raw_documents, y)\u001b[0m\n\u001b[1;32m     33\u001b[0m \u001b[0;34m\u001b[0m\u001b[0m\n\u001b[1;32m     34\u001b[0m     \u001b[0;32mdef\u001b[0m \u001b[0mfit_transform\u001b[0m\u001b[0;34m(\u001b[0m\u001b[0mself\u001b[0m\u001b[0;34m,\u001b[0m \u001b[0mraw_documents\u001b[0m\u001b[0;34m,\u001b[0m \u001b[0my\u001b[0m\u001b[0;34m=\u001b[0m\u001b[0;32mNone\u001b[0m\u001b[0;34m)\u001b[0m\u001b[0;34m:\u001b[0m\u001b[0;34m\u001b[0m\u001b[0;34m\u001b[0m\u001b[0m\n\u001b[0;32m---> 35\u001b[0;31m         \u001b[0mself\u001b[0m\u001b[0;34m.\u001b[0m\u001b[0mfit\u001b[0m\u001b[0;34m(\u001b[0m\u001b[0mraw_documents\u001b[0m\u001b[0;34m)\u001b[0m\u001b[0;34m\u001b[0m\u001b[0;34m\u001b[0m\u001b[0m\n\u001b[0m\u001b[1;32m     36\u001b[0m         \u001b[0;32mreturn\u001b[0m \u001b[0mself\u001b[0m\u001b[0;34m.\u001b[0m\u001b[0mtransform\u001b[0m\u001b[0;34m(\u001b[0m\u001b[0mraw_documents\u001b[0m\u001b[0;34m)\u001b[0m\u001b[0;34m\u001b[0m\u001b[0;34m\u001b[0m\u001b[0m\n",
      "\u001b[0;32m<ipython-input-39-2a3619643a7f>\u001b[0m in \u001b[0;36mfit\u001b[0;34m(self, raw_documents, y)\u001b[0m\n\u001b[1;32m     19\u001b[0m \u001b[0;34m\u001b[0m\u001b[0m\n\u001b[1;32m     20\u001b[0m         \u001b[0;31m# Build vocabulary\u001b[0m\u001b[0;34m\u001b[0m\u001b[0;34m\u001b[0m\u001b[0;34m\u001b[0m\u001b[0m\n\u001b[0;32m---> 21\u001b[0;31m         \u001b[0mself\u001b[0m\u001b[0;34m.\u001b[0m\u001b[0md2v_model\u001b[0m\u001b[0;34m.\u001b[0m\u001b[0mbuild_vocab\u001b[0m\u001b[0;34m(\u001b[0m\u001b[0mtagged_documents\u001b[0m\u001b[0;34m)\u001b[0m\u001b[0;34m\u001b[0m\u001b[0;34m\u001b[0m\u001b[0m\n\u001b[0m\u001b[1;32m     22\u001b[0m         \u001b[0;31m# Train model\u001b[0m\u001b[0;34m\u001b[0m\u001b[0;34m\u001b[0m\u001b[0;34m\u001b[0m\u001b[0m\n\u001b[1;32m     23\u001b[0m         \u001b[0mself\u001b[0m\u001b[0;34m.\u001b[0m\u001b[0md2v_model\u001b[0m\u001b[0;34m.\u001b[0m\u001b[0mtrain\u001b[0m\u001b[0;34m(\u001b[0m\u001b[0mtagged_documents\u001b[0m\u001b[0;34m,\u001b[0m \u001b[0mtotal_examples\u001b[0m\u001b[0;34m=\u001b[0m\u001b[0mlen\u001b[0m\u001b[0;34m(\u001b[0m\u001b[0mtagged_documents\u001b[0m\u001b[0;34m)\u001b[0m\u001b[0;34m,\u001b[0m \u001b[0mepochs\u001b[0m\u001b[0;34m=\u001b[0m\u001b[0mself\u001b[0m\u001b[0;34m.\u001b[0m\u001b[0md2v_model\u001b[0m\u001b[0;34m.\u001b[0m\u001b[0mepochs\u001b[0m\u001b[0;34m)\u001b[0m\u001b[0;34m\u001b[0m\u001b[0;34m\u001b[0m\u001b[0m\n",
      "\u001b[0;32m~/opt/anaconda3/lib/python3.8/site-packages/gensim/models/doc2vec.py\u001b[0m in \u001b[0;36mbuild_vocab\u001b[0;34m(self, documents, corpus_file, update, progress_per, keep_raw_vocab, trim_rule, **kwargs)\u001b[0m\n\u001b[1;32m    935\u001b[0m \u001b[0;34m\u001b[0m\u001b[0m\n\u001b[1;32m    936\u001b[0m         \u001b[0mreport_values\u001b[0m\u001b[0;34m[\u001b[0m\u001b[0;34m'memory'\u001b[0m\u001b[0;34m]\u001b[0m \u001b[0;34m=\u001b[0m \u001b[0mself\u001b[0m\u001b[0;34m.\u001b[0m\u001b[0mestimate_memory\u001b[0m\u001b[0;34m(\u001b[0m\u001b[0mvocab_size\u001b[0m\u001b[0;34m=\u001b[0m\u001b[0mreport_values\u001b[0m\u001b[0;34m[\u001b[0m\u001b[0;34m'num_retained_words'\u001b[0m\u001b[0;34m]\u001b[0m\u001b[0;34m)\u001b[0m\u001b[0;34m\u001b[0m\u001b[0;34m\u001b[0m\u001b[0m\n\u001b[0;32m--> 937\u001b[0;31m         self.trainables.prepare_weights(\n\u001b[0m\u001b[1;32m    938\u001b[0m             self.hs, self.negative, self.wv, self.docvecs, update=update)\n\u001b[1;32m    939\u001b[0m \u001b[0;34m\u001b[0m\u001b[0m\n",
      "\u001b[0;32m~/opt/anaconda3/lib/python3.8/site-packages/gensim/models/doc2vec.py\u001b[0m in \u001b[0;36mprepare_weights\u001b[0;34m(self, hs, negative, wv, docvecs, update)\u001b[0m\n\u001b[1;32m   1187\u001b[0m         \u001b[0;31m# set initial input/projection and hidden weights\u001b[0m\u001b[0;34m\u001b[0m\u001b[0;34m\u001b[0m\u001b[0;34m\u001b[0m\u001b[0m\n\u001b[1;32m   1188\u001b[0m         \u001b[0;32mif\u001b[0m \u001b[0;32mnot\u001b[0m \u001b[0mupdate\u001b[0m\u001b[0;34m:\u001b[0m\u001b[0;34m\u001b[0m\u001b[0;34m\u001b[0m\u001b[0m\n\u001b[0;32m-> 1189\u001b[0;31m             \u001b[0mself\u001b[0m\u001b[0;34m.\u001b[0m\u001b[0mreset_weights\u001b[0m\u001b[0;34m(\u001b[0m\u001b[0mhs\u001b[0m\u001b[0;34m,\u001b[0m \u001b[0mnegative\u001b[0m\u001b[0;34m,\u001b[0m \u001b[0mwv\u001b[0m\u001b[0;34m,\u001b[0m \u001b[0mdocvecs\u001b[0m\u001b[0;34m)\u001b[0m\u001b[0;34m\u001b[0m\u001b[0;34m\u001b[0m\u001b[0m\n\u001b[0m\u001b[1;32m   1190\u001b[0m         \u001b[0;32melse\u001b[0m\u001b[0;34m:\u001b[0m\u001b[0;34m\u001b[0m\u001b[0;34m\u001b[0m\u001b[0m\n\u001b[1;32m   1191\u001b[0m             \u001b[0mself\u001b[0m\u001b[0;34m.\u001b[0m\u001b[0mupdate_weights\u001b[0m\u001b[0;34m(\u001b[0m\u001b[0mhs\u001b[0m\u001b[0;34m,\u001b[0m \u001b[0mnegative\u001b[0m\u001b[0;34m,\u001b[0m \u001b[0mwv\u001b[0m\u001b[0;34m)\u001b[0m\u001b[0;34m\u001b[0m\u001b[0;34m\u001b[0m\u001b[0m\n",
      "\u001b[0;32m~/opt/anaconda3/lib/python3.8/site-packages/gensim/models/doc2vec.py\u001b[0m in \u001b[0;36mreset_weights\u001b[0;34m(self, hs, negative, wv, docvecs, vocabulary)\u001b[0m\n\u001b[1;32m   1193\u001b[0m     \u001b[0;32mdef\u001b[0m \u001b[0mreset_weights\u001b[0m\u001b[0;34m(\u001b[0m\u001b[0mself\u001b[0m\u001b[0;34m,\u001b[0m \u001b[0mhs\u001b[0m\u001b[0;34m,\u001b[0m \u001b[0mnegative\u001b[0m\u001b[0;34m,\u001b[0m \u001b[0mwv\u001b[0m\u001b[0;34m,\u001b[0m \u001b[0mdocvecs\u001b[0m\u001b[0;34m,\u001b[0m \u001b[0mvocabulary\u001b[0m\u001b[0;34m=\u001b[0m\u001b[0;32mNone\u001b[0m\u001b[0;34m)\u001b[0m\u001b[0;34m:\u001b[0m\u001b[0;34m\u001b[0m\u001b[0;34m\u001b[0m\u001b[0m\n\u001b[1;32m   1194\u001b[0m         \u001b[0msuper\u001b[0m\u001b[0;34m(\u001b[0m\u001b[0mDoc2VecTrainables\u001b[0m\u001b[0;34m,\u001b[0m \u001b[0mself\u001b[0m\u001b[0;34m)\u001b[0m\u001b[0;34m.\u001b[0m\u001b[0mreset_weights\u001b[0m\u001b[0;34m(\u001b[0m\u001b[0mhs\u001b[0m\u001b[0;34m,\u001b[0m \u001b[0mnegative\u001b[0m\u001b[0;34m,\u001b[0m \u001b[0mwv\u001b[0m\u001b[0;34m)\u001b[0m\u001b[0;34m\u001b[0m\u001b[0;34m\u001b[0m\u001b[0m\n\u001b[0;32m-> 1195\u001b[0;31m         \u001b[0mself\u001b[0m\u001b[0;34m.\u001b[0m\u001b[0mreset_doc_weights\u001b[0m\u001b[0;34m(\u001b[0m\u001b[0mdocvecs\u001b[0m\u001b[0;34m)\u001b[0m\u001b[0;34m\u001b[0m\u001b[0;34m\u001b[0m\u001b[0m\n\u001b[0m\u001b[1;32m   1196\u001b[0m \u001b[0;34m\u001b[0m\u001b[0m\n\u001b[1;32m   1197\u001b[0m     \u001b[0;32mdef\u001b[0m \u001b[0mreset_doc_weights\u001b[0m\u001b[0;34m(\u001b[0m\u001b[0mself\u001b[0m\u001b[0;34m,\u001b[0m \u001b[0mdocvecs\u001b[0m\u001b[0;34m)\u001b[0m\u001b[0;34m:\u001b[0m\u001b[0;34m\u001b[0m\u001b[0;34m\u001b[0m\u001b[0m\n",
      "\u001b[0;32m~/opt/anaconda3/lib/python3.8/site-packages/gensim/models/doc2vec.py\u001b[0m in \u001b[0;36mreset_doc_weights\u001b[0;34m(self, docvecs)\u001b[0m\n\u001b[1;32m   1213\u001b[0m             seed = \"%d %s\" % (\n\u001b[1;32m   1214\u001b[0m                 self.seed, Doc2VecKeyedVectors._index_to_doctag(i, docvecs.offset2doctag, docvecs.max_rawint))\n\u001b[0;32m-> 1215\u001b[0;31m             \u001b[0mdocvecs\u001b[0m\u001b[0;34m.\u001b[0m\u001b[0mvectors_docs\u001b[0m\u001b[0;34m[\u001b[0m\u001b[0mi\u001b[0m\u001b[0;34m]\u001b[0m \u001b[0;34m=\u001b[0m \u001b[0mself\u001b[0m\u001b[0;34m.\u001b[0m\u001b[0mseeded_vector\u001b[0m\u001b[0;34m(\u001b[0m\u001b[0mseed\u001b[0m\u001b[0;34m,\u001b[0m \u001b[0mdocvecs\u001b[0m\u001b[0;34m.\u001b[0m\u001b[0mvector_size\u001b[0m\u001b[0;34m)\u001b[0m\u001b[0;34m\u001b[0m\u001b[0;34m\u001b[0m\u001b[0m\n\u001b[0m\u001b[1;32m   1216\u001b[0m \u001b[0;34m\u001b[0m\u001b[0m\n\u001b[1;32m   1217\u001b[0m     \u001b[0;32mdef\u001b[0m \u001b[0mget_doctag_trainables\u001b[0m\u001b[0;34m(\u001b[0m\u001b[0mself\u001b[0m\u001b[0;34m,\u001b[0m \u001b[0mdoc_words\u001b[0m\u001b[0;34m,\u001b[0m \u001b[0mvector_size\u001b[0m\u001b[0;34m)\u001b[0m\u001b[0;34m:\u001b[0m\u001b[0;34m\u001b[0m\u001b[0;34m\u001b[0m\u001b[0m\n",
      "\u001b[0;32m~/opt/anaconda3/lib/python3.8/site-packages/gensim/models/word2vec.py\u001b[0m in \u001b[0;36mseeded_vector\u001b[0;34m(self, seed_string, vector_size)\u001b[0m\n\u001b[1;32m   1692\u001b[0m         \u001b[0;34m\"\"\"Get a random vector (but deterministic by seed_string).\"\"\"\u001b[0m\u001b[0;34m\u001b[0m\u001b[0;34m\u001b[0m\u001b[0m\n\u001b[1;32m   1693\u001b[0m         \u001b[0;31m# Note: built-in hash() may vary by Python version or even (in Py3.x) per launch\u001b[0m\u001b[0;34m\u001b[0m\u001b[0;34m\u001b[0m\u001b[0;34m\u001b[0m\u001b[0m\n\u001b[0;32m-> 1694\u001b[0;31m         \u001b[0monce\u001b[0m \u001b[0;34m=\u001b[0m \u001b[0mrandom\u001b[0m\u001b[0;34m.\u001b[0m\u001b[0mRandomState\u001b[0m\u001b[0;34m(\u001b[0m\u001b[0mself\u001b[0m\u001b[0;34m.\u001b[0m\u001b[0mhashfxn\u001b[0m\u001b[0;34m(\u001b[0m\u001b[0mseed_string\u001b[0m\u001b[0;34m)\u001b[0m \u001b[0;34m&\u001b[0m \u001b[0;36m0xffffffff\u001b[0m\u001b[0;34m)\u001b[0m\u001b[0;34m\u001b[0m\u001b[0;34m\u001b[0m\u001b[0m\n\u001b[0m\u001b[1;32m   1695\u001b[0m         \u001b[0;32mreturn\u001b[0m \u001b[0;34m(\u001b[0m\u001b[0monce\u001b[0m\u001b[0;34m.\u001b[0m\u001b[0mrand\u001b[0m\u001b[0;34m(\u001b[0m\u001b[0mvector_size\u001b[0m\u001b[0;34m)\u001b[0m \u001b[0;34m-\u001b[0m \u001b[0;36m0.5\u001b[0m\u001b[0;34m)\u001b[0m \u001b[0;34m/\u001b[0m \u001b[0mvector_size\u001b[0m\u001b[0;34m\u001b[0m\u001b[0;34m\u001b[0m\u001b[0m\n\u001b[1;32m   1696\u001b[0m \u001b[0;34m\u001b[0m\u001b[0m\n",
      "\u001b[0;31mKeyboardInterrupt\u001b[0m: "
     ]
    }
   ],
   "source": [
    "lr_d2v_params = {'doc2vec__vector_size': [100,200]\n",
    "}\n",
    "\n",
    "lr_d2v_pipe = Pipeline([('doc2vec', Doc2VecModel(workers=cores, dm=0)), ('lr', LogisticRegression(random_state=42, max_iter=1000))])\n",
    "\n",
    "lr_d2v_gs = GridSearchCV(lr_d2v_pipe, \n",
    "                        param_grid=lr_d2v_params,\n",
    "                        verbose=2,\n",
    "                        cv=5)\n",
    "\n",
    "# Fit the GridSearchCV object to the data.\n",
    "lr_d2v_gs.fit(Xtrain, ytrain)\n",
    "\n",
    "print(f'Finished and best params: {lr_d2v_gs.best_params_} and best score: {lr_d2v_gs.best_score_}.')"
   ]
  },
  {
   "cell_type": "markdown",
   "metadata": {},
   "source": [
    "##### Fitting with best params"
   ]
  },
  {
   "cell_type": "code",
   "execution_count": 45,
   "metadata": {
    "ExecuteTime": {
     "end_time": "2021-01-27T08:30:22.336318Z",
     "start_time": "2021-01-27T08:30:18.738951Z"
    }
   },
   "outputs": [],
   "source": [
    "train_tagged = [\n",
    "    TaggedDocument(words=word_tokenize(_d.lower()),\n",
    "                   tags=[str(i)])\n",
    "    for i, _d in enumerate(Xtrain)\n",
    "]\n",
    "\n",
    "val_tagged = [\n",
    "    TaggedDocument(words=word_tokenize(_d.lower()),\n",
    "                   tags=[str(i)])\n",
    "    for i, _d in enumerate(Xval)\n",
    "]"
   ]
  },
  {
   "cell_type": "code",
   "execution_count": 33,
   "metadata": {
    "ExecuteTime": {
     "end_time": "2021-01-27T07:57:22.605774Z",
     "start_time": "2021-01-27T07:57:22.602454Z"
    }
   },
   "outputs": [
    {
     "data": {
      "text/plain": [
       "[TaggedDocument(words=['jalapeno', 'chomperz', 'crunchy', 'seaweed', 'chips'], tags=['0']),\n",
       " TaggedDocument(words=['pesto', 'alla', 'genovese', 'pasta', 'sauce'], tags=['1']),\n",
       " TaggedDocument(words=['california', 'peach', 'lowfat', 'yogurt'], tags=['2']),\n",
       " TaggedDocument(words=['mocha', 'with', 'almond', 'milk', 'iced', 'coffee'], tags=['3']),\n",
       " TaggedDocument(words=['geranium', 'scented', 'multi-surface', 'everyday', 'spray', 'cleaner'], tags=['4'])]"
      ]
     },
     "execution_count": 33,
     "metadata": {},
     "output_type": "execute_result"
    }
   ],
   "source": [
    "train_tagged[:5]"
   ]
  },
  {
   "cell_type": "code",
   "execution_count": 34,
   "metadata": {
    "ExecuteTime": {
     "end_time": "2021-01-27T07:57:29.514188Z",
     "start_time": "2021-01-27T07:57:22.607476Z"
    }
   },
   "outputs": [
    {
     "name": "stderr",
     "output_type": "stream",
     "text": [
      "100%|██████████| 36322/36322 [00:00<00:00, 3434996.05it/s]\n"
     ]
    }
   ],
   "source": [
    "# Building Doc2Vec model\n",
    "lr_model_d2v = Doc2Vec(vector_size=200, dm=0, workers=cores)\n",
    "lr_model_d2v.build_vocab([x for x in tqdm(train_tagged)])"
   ]
  },
  {
   "cell_type": "code",
   "execution_count": 35,
   "metadata": {
    "ExecuteTime": {
     "end_time": "2021-01-27T07:59:16.078726Z",
     "start_time": "2021-01-27T07:57:29.516530Z"
    }
   },
   "outputs": [
    {
     "name": "stdout",
     "output_type": "stream",
     "text": [
      "CPU times: user 2 µs, sys: 0 ns, total: 2 µs\n",
      "Wall time: 7.15 µs\n"
     ]
    }
   ],
   "source": [
    "#Train Doc2Vec model\n",
    "%time\n",
    "for epoch in range(30):\n",
    "    lr_model_d2v.train(train_tagged, total_examples=lr_model_d2v.corpus_count, epochs=lr_model_d2v.epochs)"
   ]
  },
  {
   "cell_type": "code",
   "execution_count": 36,
   "metadata": {
    "ExecuteTime": {
     "end_time": "2021-01-27T07:59:16.180818Z",
     "start_time": "2021-01-27T07:59:16.080527Z"
    }
   },
   "outputs": [
    {
     "data": {
      "text/plain": [
       "array([[-0.15918581, -0.09649886, -0.13357653, ..., -0.10301879,\n",
       "         0.04833793,  0.47126016],\n",
       "       [-0.0895917 , -0.29506344, -0.07562263, ..., -0.1057526 ,\n",
       "         0.05153437,  0.17427756],\n",
       "       [-0.16252813, -0.00469088,  0.24340214, ...,  0.07630552,\n",
       "         0.21427163,  0.06844027],\n",
       "       ...,\n",
       "       [-0.28914493, -0.15181713,  0.04238746, ..., -0.04216402,\n",
       "         0.09650681, -0.00107136],\n",
       "       [-0.03379864, -0.06143373, -0.08159748, ...,  0.16069898,\n",
       "        -0.18587448, -0.03059678],\n",
       "       [ 0.00691702, -0.17209338,  0.07834499, ...,  0.07638747,\n",
       "         0.01856922,  0.02841053]], dtype=float32)"
      ]
     },
     "execution_count": 36,
     "metadata": {},
     "output_type": "execute_result"
    }
   ],
   "source": [
    "#Extract training vectors\n",
    "lr_Xtrain_d2v = np.array([lr_model_d2v.docvecs[str(i)] for i in range(len(train_tagged))])\n",
    "lr_Xtrain_d2v"
   ]
  },
  {
   "cell_type": "code",
   "execution_count": 37,
   "metadata": {
    "ExecuteTime": {
     "end_time": "2021-01-27T07:59:38.343268Z",
     "start_time": "2021-01-27T07:59:35.170828Z"
    }
   },
   "outputs": [
    {
     "data": {
      "text/plain": [
       "array([[-8.4347479e-02, -1.1478721e-01,  7.5345375e-02, ...,\n",
       "         3.9863557e-02,  4.0686995e-02,  1.0779574e-02],\n",
       "       [-5.2520506e-02, -3.2997712e-02, -5.1174998e-02, ...,\n",
       "         1.8333290e-02, -5.5070232e-05,  3.0561090e-02],\n",
       "       [ 3.4570280e-02, -1.0321204e-01, -3.9730418e-02, ...,\n",
       "         8.3344489e-02, -9.6193757e-03, -5.1851790e-02],\n",
       "       ...,\n",
       "       [-3.4690484e-02, -1.3086987e-02, -8.4680282e-02, ...,\n",
       "         1.7783675e-02, -4.2983633e-02,  6.1793689e-02],\n",
       "       [-1.8378721e-01, -4.9074680e-02, -1.6788326e-02, ...,\n",
       "        -4.7061816e-03,  8.9874705e-03,  4.2181242e-02],\n",
       "       [ 2.0371001e-02,  5.3682741e-02,  4.2887643e-02, ...,\n",
       "        -4.5779806e-02,  6.8014435e-02, -4.1479491e-02]], dtype=float32)"
      ]
     },
     "execution_count": 37,
     "metadata": {},
     "output_type": "execute_result"
    }
   ],
   "source": [
    "# This is for test, but for val, we would want to generate vectors for prediction\n",
    "lr_Xval_d2v = np.array([lr_model_d2v.infer_vector(val_tagged[i][0]) for i in range(len(val_tagged))])\n",
    "lr_Xval_d2v"
   ]
  },
  {
   "cell_type": "markdown",
   "metadata": {},
   "source": [
    "This model may have performed better than the baseline but in comparison to the Countvectorized and TfidfVectorized Logistic Regression model, it is doing far worse."
   ]
  },
  {
   "cell_type": "code",
   "execution_count": null,
   "metadata": {
    "ExecuteTime": {
     "end_time": "2021-01-27T07:05:49.549171Z",
     "start_time": "2021-01-27T07:05:40.833956Z"
    }
   },
   "outputs": [],
   "source": [
    "#Train the Model\n",
    "lr_d2v = LogisticRegression(max_iter=10_000)\n",
    "lr_d2v_model = lr_d2v.fit(lr_Xtrain_d2v, ytrain)"
   ]
  },
  {
   "cell_type": "code",
   "execution_count": null,
   "metadata": {
    "ExecuteTime": {
     "end_time": "2021-01-27T07:05:49.554224Z",
     "start_time": "2021-01-27T07:05:49.551199Z"
    }
   },
   "outputs": [],
   "source": [
    "# save the model to disk\n",
    "#pickle.dump(lr_d2v_model, open('../models/lr_d2v_model.sav', 'wb'))"
   ]
  },
  {
   "cell_type": "code",
   "execution_count": 38,
   "metadata": {
    "ExecuteTime": {
     "end_time": "2021-01-27T07:59:45.745826Z",
     "start_time": "2021-01-27T07:59:45.741096Z"
    }
   },
   "outputs": [],
   "source": [
    "# load the model from disk in case crash\n",
    "#lr_d2v_model = pickle.load(open('../models/lr_d2v_model.sav', 'rb'))"
   ]
  },
  {
   "cell_type": "code",
   "execution_count": 39,
   "metadata": {
    "ExecuteTime": {
     "end_time": "2021-01-27T07:59:49.864783Z",
     "start_time": "2021-01-27T07:59:49.794505Z"
    }
   },
   "outputs": [
    {
     "name": "stdout",
     "output_type": "stream",
     "text": [
      "0.05737569517097076\n",
      "Testing accuracy 0.030888668648827222\n",
      "Testing F1 score: 0.012654807834186854\n"
     ]
    }
   ],
   "source": [
    "lr_d2v_train_score = lr_d2v_model.score(lr_Xtrain_d2v, ytrain)\n",
    "lr_ypred_d2v = lr_d2v_model.predict(lr_Xval_d2v)\n",
    "print(lr_d2v_train_score)\n",
    "print('Testing accuracy %s' % accuracy_score(yval, lr_ypred_d2v))\n",
    "print('Testing F1 score: {}'.format(f1_score(yval, lr_ypred_d2v, average='macro')))"
   ]
  },
  {
   "cell_type": "markdown",
   "metadata": {},
   "source": [
    "The F1 socre for the lr_d2v_model, Logistic Regression model fitted with Doc2Vec features, is 0.28 which much lower than the models before. This will be the main metrics for measuring and comparing the models as this is an imbalance multiclass text classification. Another metric to compare and see the performance of the models is to look at the confusion matrix itself. We can see from the confusion matrix that as compared to the previous models, there are a lot less correctly predicted products to their respective classes."
   ]
  },
  {
   "cell_type": "code",
   "execution_count": 40,
   "metadata": {
    "ExecuteTime": {
     "end_time": "2021-01-27T07:59:56.599356Z",
     "start_time": "2021-01-27T07:59:56.558882Z"
    },
    "scrolled": true
   },
   "outputs": [
    {
     "name": "stdout",
     "output_type": "stream",
     "text": [
      "Macro Precision: 0.05\n",
      "Macro Recall: 0.05\n",
      "Macro F1-score: 0.01\n",
      "\n",
      "Accuracy: 0.03\n",
      "              precision    recall  f1-score   support\n",
      "\n",
      "           1      0.000     0.000     0.000      1002\n",
      "           2      0.000     0.000     0.000       137\n",
      "           3      0.000     0.000     0.000       379\n",
      "           4      0.031     0.204     0.054       421\n",
      "           5      0.027     0.715     0.052       263\n",
      "           6      0.000     0.000     0.000       285\n",
      "           7      0.118     0.027     0.045      1091\n",
      "           8      0.000     0.000     0.000       243\n",
      "           9      0.033     0.004     0.008       465\n",
      "          10      0.000     0.000     0.000         9\n",
      "          11      0.077     0.002     0.004      1641\n",
      "          12      0.000     0.000     0.000       227\n",
      "          13      0.364     0.006     0.012      1343\n",
      "          14      0.000     0.000     0.000       279\n",
      "          15      0.000     0.000     0.000       523\n",
      "          16      0.000     0.000     0.000       862\n",
      "          17      0.026     0.057     0.035       771\n",
      "          18      0.000     0.000     0.000       270\n",
      "          19      0.250     0.001     0.001      1566\n",
      "          20      0.052     0.036     0.043       331\n",
      "\n",
      "    accuracy                          0.031     12108\n",
      "   macro avg      0.049     0.053     0.013     12108\n",
      "weighted avg      0.100     0.031     0.013     12108\n",
      "\n"
     ]
    },
    {
     "name": "stderr",
     "output_type": "stream",
     "text": [
      "/Users/becksphan/opt/anaconda3/lib/python3.8/site-packages/sklearn/metrics/_classification.py:1221: UndefinedMetricWarning: Precision is ill-defined and being set to 0.0 in labels with no predicted samples. Use `zero_division` parameter to control this behavior.\n",
      "  _warn_prf(average, modifier, msg_start, len(result))\n",
      "/Users/becksphan/opt/anaconda3/lib/python3.8/site-packages/sklearn/metrics/_classification.py:1221: UndefinedMetricWarning: Precision and F-score are ill-defined and being set to 0.0 in labels with no predicted samples. Use `zero_division` parameter to control this behavior.\n",
      "  _warn_prf(average, modifier, msg_start, len(result))\n"
     ]
    }
   ],
   "source": [
    "#Call scoring function\n",
    "scoring(yval, lr_ypred_d2v, 'LR-D2V model', lr_d2v_train_score)"
   ]
  },
  {
   "cell_type": "code",
   "execution_count": null,
   "metadata": {
    "ExecuteTime": {
     "end_time": "2021-01-27T07:05:53.004426Z",
     "start_time": "2021-01-27T07:05:52.975584Z"
    }
   },
   "outputs": [],
   "source": [
    "lr_d2v_cm = pd.DataFrame(sklearn.metrics.confusion_matrix(yval, lr_d2v_ypred))\n",
    "lr_d2v_cm"
   ]
  },
  {
   "cell_type": "markdown",
   "metadata": {},
   "source": [
    "**Now we shall see how it the scores differ with different models but all others remain the same.**"
   ]
  },
  {
   "cell_type": "markdown",
   "metadata": {},
   "source": [
    "#### MultinomialNaiveBayes Model - CountVectorizer"
   ]
  },
  {
   "cell_type": "markdown",
   "metadata": {},
   "source": [
    "Naive Bayes:\n",
    "P(A/B) =P(A) x P(B/A)P(B)\n",
    "\n",
    "Here we are calculating posterior probability of the class A when predictor B is given to us ie. P(A/B). P(A) is the prior probability of the class. P(B/A) is the likelihood of predictor B given class A probability. P(B) is the prior probability of the predictor B. Calculating these probabilities will help us calculate probabilities of the words in the text\n",
    "\n",
    "Multinomial Naive Bayes simply assumes multinomial distribution for all the pairs i.e. for word counts in documents\n",
    "It is generally used where there are discrete features(for example – word counts in a text classification problem). It generally works with the integer counts which are generated as frequency for each word. All features follow multinomial distribution\n",
    "\n",
    "[Multinomial](https://stats.stackexchange.com/questions/33185/difference-between-naive-bayes-multinomial-naive-bayes)\n",
    "[NaiveBayes & Multinomial](https://analyticsindiamag.com/naive-bayes-why-is-it-favoured-for-text-related-tasks/)"
   ]
  },
  {
   "cell_type": "code",
   "execution_count": null,
   "metadata": {
    "ExecuteTime": {
     "end_time": "2021-01-27T07:06:18.852567Z",
     "start_time": "2021-01-27T07:06:18.847544Z"
    },
    "scrolled": false
   },
   "outputs": [],
   "source": [
    "# Create pipe\n",
    "pipe_mnb_cvec = Pipeline([('cvec', CountVectorizer()),\n",
    "                         ('mnb', MultinomialNB())])\n",
    "\n",
    "# Define dictionary of hyperparameters.\n",
    "pipe_mnb_cvec_params = {\n",
    "    'cvec__ngram_range': [(1, 1), (1, 2)],\n",
    "    'cvec__max_features': [40_000, 80_000] #reduce the amount of features as there are alot of features at 160,000\n",
    "}\n",
    "\n",
    "# Instantiate GridSearchCV object.\n",
    "pipe_mnb_cvec_gs = GridSearchCV(pipe_mnb_cvec,\n",
    "                               pipe_mnb_cvec_params,\n",
    "                               cv=5,\n",
    "                               verbose=2)"
   ]
  },
  {
   "cell_type": "code",
   "execution_count": null,
   "metadata": {
    "ExecuteTime": {
     "end_time": "2021-01-27T07:06:28.173737Z",
     "start_time": "2021-01-27T07:06:20.351782Z"
    },
    "scrolled": true
   },
   "outputs": [],
   "source": [
    "# Fit the GridSearchCV object to the data.\n",
    "pipe_mnb_cvec_gs.fit(Xtrain, ytrain)\n",
    "\n",
    "print(f'Finished and best params: {pipe_mnb_cvec_gs.best_params_} and best score: {pipe_mnb_cvec_gs.best_score_}.')"
   ]
  },
  {
   "cell_type": "markdown",
   "metadata": {},
   "source": [
    "##### Fitting with best params"
   ]
  },
  {
   "cell_type": "code",
   "execution_count": 20,
   "metadata": {
    "ExecuteTime": {
     "end_time": "2021-01-27T08:01:13.424709Z",
     "start_time": "2021-01-27T08:01:12.258362Z"
    }
   },
   "outputs": [],
   "source": [
    "# Instantiate default CountVectorizer\n",
    "mnb_cvec = CountVectorizer(max_features=80_000, ngram_range=(1,2))\n",
    "\n",
    "# Fit and transform the CountVectorizer to train\n",
    "mnb_Xtrain_cvec = pd.DataFrame(mnb_cvec.fit_transform(\n",
    "    Xtrain).toarray(), columns=mnb_cvec.get_feature_names())\n",
    "\n",
    "# Transform the fitted CountVectorizer to val\n",
    "mnb_Xval_cvec = pd.DataFrame(mnb_cvec.transform(\n",
    "    Xval).toarray(), columns=mnb_cvec.get_feature_names())"
   ]
  },
  {
   "cell_type": "code",
   "execution_count": null,
   "metadata": {
    "ExecuteTime": {
     "end_time": "2021-01-27T07:43:59.440658Z",
     "start_time": "2021-01-27T07:06:43.945384Z"
    }
   },
   "outputs": [],
   "source": [
    "# Instantiate MultinomialNB model\n",
    "mnb_cvec_ = MultinomialNB()\n",
    "\n",
    "# fit train cvec data to MultinomialNB model\n",
    "mnb_cvec_model = mnb_cvec_.fit(mnb_Xtrain_cvec, ytrain)"
   ]
  },
  {
   "cell_type": "code",
   "execution_count": null,
   "metadata": {
    "ExecuteTime": {
     "end_time": "2021-01-27T07:44:43.124476Z",
     "start_time": "2021-01-27T07:44:43.103819Z"
    }
   },
   "outputs": [],
   "source": [
    "# save the model to disk\n",
    "#pickle.dump(mnb_cvec_model, open('../models/mnb_cvec_model.sav', 'wb'))"
   ]
  },
  {
   "cell_type": "code",
   "execution_count": 21,
   "metadata": {
    "ExecuteTime": {
     "end_time": "2021-01-27T08:01:15.249577Z",
     "start_time": "2021-01-27T08:01:15.228890Z"
    }
   },
   "outputs": [],
   "source": [
    "# load the model from disk in case crash\n",
    "#mnb_cvec_model = pickle.load(open('../models/mnb_cvec_model.sav', 'rb'))"
   ]
  },
  {
   "cell_type": "markdown",
   "metadata": {},
   "source": [
    "This model similar to their LogisticRegression counterpart, performed much better than the baseline but performed slightly worse than their counterparts at 82% accuracy and is also slightly overfitted."
   ]
  },
  {
   "cell_type": "code",
   "execution_count": 22,
   "metadata": {
    "ExecuteTime": {
     "end_time": "2021-01-27T08:01:59.571035Z",
     "start_time": "2021-01-27T08:01:17.882218Z"
    }
   },
   "outputs": [
    {
     "name": "stdout",
     "output_type": "stream",
     "text": [
      "0.8845603215681955\n",
      "0.8046745953088866\n"
     ]
    }
   ],
   "source": [
    "# check the scoring for the train set\n",
    "mnb_cvec_train_score = mnb_cvec_model.score(mnb_Xtrain_cvec, ytrain)\n",
    "print(mnb_cvec_train_score)\n",
    "\n",
    "# check the scoring for the validation set\n",
    "print(mnb_cvec_model.score(mnb_Xval_cvec, yval))"
   ]
  },
  {
   "cell_type": "code",
   "execution_count": 23,
   "metadata": {
    "ExecuteTime": {
     "end_time": "2021-01-27T08:02:20.114190Z",
     "start_time": "2021-01-27T08:02:09.553703Z"
    }
   },
   "outputs": [],
   "source": [
    "# predictions of the validation data\n",
    "mnb_cvec_ypred = mnb_cvec_model.predict(mnb_Xval_cvec)\n"
   ]
  },
  {
   "cell_type": "markdown",
   "metadata": {},
   "source": [
    "The F1 socre for the mnb_cvec_model, Multinomial Naive Bayes model fitted with CountVectorized features, is 0.72 which sligtly lower than the lr_cvec and lr_tfidf models before similar trend as the accuracy score. F1score will be the main metrics for measuring and comparing the models as this is an imbalance multiclass text classification. Another metric to compare and see the performance of the models is to look at the confusion matrix itself. We can see from the confusion matrix that it also follows a similar trend with the lr_cvec and lr_tfidf models."
   ]
  },
  {
   "cell_type": "code",
   "execution_count": 26,
   "metadata": {
    "ExecuteTime": {
     "end_time": "2021-01-27T08:02:49.360444Z",
     "start_time": "2021-01-27T08:02:49.307844Z"
    },
    "scrolled": true
   },
   "outputs": [
    {
     "name": "stdout",
     "output_type": "stream",
     "text": [
      "Macro Precision: 0.80\n",
      "Macro Recall: 0.66\n",
      "Macro F1-score: 0.70\n",
      "\n",
      "Accuracy: 0.80\n",
      "              precision    recall  f1-score   support\n",
      "\n",
      "           1      0.713     0.803     0.756      1002\n",
      "           2      0.789     0.109     0.192       137\n",
      "           3      0.893     0.594     0.713       379\n",
      "           4      0.901     0.520     0.660       421\n",
      "           5      0.952     0.673     0.788       263\n",
      "           6      0.752     0.309     0.438       285\n",
      "           7      0.831     0.954     0.888      1091\n",
      "           8      0.958     0.947     0.952       243\n",
      "           9      0.798     0.705     0.749       465\n",
      "          10      0.000     0.000     0.000         9\n",
      "          11      0.863     0.938     0.899      1641\n",
      "          12      0.845     0.551     0.667       227\n",
      "          13      0.705     0.844     0.768      1343\n",
      "          14      0.916     0.624     0.742       279\n",
      "          15      0.765     0.811     0.787       523\n",
      "          16      0.883     0.913     0.898       862\n",
      "          17      0.930     0.882     0.905       771\n",
      "          18      0.919     0.674     0.778       270\n",
      "          19      0.723     0.921     0.810      1566\n",
      "          20      0.801     0.390     0.524       331\n",
      "\n",
      "    accuracy                          0.805     12108\n",
      "   macro avg      0.797     0.658     0.696     12108\n",
      "weighted avg      0.814     0.805     0.794     12108\n",
      "\n"
     ]
    },
    {
     "name": "stderr",
     "output_type": "stream",
     "text": [
      "/Users/becksphan/opt/anaconda3/lib/python3.8/site-packages/sklearn/metrics/_classification.py:1221: UndefinedMetricWarning: Precision is ill-defined and being set to 0.0 in labels with no predicted samples. Use `zero_division` parameter to control this behavior.\n",
      "  _warn_prf(average, modifier, msg_start, len(result))\n",
      "/Users/becksphan/opt/anaconda3/lib/python3.8/site-packages/sklearn/metrics/_classification.py:1221: UndefinedMetricWarning: Precision and F-score are ill-defined and being set to 0.0 in labels with no predicted samples. Use `zero_division` parameter to control this behavior.\n",
      "  _warn_prf(average, modifier, msg_start, len(result))\n"
     ]
    }
   ],
   "source": [
    "#Call scoring function\n",
    "scoring(yval, mnb_cvec_ypred, 'MultinomialNB-CVEC model', mnb_cvec_train_score)"
   ]
  },
  {
   "cell_type": "code",
   "execution_count": null,
   "metadata": {
    "ExecuteTime": {
     "end_time": "2021-01-27T08:02:23.482539Z",
     "start_time": "2021-01-27T08:02:23.337Z"
    }
   },
   "outputs": [],
   "source": [
    "mnb_cvec_cm = pd.DataFrame(sklearn.metrics.confusion_matrix(yval, mnb_cvec_ypred))\n",
    "mnb_cvec_cm"
   ]
  },
  {
   "cell_type": "markdown",
   "metadata": {},
   "source": [
    "#### MultinomialNaiveBayes Model - TfidfVectorizer"
   ]
  },
  {
   "cell_type": "markdown",
   "metadata": {},
   "source": [
    "TfidfVectorizer although similar to CountVectorizer taking into account the number of times each word appears in a document, but uses the term frequency and puts weights on each word for a document. Lets see how well it performs in comparison to the model above."
   ]
  },
  {
   "cell_type": "code",
   "execution_count": 31,
   "metadata": {
    "ExecuteTime": {
     "end_time": "2021-01-27T08:04:04.498589Z",
     "start_time": "2021-01-27T08:04:04.491769Z"
    }
   },
   "outputs": [],
   "source": [
    "# Create pipe\n",
    "pipe_mnb_tfidf = Pipeline([('tfidf', TfidfVectorizer()),\n",
    "                         ('mnb', MultinomialNB())])\n",
    "\n",
    "# Define dictionary of hyperparameters.\n",
    "pipe_mnb_tfidf_params = {\n",
    "    'tfidf__ngram_range': [(1, 1), (1, 2)],\n",
    "    'tfidf__max_features': [40_000, 80_000]}\n",
    "\n",
    "# Instantiate GridSearchCV object.\n",
    "pipe_mnb_tfidf_gs = GridSearchCV(pipe_mnb_tfidf,\n",
    "                                pipe_mnb_tfidf_params,\n",
    "                                cv=5,\n",
    "                                verbose=2)"
   ]
  },
  {
   "cell_type": "code",
   "execution_count": 32,
   "metadata": {
    "ExecuteTime": {
     "end_time": "2021-01-27T08:04:13.787046Z",
     "start_time": "2021-01-27T08:04:06.059113Z"
    },
    "scrolled": true
   },
   "outputs": [
    {
     "name": "stdout",
     "output_type": "stream",
     "text": [
      "Fitting 5 folds for each of 4 candidates, totalling 20 fits\n",
      "[CV] tfidf__max_features=40000, tfidf__ngram_range=(1, 1) ............\n"
     ]
    },
    {
     "name": "stderr",
     "output_type": "stream",
     "text": [
      "[Parallel(n_jobs=1)]: Using backend SequentialBackend with 1 concurrent workers.\n"
     ]
    },
    {
     "name": "stdout",
     "output_type": "stream",
     "text": [
      "[CV]  tfidf__max_features=40000, tfidf__ngram_range=(1, 1), total=   0.3s\n",
      "[CV] tfidf__max_features=40000, tfidf__ngram_range=(1, 1) ............\n"
     ]
    },
    {
     "name": "stderr",
     "output_type": "stream",
     "text": [
      "[Parallel(n_jobs=1)]: Done   1 out of   1 | elapsed:    0.3s remaining:    0.0s\n"
     ]
    },
    {
     "name": "stdout",
     "output_type": "stream",
     "text": [
      "[CV]  tfidf__max_features=40000, tfidf__ngram_range=(1, 1), total=   0.2s\n",
      "[CV] tfidf__max_features=40000, tfidf__ngram_range=(1, 1) ............\n",
      "[CV]  tfidf__max_features=40000, tfidf__ngram_range=(1, 1), total=   0.2s\n",
      "[CV] tfidf__max_features=40000, tfidf__ngram_range=(1, 1) ............\n",
      "[CV]  tfidf__max_features=40000, tfidf__ngram_range=(1, 1), total=   0.2s\n",
      "[CV] tfidf__max_features=40000, tfidf__ngram_range=(1, 1) ............\n",
      "[CV]  tfidf__max_features=40000, tfidf__ngram_range=(1, 1), total=   0.2s\n",
      "[CV] tfidf__max_features=40000, tfidf__ngram_range=(1, 2) ............\n",
      "[CV]  tfidf__max_features=40000, tfidf__ngram_range=(1, 2), total=   0.5s\n",
      "[CV] tfidf__max_features=40000, tfidf__ngram_range=(1, 2) ............\n",
      "[CV]  tfidf__max_features=40000, tfidf__ngram_range=(1, 2), total=   0.5s\n",
      "[CV] tfidf__max_features=40000, tfidf__ngram_range=(1, 2) ............\n",
      "[CV]  tfidf__max_features=40000, tfidf__ngram_range=(1, 2), total=   0.5s\n",
      "[CV] tfidf__max_features=40000, tfidf__ngram_range=(1, 2) ............\n",
      "[CV]  tfidf__max_features=40000, tfidf__ngram_range=(1, 2), total=   0.5s\n",
      "[CV] tfidf__max_features=40000, tfidf__ngram_range=(1, 2) ............\n",
      "[CV]  tfidf__max_features=40000, tfidf__ngram_range=(1, 2), total=   0.5s\n",
      "[CV] tfidf__max_features=80000, tfidf__ngram_range=(1, 1) ............\n",
      "[CV]  tfidf__max_features=80000, tfidf__ngram_range=(1, 1), total=   0.2s\n",
      "[CV] tfidf__max_features=80000, tfidf__ngram_range=(1, 1) ............\n",
      "[CV]  tfidf__max_features=80000, tfidf__ngram_range=(1, 1), total=   0.2s\n",
      "[CV] tfidf__max_features=80000, tfidf__ngram_range=(1, 1) ............\n",
      "[CV]  tfidf__max_features=80000, tfidf__ngram_range=(1, 1), total=   0.2s\n",
      "[CV] tfidf__max_features=80000, tfidf__ngram_range=(1, 1) ............\n",
      "[CV]  tfidf__max_features=80000, tfidf__ngram_range=(1, 1), total=   0.2s\n",
      "[CV] tfidf__max_features=80000, tfidf__ngram_range=(1, 1) ............\n",
      "[CV]  tfidf__max_features=80000, tfidf__ngram_range=(1, 1), total=   0.2s\n",
      "[CV] tfidf__max_features=80000, tfidf__ngram_range=(1, 2) ............\n",
      "[CV]  tfidf__max_features=80000, tfidf__ngram_range=(1, 2), total=   0.5s\n",
      "[CV] tfidf__max_features=80000, tfidf__ngram_range=(1, 2) ............\n",
      "[CV]  tfidf__max_features=80000, tfidf__ngram_range=(1, 2), total=   0.5s\n",
      "[CV] tfidf__max_features=80000, tfidf__ngram_range=(1, 2) ............\n",
      "[CV]  tfidf__max_features=80000, tfidf__ngram_range=(1, 2), total=   0.5s\n",
      "[CV] tfidf__max_features=80000, tfidf__ngram_range=(1, 2) ............\n",
      "[CV]  tfidf__max_features=80000, tfidf__ngram_range=(1, 2), total=   0.5s\n",
      "[CV] tfidf__max_features=80000, tfidf__ngram_range=(1, 2) ............\n",
      "[CV]  tfidf__max_features=80000, tfidf__ngram_range=(1, 2), total=   0.5s\n"
     ]
    },
    {
     "name": "stderr",
     "output_type": "stream",
     "text": [
      "[Parallel(n_jobs=1)]: Done  20 out of  20 | elapsed:    7.5s finished\n"
     ]
    },
    {
     "name": "stdout",
     "output_type": "stream",
     "text": [
      "Finished and best params: {'tfidf__max_features': 40000, 'tfidf__ngram_range': (1, 1)} and best score: 0.7412588037510119.\n"
     ]
    }
   ],
   "source": [
    "# Fit the GridSearchCV object to the data.\n",
    "pipe_mnb_tfidf_gs.fit(Xtrain, ytrain)\n",
    "\n",
    "print(f'Finished and best params: {pipe_mnb_tfidf_gs.best_params_} and best score: {pipe_mnb_tfidf_gs.best_score_}.')"
   ]
  },
  {
   "cell_type": "markdown",
   "metadata": {},
   "source": [
    "##### Fitting with best params"
   ]
  },
  {
   "cell_type": "code",
   "execution_count": 34,
   "metadata": {
    "ExecuteTime": {
     "end_time": "2021-01-27T08:04:32.483672Z",
     "start_time": "2021-01-27T08:04:31.822240Z"
    }
   },
   "outputs": [],
   "source": [
    "# Instantiate default TfidfVectorizer\n",
    "mnb_tfidf = TfidfVectorizer(max_features=40_000, ngram_range=(1,1))\n",
    "\n",
    "# Fit and transform the CountVectorizer to train\n",
    "mnb_Xtrain_tfidf = pd.DataFrame(mnb_tfidf.fit_transform(\n",
    "    Xtrain).toarray(), columns=mnb_tfidf.get_feature_names())\n",
    "\n",
    "# Transform the fitted CountVectorizer to val\n",
    "mnb_Xval_tfidf = pd.DataFrame(mnb_tfidf.transform(\n",
    "    Xval).toarray(), columns=mnb_tfidf.get_feature_names())\n"
   ]
  },
  {
   "cell_type": "code",
   "execution_count": 35,
   "metadata": {
    "ExecuteTime": {
     "end_time": "2021-01-27T08:04:35.408616Z",
     "start_time": "2021-01-27T08:04:34.056782Z"
    }
   },
   "outputs": [],
   "source": [
    "# Instantiate MultinomialNB model\n",
    "mnb_tfidf_ = MultinomialNB()\n",
    "\n",
    "# fit train cvec data to MultinomialNB model\n",
    "mnb_tfidf_model = mnb_tfidf_.fit(mnb_Xtrain_tfidf, ytrain)"
   ]
  },
  {
   "cell_type": "code",
   "execution_count": 36,
   "metadata": {
    "ExecuteTime": {
     "end_time": "2021-01-27T08:04:38.269433Z",
     "start_time": "2021-01-27T08:04:38.263636Z"
    }
   },
   "outputs": [],
   "source": [
    "# save the model to disk\n",
    "pickle.dump(mnb_tfidf_model, open('../models/mnb_tfidf_model.sav', 'wb'))"
   ]
  },
  {
   "cell_type": "code",
   "execution_count": null,
   "metadata": {},
   "outputs": [],
   "source": [
    "# load the model from disk in case crash\n",
    "#mnb_tfidf_model = pickle.load(open('../models/mnb_tfidf_model.sav', 'rb'))"
   ]
  },
  {
   "cell_type": "markdown",
   "metadata": {},
   "source": [
    "This model also performed much better than the baseline but performed slightly worse than their counterparts at 81% accuracy and is more overfitted than the other models."
   ]
  },
  {
   "cell_type": "code",
   "execution_count": 37,
   "metadata": {
    "ExecuteTime": {
     "end_time": "2021-01-27T08:04:45.516050Z",
     "start_time": "2021-01-27T08:04:44.580348Z"
    }
   },
   "outputs": [
    {
     "name": "stdout",
     "output_type": "stream",
     "text": [
      "0.7902923847805737\n",
      "0.7558638916418896\n"
     ]
    }
   ],
   "source": [
    "# check the scoring for the train set\n",
    "mnb_tfidf_train_score = mnb_tfidf_model.score(mnb_Xtrain_tfidf, ytrain)\n",
    "print(mnb_tfidf_train_score)\n",
    "\n",
    "# check the scoring for the validation set\n",
    "print(mnb_tfidf_model.score(mnb_Xval_tfidf, yval))"
   ]
  },
  {
   "cell_type": "code",
   "execution_count": 38,
   "metadata": {
    "ExecuteTime": {
     "end_time": "2021-01-27T08:04:47.199547Z",
     "start_time": "2021-01-27T08:04:46.990025Z"
    }
   },
   "outputs": [],
   "source": [
    "# predictions of the validation data\n",
    "mnb_tfidf_ypred = mnb_tfidf_model.predict(mnb_Xval_tfidf)\n"
   ]
  },
  {
   "cell_type": "markdown",
   "metadata": {},
   "source": [
    "The F1 socre for the mnb_tfidf_model, Multinomial Naive Bayes model fitted with TfidfVectorized features, is 0.70 which lower than the models before except for the lr_d2v model. This is a similar trend with its accuracy score. F1score will be the main metrics for measuring and comparing the models as this is an imbalance multiclass text classification. Another metric to compare and see the performance of the models is to look at the confusion matrix itself. We can see from the confusion matrix that it also follows a similar trend with the lr_cvec and lr_tfidf models."
   ]
  },
  {
   "cell_type": "code",
   "execution_count": 39,
   "metadata": {
    "ExecuteTime": {
     "end_time": "2021-01-27T08:04:48.463341Z",
     "start_time": "2021-01-27T08:04:48.417909Z"
    },
    "scrolled": true
   },
   "outputs": [
    {
     "name": "stdout",
     "output_type": "stream",
     "text": [
      "Macro Precision: 0.78\n",
      "Macro Recall: 0.57\n",
      "Macro F1-score: 0.62\n",
      "\n",
      "Accuracy: 0.76\n",
      "              precision    recall  f1-score   support\n",
      "\n",
      "           1      0.645     0.782     0.707      1002\n",
      "           2      0.750     0.022     0.043       137\n",
      "           3      0.901     0.507     0.649       379\n",
      "           4      0.894     0.442     0.591       421\n",
      "           5      0.968     0.574     0.721       263\n",
      "           6      0.667     0.140     0.232       285\n",
      "           7      0.797     0.942     0.864      1091\n",
      "           8      0.990     0.840     0.909       243\n",
      "           9      0.814     0.604     0.694       465\n",
      "          10      0.000     0.000     0.000         9\n",
      "          11      0.821     0.935     0.875      1641\n",
      "          12      0.849     0.348     0.494       227\n",
      "          13      0.617     0.840     0.712      1343\n",
      "          14      0.949     0.401     0.564       279\n",
      "          15      0.773     0.717     0.744       523\n",
      "          16      0.891     0.855     0.873       862\n",
      "          17      0.928     0.842     0.883       771\n",
      "          18      0.964     0.496     0.655       270\n",
      "          19      0.644     0.925     0.759      1566\n",
      "          20      0.835     0.260     0.396       331\n",
      "\n",
      "    accuracy                          0.756     12108\n",
      "   macro avg      0.785     0.574     0.618     12108\n",
      "weighted avg      0.782     0.756     0.737     12108\n",
      "\n"
     ]
    },
    {
     "name": "stderr",
     "output_type": "stream",
     "text": [
      "/Users/becksphan/opt/anaconda3/lib/python3.8/site-packages/sklearn/metrics/_classification.py:1221: UndefinedMetricWarning: Precision is ill-defined and being set to 0.0 in labels with no predicted samples. Use `zero_division` parameter to control this behavior.\n",
      "  _warn_prf(average, modifier, msg_start, len(result))\n",
      "/Users/becksphan/opt/anaconda3/lib/python3.8/site-packages/sklearn/metrics/_classification.py:1221: UndefinedMetricWarning: Precision and F-score are ill-defined and being set to 0.0 in labels with no predicted samples. Use `zero_division` parameter to control this behavior.\n",
      "  _warn_prf(average, modifier, msg_start, len(result))\n"
     ]
    }
   ],
   "source": [
    "#Call scoring function\n",
    "scoring(yval, mnb_tfidf_ypred, 'MultinomialNB-TFIDF model', mnb_tfidf_train_score)"
   ]
  },
  {
   "cell_type": "code",
   "execution_count": null,
   "metadata": {
    "ExecuteTime": {
     "end_time": "2021-01-25T09:08:19.397850Z",
     "start_time": "2021-01-25T09:08:19.366774Z"
    }
   },
   "outputs": [],
   "source": [
    "mnb_tfidf_cm = pd.DataFrame(sklearn.metrics.confusion_matrix(yval, mnb_tfidf_ypred))\n",
    "mnb_tfidf_cm"
   ]
  },
  {
   "cell_type": "markdown",
   "metadata": {},
   "source": [
    "#### GaussianNaiveBayes Model - Doc2Vec"
   ]
  },
  {
   "cell_type": "markdown",
   "metadata": {},
   "source": [
    "Doc2Vec creates vectors in dimension space of negative values. Therefore unable to fit into a multinomial Naive Bayes model. In this case we shall use Gaussian Naive Bayes."
   ]
  },
  {
   "cell_type": "code",
   "execution_count": 43,
   "metadata": {
    "ExecuteTime": {
     "end_time": "2021-01-27T08:29:55.031796Z",
     "start_time": "2021-01-27T08:05:22.055491Z"
    },
    "scrolled": true
   },
   "outputs": [
    {
     "name": "stdout",
     "output_type": "stream",
     "text": [
      "Fitting 5 folds for each of 2 candidates, totalling 10 fits\n",
      "[CV] doc2vec__vector_size=100 ........................................\n"
     ]
    },
    {
     "name": "stderr",
     "output_type": "stream",
     "text": [
      "[Parallel(n_jobs=1)]: Using backend SequentialBackend with 1 concurrent workers.\n"
     ]
    },
    {
     "name": "stdout",
     "output_type": "stream",
     "text": [
      "[CV] ......................... doc2vec__vector_size=100, total= 2.0min\n",
      "[CV] doc2vec__vector_size=100 ........................................\n"
     ]
    },
    {
     "name": "stderr",
     "output_type": "stream",
     "text": [
      "[Parallel(n_jobs=1)]: Done   1 out of   1 | elapsed:  2.0min remaining:    0.0s\n"
     ]
    },
    {
     "name": "stdout",
     "output_type": "stream",
     "text": [
      "[CV] ......................... doc2vec__vector_size=100, total= 2.0min\n",
      "[CV] doc2vec__vector_size=100 ........................................\n",
      "[CV] ......................... doc2vec__vector_size=100, total= 2.0min\n",
      "[CV] doc2vec__vector_size=100 ........................................\n",
      "[CV] ......................... doc2vec__vector_size=100, total= 2.5min\n",
      "[CV] doc2vec__vector_size=100 ........................................\n",
      "[CV] ......................... doc2vec__vector_size=100, total= 2.8min\n",
      "[CV] doc2vec__vector_size=200 ........................................\n",
      "[CV] ......................... doc2vec__vector_size=200, total= 2.2min\n",
      "[CV] doc2vec__vector_size=200 ........................................\n",
      "[CV] ......................... doc2vec__vector_size=200, total= 2.1min\n",
      "[CV] doc2vec__vector_size=200 ........................................\n",
      "[CV] ......................... doc2vec__vector_size=200, total= 2.2min\n",
      "[CV] doc2vec__vector_size=200 ........................................\n",
      "[CV] ......................... doc2vec__vector_size=200, total= 2.1min\n",
      "[CV] doc2vec__vector_size=200 ........................................\n",
      "[CV] ......................... doc2vec__vector_size=200, total= 2.3min\n"
     ]
    },
    {
     "name": "stderr",
     "output_type": "stream",
     "text": [
      "[Parallel(n_jobs=1)]: Done  10 out of  10 | elapsed: 22.2min finished\n"
     ]
    },
    {
     "name": "stdout",
     "output_type": "stream",
     "text": [
      "Finished and best params: {'doc2vec__vector_size': 100} and best score: 0.5808875530195767.\n"
     ]
    }
   ],
   "source": [
    "gnb_d2v_params = {'doc2vec__vector_size': [100,200]\n",
    "}\n",
    "\n",
    "gnb_d2v_pipe = Pipeline([('doc2vec', Doc2VecModel(workers=cores, dm=0)), ('gnb', GaussianNB())])\n",
    "\n",
    "gnb_d2v_gs = GridSearchCV(gnb_d2v_pipe, \n",
    "                        param_grid=gnb_d2v_params,\n",
    "                        verbose=2,\n",
    "                        cv=5)\n",
    "\n",
    "# Fit the GridSearchCV object to the data.\n",
    "gnb_d2v_gs.fit(Xtrain, ytrain)\n",
    "\n",
    "print(f'Finished and best params: {gnb_d2v_gs.best_params_} and best score: {gnb_d2v_gs.best_score_}.')"
   ]
  },
  {
   "cell_type": "code",
   "execution_count": 46,
   "metadata": {
    "ExecuteTime": {
     "end_time": "2021-01-27T08:30:34.663786Z",
     "start_time": "2021-01-27T08:30:27.940142Z"
    }
   },
   "outputs": [
    {
     "name": "stderr",
     "output_type": "stream",
     "text": [
      "100%|██████████| 36322/36322 [00:00<00:00, 3012745.66it/s]\n"
     ]
    }
   ],
   "source": [
    "# Building Doc2Vec model\n",
    "gnb_model_d2v = Doc2Vec(vector_size=100, dm=0, workers=cores)\n",
    "gnb_model_d2v.build_vocab([x for x in tqdm(train_tagged)])"
   ]
  },
  {
   "cell_type": "code",
   "execution_count": 47,
   "metadata": {
    "ExecuteTime": {
     "end_time": "2021-01-27T08:32:25.208068Z",
     "start_time": "2021-01-27T08:30:36.488360Z"
    }
   },
   "outputs": [
    {
     "name": "stdout",
     "output_type": "stream",
     "text": [
      "CPU times: user 3 µs, sys: 1e+03 ns, total: 4 µs\n",
      "Wall time: 7.15 µs\n"
     ]
    }
   ],
   "source": [
    "#Train Doc2Vec model\n",
    "%time\n",
    "for epoch in range(30):\n",
    "    gnb_model_d2v.train(train_tagged, total_examples=gnb_model_d2v.corpus_count, epochs=gnb_model_d2v.epochs)"
   ]
  },
  {
   "cell_type": "code",
   "execution_count": 48,
   "metadata": {
    "ExecuteTime": {
     "end_time": "2021-01-27T08:32:32.228726Z",
     "start_time": "2021-01-27T08:32:32.137115Z"
    }
   },
   "outputs": [
    {
     "data": {
      "text/plain": [
       "array([[-0.10256816,  0.03586366, -0.2123565 , ..., -0.44298866,\n",
       "        -0.32931253,  0.10327072],\n",
       "       [ 0.01463978,  0.43010518,  0.05940463, ..., -0.3604732 ,\n",
       "         0.03651199,  0.08083557],\n",
       "       [-0.17133299,  0.04121573,  0.14035872, ..., -0.24059221,\n",
       "         0.02895106, -0.17640585],\n",
       "       ...,\n",
       "       [ 0.45011488,  0.19915856, -0.2381201 , ..., -0.19826432,\n",
       "         0.06028207,  0.04472964],\n",
       "       [-0.08548743,  0.21566872,  0.05581727, ..., -0.065391  ,\n",
       "        -0.37964144, -0.03534712],\n",
       "       [ 0.08565431,  0.13129023,  0.08369718, ..., -0.31288362,\n",
       "         0.12448764, -0.03412433]], dtype=float32)"
      ]
     },
     "execution_count": 48,
     "metadata": {},
     "output_type": "execute_result"
    }
   ],
   "source": [
    "#Extract training vectors\n",
    "gnb_Xtrain_d2v = np.array([gnb_model_d2v.docvecs[str(i)] for i in range(len(train_tagged))])\n",
    "gnb_Xtrain_d2v"
   ]
  },
  {
   "cell_type": "code",
   "execution_count": 49,
   "metadata": {
    "ExecuteTime": {
     "end_time": "2021-01-27T08:32:35.996728Z",
     "start_time": "2021-01-27T08:32:33.000807Z"
    }
   },
   "outputs": [
    {
     "data": {
      "text/plain": [
       "array([[ 0.01236196,  0.02760321, -0.06492761, ..., -0.07038686,\n",
       "         0.02917149, -0.12460198],\n",
       "       [ 0.00433925,  0.04005083, -0.00137296, ..., -0.12572093,\n",
       "        -0.03248408, -0.07312749],\n",
       "       [ 0.19346346,  0.02916797, -0.01619586, ..., -0.05305332,\n",
       "        -0.13847317, -0.05439993],\n",
       "       ...,\n",
       "       [ 0.04473579,  0.0185545 , -0.07710148, ..., -0.02800708,\n",
       "        -0.05406632, -0.13291548],\n",
       "       [-0.02544399,  0.11040712,  0.15072678, ..., -0.11098994,\n",
       "         0.05449757,  0.03293584],\n",
       "       [ 0.03050235,  0.03681968, -0.04188166, ...,  0.00767058,\n",
       "         0.09070171, -0.05014192]], dtype=float32)"
      ]
     },
     "execution_count": 49,
     "metadata": {},
     "output_type": "execute_result"
    }
   ],
   "source": [
    "# This is for test, but for val, we would want to generate vectors for prediction\n",
    "gnb_Xval_d2v = np.array([gnb_model_d2v.infer_vector(val_tagged[i][0]) for i in range(len(val_tagged))])\n",
    "gnb_Xval_d2v"
   ]
  },
  {
   "cell_type": "code",
   "execution_count": 51,
   "metadata": {
    "ExecuteTime": {
     "end_time": "2021-01-27T08:34:13.123838Z",
     "start_time": "2021-01-27T08:34:12.525283Z"
    }
   },
   "outputs": [
    {
     "name": "stdout",
     "output_type": "stream",
     "text": [
      "0.5946809096415395\n",
      "Testing accuracy 0.044681202510736706\n",
      "Testing F1 score: 0.012940880002016809\n"
     ]
    }
   ],
   "source": [
    "#Train the Model\n",
    "gnb_d2v = GaussianNB()\n",
    "gnb_d2v_model = gnb_d2v.fit(gnb_Xtrain_d2v, ytrain)\n",
    "gnb_d2v_train_score = gnb_d2v_model.score(gnb_Xtrain_d2v, ytrain)\n",
    "gnb_ypred_d2v = gnb_d2v_model.predict(gnb_Xval_d2v)\n",
    "print(gnb_d2v_train_score)\n",
    "print('Testing accuracy %s' % accuracy_score(yval, gnb_ypred_d2v))\n",
    "print('Testing F1 score: {}'.format(f1_score(yval, gnb_ypred_d2v, average='macro')))"
   ]
  },
  {
   "cell_type": "code",
   "execution_count": 52,
   "metadata": {
    "ExecuteTime": {
     "end_time": "2021-01-27T08:34:15.392856Z",
     "start_time": "2021-01-27T08:34:15.388844Z"
    }
   },
   "outputs": [],
   "source": [
    "# save the model to disk\n",
    "pickle.dump(gnb_d2v_model, open('../models/gnb_d2v_model.sav', 'wb'))"
   ]
  },
  {
   "cell_type": "code",
   "execution_count": null,
   "metadata": {},
   "outputs": [],
   "source": [
    "# load the model from disk\n",
    "#gnb_d2v_model = pickle.load(open('../models/gnb_d2v_model.sav', 'rb'))"
   ]
  },
  {
   "cell_type": "code",
   "execution_count": 53,
   "metadata": {
    "ExecuteTime": {
     "end_time": "2021-01-27T08:34:18.107669Z",
     "start_time": "2021-01-27T08:34:18.070162Z"
    },
    "scrolled": true
   },
   "outputs": [
    {
     "name": "stdout",
     "output_type": "stream",
     "text": [
      "Macro Precision: 0.19\n",
      "Macro Recall: 0.08\n",
      "Macro F1-score: 0.01\n",
      "\n",
      "Accuracy: 0.04\n",
      "              precision    recall  f1-score   support\n",
      "\n",
      "           1      0.000     0.000     0.000      1002\n",
      "           2      0.000     0.000     0.000       137\n",
      "           3      0.600     0.008     0.016       379\n",
      "           4      0.065     0.637     0.117       421\n",
      "           5      0.032     0.970     0.062       263\n",
      "           6      0.000     0.000     0.000       285\n",
      "           7      0.000     0.000     0.000      1091\n",
      "           8      0.000     0.000     0.000       243\n",
      "           9      0.000     0.000     0.000       465\n",
      "          10      0.000     0.000     0.000         9\n",
      "          11      1.000     0.001     0.002      1641\n",
      "          12      0.455     0.022     0.042       227\n",
      "          13      0.000     0.000     0.000      1343\n",
      "          14      0.000     0.000     0.000       279\n",
      "          15      0.000     0.000     0.000       523\n",
      "          16      1.000     0.007     0.014       862\n",
      "          17      0.667     0.003     0.005       771\n",
      "          18      0.000     0.000     0.000       270\n",
      "          19      0.000     0.000     0.000      1566\n",
      "          20      0.000     0.000     0.000       331\n",
      "\n",
      "    accuracy                          0.045     12108\n",
      "   macro avg      0.191     0.082     0.013     12108\n",
      "weighted avg      0.279     0.045     0.008     12108\n",
      "\n"
     ]
    },
    {
     "name": "stderr",
     "output_type": "stream",
     "text": [
      "/Users/becksphan/opt/anaconda3/lib/python3.8/site-packages/sklearn/metrics/_classification.py:1221: UndefinedMetricWarning: Precision is ill-defined and being set to 0.0 in labels with no predicted samples. Use `zero_division` parameter to control this behavior.\n",
      "  _warn_prf(average, modifier, msg_start, len(result))\n",
      "/Users/becksphan/opt/anaconda3/lib/python3.8/site-packages/sklearn/metrics/_classification.py:1221: UndefinedMetricWarning: Precision and F-score are ill-defined and being set to 0.0 in labels with no predicted samples. Use `zero_division` parameter to control this behavior.\n",
      "  _warn_prf(average, modifier, msg_start, len(result))\n"
     ]
    }
   ],
   "source": [
    "#Call scoring function\n",
    "scoring(yval, gnb_ypred_d2v, 'GaussianNB-D2V model', gnb_d2v_train_score)"
   ]
  },
  {
   "cell_type": "code",
   "execution_count": null,
   "metadata": {},
   "outputs": [],
   "source": [
    "gnb_d2v_cm = pd.DataFrame(sklearn.metrics.confusion_matrix(yval, gnb_d2v_ypred))\n",
    "gnb_d2v_cm"
   ]
  },
  {
   "cell_type": "markdown",
   "metadata": {},
   "source": [
    "#### Random Forest Model - CountVectorizer"
   ]
  },
  {
   "cell_type": "markdown",
   "metadata": {},
   "source": [
    "Random forests or random decision forests are an ensemble learning method for classification, regression and other tasks that operate by constructing a multitude of decision trees at training time and outputting the class that is the mode of the classes (classification) or mean/average prediction (regression) of the individual trees.\n",
    "[Wiki](https://en.wikipedia.org/wiki/Random_forest#:~:text=Random%20forests%20or%20random%20decision,average%20prediction%20(regression)%20of%20the)"
   ]
  },
  {
   "cell_type": "code",
   "execution_count": 54,
   "metadata": {
    "ExecuteTime": {
     "end_time": "2021-01-27T08:34:42.504468Z",
     "start_time": "2021-01-27T08:34:42.497988Z"
    },
    "scrolled": false
   },
   "outputs": [],
   "source": [
    "# Create pipe\n",
    "pipe_rf_cvec = Pipeline([('cvec', CountVectorizer()),\n",
    "                         ('rf', RandomForestClassifier(random_state=42, criterion='gini', n_estimators=80))]) \n",
    "# Gini Impurity is a measurement of the likelihood of an incorrect classification uses less computational needs than entropy\n",
    "# Entropy is the measures of impurity, disorder or uncertainty in a bunch of examples\n",
    "\n",
    "# Define dictionary of hyperparameters.\n",
    "pipe_rf_cvec_params = {\n",
    "    'cvec__ngram_range': [(1, 1), (1, 2)],\n",
    "    'cvec__max_features': [40_000, 80_000] #reduce the amount of features as there are alot of features at 160,000\n",
    "}\n",
    "\n",
    "# Instantiate GridSearchCV object.\n",
    "pipe_rf_cvec_gs = GridSearchCV(pipe_rf_cvec,\n",
    "                               pipe_rf_cvec_params,\n",
    "                               cv=5,\n",
    "                               verbose=2)"
   ]
  },
  {
   "cell_type": "code",
   "execution_count": 55,
   "metadata": {
    "ExecuteTime": {
     "end_time": "2021-01-27T09:00:12.306819Z",
     "start_time": "2021-01-27T08:34:43.900654Z"
    },
    "scrolled": true
   },
   "outputs": [
    {
     "name": "stdout",
     "output_type": "stream",
     "text": [
      "Fitting 5 folds for each of 4 candidates, totalling 20 fits\n",
      "[CV] cvec__max_features=40000, cvec__ngram_range=(1, 1) ..............\n"
     ]
    },
    {
     "name": "stderr",
     "output_type": "stream",
     "text": [
      "[Parallel(n_jobs=1)]: Using backend SequentialBackend with 1 concurrent workers.\n"
     ]
    },
    {
     "name": "stdout",
     "output_type": "stream",
     "text": [
      "[CV]  cvec__max_features=40000, cvec__ngram_range=(1, 1), total=  39.4s\n",
      "[CV] cvec__max_features=40000, cvec__ngram_range=(1, 1) ..............\n"
     ]
    },
    {
     "name": "stderr",
     "output_type": "stream",
     "text": [
      "[Parallel(n_jobs=1)]: Done   1 out of   1 | elapsed:   39.4s remaining:    0.0s\n"
     ]
    },
    {
     "name": "stdout",
     "output_type": "stream",
     "text": [
      "[CV]  cvec__max_features=40000, cvec__ngram_range=(1, 1), total=  38.6s\n",
      "[CV] cvec__max_features=40000, cvec__ngram_range=(1, 1) ..............\n",
      "[CV]  cvec__max_features=40000, cvec__ngram_range=(1, 1), total=  38.8s\n",
      "[CV] cvec__max_features=40000, cvec__ngram_range=(1, 1) ..............\n",
      "[CV]  cvec__max_features=40000, cvec__ngram_range=(1, 1), total=  39.1s\n",
      "[CV] cvec__max_features=40000, cvec__ngram_range=(1, 1) ..............\n",
      "[CV]  cvec__max_features=40000, cvec__ngram_range=(1, 1), total=  38.9s\n",
      "[CV] cvec__max_features=40000, cvec__ngram_range=(1, 2) ..............\n",
      "[CV]  cvec__max_features=40000, cvec__ngram_range=(1, 2), total= 1.5min\n",
      "[CV] cvec__max_features=40000, cvec__ngram_range=(1, 2) ..............\n",
      "[CV]  cvec__max_features=40000, cvec__ngram_range=(1, 2), total= 1.5min\n",
      "[CV] cvec__max_features=40000, cvec__ngram_range=(1, 2) ..............\n",
      "[CV]  cvec__max_features=40000, cvec__ngram_range=(1, 2), total= 1.5min\n",
      "[CV] cvec__max_features=40000, cvec__ngram_range=(1, 2) ..............\n",
      "[CV]  cvec__max_features=40000, cvec__ngram_range=(1, 2), total= 1.5min\n",
      "[CV] cvec__max_features=40000, cvec__ngram_range=(1, 2) ..............\n",
      "[CV]  cvec__max_features=40000, cvec__ngram_range=(1, 2), total= 1.5min\n",
      "[CV] cvec__max_features=80000, cvec__ngram_range=(1, 1) ..............\n",
      "[CV]  cvec__max_features=80000, cvec__ngram_range=(1, 1), total=  39.3s\n",
      "[CV] cvec__max_features=80000, cvec__ngram_range=(1, 1) ..............\n",
      "[CV]  cvec__max_features=80000, cvec__ngram_range=(1, 1), total=  38.9s\n",
      "[CV] cvec__max_features=80000, cvec__ngram_range=(1, 1) ..............\n",
      "[CV]  cvec__max_features=80000, cvec__ngram_range=(1, 1), total=  38.8s\n",
      "[CV] cvec__max_features=80000, cvec__ngram_range=(1, 1) ..............\n",
      "[CV]  cvec__max_features=80000, cvec__ngram_range=(1, 1), total=  39.3s\n",
      "[CV] cvec__max_features=80000, cvec__ngram_range=(1, 1) ..............\n",
      "[CV]  cvec__max_features=80000, cvec__ngram_range=(1, 1), total=  40.1s\n",
      "[CV] cvec__max_features=80000, cvec__ngram_range=(1, 2) ..............\n",
      "[CV]  cvec__max_features=80000, cvec__ngram_range=(1, 2), total= 1.8min\n",
      "[CV] cvec__max_features=80000, cvec__ngram_range=(1, 2) ..............\n",
      "[CV]  cvec__max_features=80000, cvec__ngram_range=(1, 2), total= 1.7min\n",
      "[CV] cvec__max_features=80000, cvec__ngram_range=(1, 2) ..............\n",
      "[CV]  cvec__max_features=80000, cvec__ngram_range=(1, 2), total= 1.7min\n",
      "[CV] cvec__max_features=80000, cvec__ngram_range=(1, 2) ..............\n",
      "[CV]  cvec__max_features=80000, cvec__ngram_range=(1, 2), total= 1.7min\n",
      "[CV] cvec__max_features=80000, cvec__ngram_range=(1, 2) ..............\n",
      "[CV]  cvec__max_features=80000, cvec__ngram_range=(1, 2), total= 1.8min\n"
     ]
    },
    {
     "name": "stderr",
     "output_type": "stream",
     "text": [
      "[Parallel(n_jobs=1)]: Done  20 out of  20 | elapsed: 22.9min finished\n"
     ]
    },
    {
     "name": "stdout",
     "output_type": "stream",
     "text": [
      "Finished and best params: {'cvec__max_features': 80000, 'cvec__ngram_range': (1, 2)} and best score: 0.7910632035800151.\n"
     ]
    }
   ],
   "source": [
    "# Fit the GridSearchCV object to the data.\n",
    "pipe_rf_cvec_gs.fit(Xtrain, ytrain)\n",
    "\n",
    "print(f'Finished and best params: {pipe_rf_cvec_gs.best_params_} and best score: {pipe_rf_cvec_gs.best_score_}.')"
   ]
  },
  {
   "cell_type": "markdown",
   "metadata": {},
   "source": [
    "##### Fitting with best params"
   ]
  },
  {
   "cell_type": "code",
   "execution_count": 57,
   "metadata": {
    "ExecuteTime": {
     "end_time": "2021-01-27T09:02:33.887274Z",
     "start_time": "2021-01-27T09:02:32.659586Z"
    }
   },
   "outputs": [],
   "source": [
    "# Instantiate default CountVectorizer\n",
    "rf_cvec = CountVectorizer(max_features=80_000, ngram_range=(1,2))\n",
    "\n",
    "# Fit and transform the CountVectorizer to train\n",
    "rf_Xtrain_cvec = pd.DataFrame(rf_cvec.fit_transform(\n",
    "    Xtrain).toarray(), columns=rf_cvec.get_feature_names())\n",
    "\n",
    "# Transform the fitted CountVectorizer to val\n",
    "rf_Xval_cvec = pd.DataFrame(rf_cvec.transform(\n",
    "    Xval).toarray(), columns=rf_cvec.get_feature_names())"
   ]
  },
  {
   "cell_type": "code",
   "execution_count": null,
   "metadata": {
    "ExecuteTime": {
     "end_time": "2021-01-27T13:13:19.321902Z",
     "start_time": "2021-01-27T09:03:06.600605Z"
    }
   },
   "outputs": [],
   "source": [
    "# Instantiate RandomForestClassifier model\n",
    "rf_cvec_ = RandomForestClassifier(n_estimators=80, random_state=42, criterion='gini')\n",
    "\n",
    "# fit train cvec data to RandomForestClassifier model\n",
    "rf_cvec_model = rf_cvec_.fit(rf_Xtrain_cvec, ytrain)"
   ]
  },
  {
   "cell_type": "code",
   "execution_count": null,
   "metadata": {},
   "outputs": [],
   "source": [
    "# save the model to disk\n",
    "pickle.dump(rf_cvec_model, open('../models/rf_cvec_model.sav', 'wb'))"
   ]
  },
  {
   "cell_type": "code",
   "execution_count": null,
   "metadata": {},
   "outputs": [],
   "source": [
    "# load the model from disk in case crash\n",
    "#rf_cvec_model = pickle.load(open('../models/rf_cvec_model.sav', 'rb'))"
   ]
  },
  {
   "cell_type": "markdown",
   "metadata": {},
   "source": [
    "This model similar to their LogisticRegression counterpart, performed much better than the baseline but performed slightly worse than their counterparts at 82% accuracy and is also slightly overfitted."
   ]
  },
  {
   "cell_type": "code",
   "execution_count": null,
   "metadata": {
    "ExecuteTime": {
     "end_time": "2021-01-25T08:56:09.953819Z",
     "start_time": "2021-01-25T08:56:02.163668Z"
    }
   },
   "outputs": [],
   "source": [
    "# check the scoring for the train set\n",
    "rf_cvec_train_score = rf_cvec_model.score(rf_Xtrain_cvec, ytrain)\n",
    "print(rf_cvec_train_score)\n",
    "\n",
    "# check the scoring for the validation set\n",
    "print(rf_cvec_model.score(rf_Xval_cvec, yval))"
   ]
  },
  {
   "cell_type": "code",
   "execution_count": null,
   "metadata": {
    "ExecuteTime": {
     "end_time": "2021-01-25T08:56:10.811268Z",
     "start_time": "2021-01-25T08:56:09.962603Z"
    }
   },
   "outputs": [],
   "source": [
    "# predictions of the validation data\n",
    "rf_cvec_ypred = rf_cvec_model.predict(rf_Xval_cvec)"
   ]
  },
  {
   "cell_type": "markdown",
   "metadata": {},
   "source": [
    "The F1 socre for the mnb_cvec_model, Multinomial Naive Bayes model fitted with CountVectorized features, is 0.72 which sligtly lower than the lr_cvec and lr_tfidf models before similar trend as the accuracy score. F1score will be the main metrics for measuring and comparing the models as this is an imbalance multiclass text classification. Another metric to compare and see the performance of the models is to look at the confusion matrix itself. We can see from the confusion matrix that it also follows a similar trend with the lr_cvec and lr_tfidf models."
   ]
  },
  {
   "cell_type": "code",
   "execution_count": null,
   "metadata": {
    "ExecuteTime": {
     "end_time": "2021-01-25T08:56:10.869852Z",
     "start_time": "2021-01-25T08:56:10.814337Z"
    },
    "scrolled": true
   },
   "outputs": [],
   "source": [
    "#Call scoring function\n",
    "scoring(yval, rf_cvec_ypred, 'RandomForest-CVEC model', rf_cvec_train_score)"
   ]
  },
  {
   "cell_type": "code",
   "execution_count": null,
   "metadata": {
    "ExecuteTime": {
     "end_time": "2021-01-25T08:56:10.913051Z",
     "start_time": "2021-01-25T08:56:10.872180Z"
    }
   },
   "outputs": [],
   "source": [
    "rf_cvec_cm = pd.DataFrame(sklearn.metrics.confusion_matrix(yval, rf_cvec_ypred))\n",
    "rf_cvec_cm"
   ]
  },
  {
   "cell_type": "markdown",
   "metadata": {},
   "source": [
    "#### Random Forest Model - TfidfVectorizer"
   ]
  },
  {
   "cell_type": "markdown",
   "metadata": {},
   "source": [
    "TfidfVectorizer although similar to CountVectorizer taking into account the number of times each word appears in a document, but uses the term frequency and puts weights on each word for a document. Lets see how well it performs in comparison to the model above."
   ]
  },
  {
   "cell_type": "code",
   "execution_count": null,
   "metadata": {
    "ExecuteTime": {
     "end_time": "2021-01-25T08:57:04.193023Z",
     "start_time": "2021-01-25T08:57:04.130967Z"
    }
   },
   "outputs": [],
   "source": [
    "# Create pipe\n",
    "pipe_rf_tfidf = Pipeline([('tfidf', TfidfVectorizer()),\n",
    "                         ('rf', RandomForestClassifier(random_state=42, criterion='gini', n_estimators=80))]) \n",
    "\n",
    "# Define dictionary of hyperparameters.\n",
    "pipe_rf_tfidf_params = {\n",
    "    'tfidf__ngram_range': [(1, 1), (1, 2)],\n",
    "    'tfidf__max_features': [40_000, 80_000] #reduce the amount of features\n",
    "}\n",
    "\n",
    "# Instantiate GridSearchCV object.\n",
    "pipe_rf_tfidf_gs = GridSearchCV(pipe_rf_tfidf,\n",
    "                                pipe_rf_tfidf_params,\n",
    "                                cv=5,\n",
    "                                verbose=2)"
   ]
  },
  {
   "cell_type": "code",
   "execution_count": null,
   "metadata": {
    "ExecuteTime": {
     "end_time": "2021-01-25T08:57:37.445727Z",
     "start_time": "2021-01-25T08:57:11.332221Z"
    },
    "scrolled": true
   },
   "outputs": [],
   "source": [
    "# Fit the GridSearchCV object to the data.\n",
    "pipe_rf_tfidf_gs.fit(Xtrain, ytrain)\n",
    "\n",
    "print(f'Finished and best params: {pipe_rf_tfidf_gs.best_params_} and best score: {pipe_rf_tfidf_gs.best_score_}.')"
   ]
  },
  {
   "cell_type": "markdown",
   "metadata": {},
   "source": [
    "##### Fitting with best params"
   ]
  },
  {
   "cell_type": "code",
   "execution_count": null,
   "metadata": {
    "ExecuteTime": {
     "end_time": "2021-01-25T09:07:56.651283Z",
     "start_time": "2021-01-25T09:07:55.627049Z"
    }
   },
   "outputs": [],
   "source": [
    "# Instantiate default TfidfVectorizer\n",
    "rf_tfidf = TfidfVectorizer(max_features=40_000, ngram_range=(1,2))\n",
    "\n",
    "# Fit and transform the CountVectorizer to train\n",
    "rf_Xtrain_tfidf = pd.DataFrame(rf_tfidf.fit_transform(\n",
    "    Xtrain).toarray(), columns=rf_tfidf.get_feature_names())\n",
    "\n",
    "# Transform the fitted CountVectorizer to val\n",
    "rf_Xval_tfidf = pd.DataFrame(rf_tfidf.transform(\n",
    "    Xval).toarray(), columns=rf_tfidf.get_feature_names())\n"
   ]
  },
  {
   "cell_type": "code",
   "execution_count": null,
   "metadata": {
    "ExecuteTime": {
     "end_time": "2021-01-25T09:08:03.194603Z",
     "start_time": "2021-01-25T09:07:57.936924Z"
    }
   },
   "outputs": [],
   "source": [
    "# Instantiate LogisticRegression model\n",
    "rf_tfidf_ = MultinomialNB(n_estimators=80, random_state=42, criterion='gini')\n",
    "\n",
    "# fit train cvec data to LogisticRegression model\n",
    "rf_tfidf_model = rf_tfidf_.fit(mnb_Xtrain_tfidf, ytrain)"
   ]
  },
  {
   "cell_type": "code",
   "execution_count": null,
   "metadata": {},
   "outputs": [],
   "source": [
    "# save the model to disk\n",
    "pickle.dump(rf_tfidf_model, open('../models/rf_tfidf_model.sav', 'wb'))"
   ]
  },
  {
   "cell_type": "code",
   "execution_count": null,
   "metadata": {},
   "outputs": [],
   "source": [
    "# load the model from disk if crash\n",
    "#rf_tfidf_model = pickle.load(open('../models/rf_tfidf_model.sav', 'rb'))"
   ]
  },
  {
   "cell_type": "markdown",
   "metadata": {},
   "source": [
    "This model also performed much better than the baseline but performed slightly worse than their counterparts at 81% accuracy and is more overfitted than the other models."
   ]
  },
  {
   "cell_type": "code",
   "execution_count": null,
   "metadata": {
    "ExecuteTime": {
     "end_time": "2021-01-25T09:08:07.551837Z",
     "start_time": "2021-01-25T09:08:05.606288Z"
    }
   },
   "outputs": [],
   "source": [
    "# check the scoring for the train set\n",
    "rf_tfidf_train_score = rf_tfidf_model.score(rf_Xtrain_tfidf, ytrain)\n",
    "print(rf_tfidf_train_score)\n",
    "\n",
    "# check the scoring for the validation set\n",
    "print(rf_tfidf_model.score(rf_Xval_tfidf, yval))"
   ]
  },
  {
   "cell_type": "code",
   "execution_count": null,
   "metadata": {
    "ExecuteTime": {
     "end_time": "2021-01-25T09:08:08.841693Z",
     "start_time": "2021-01-25T09:08:08.549753Z"
    }
   },
   "outputs": [],
   "source": [
    "# predictions of the validation data\n",
    "rf_tfidf_ypred = rf_tfidf_model.predict(rf_Xval_tfidf)\n"
   ]
  },
  {
   "cell_type": "markdown",
   "metadata": {},
   "source": [
    "The F1 socre for the mnb_tfidf_model, Multinomial Naive Bayes model fitted with TfidfVectorized features, is 0.70 which lower than the models before except for the lr_d2v model. This is a similar trend with its accuracy score. F1score will be the main metrics for measuring and comparing the models as this is an imbalance multiclass text classification. Another metric to compare and see the performance of the models is to look at the confusion matrix itself. We can see from the confusion matrix that it also follows a similar trend with the lr_cvec and lr_tfidf models."
   ]
  },
  {
   "cell_type": "code",
   "execution_count": null,
   "metadata": {
    "ExecuteTime": {
     "end_time": "2021-01-25T09:08:10.360165Z",
     "start_time": "2021-01-25T09:08:10.306342Z"
    },
    "scrolled": true
   },
   "outputs": [],
   "source": [
    "#Call scoring function\n",
    "scoring(yval, rf_tfidf_ypred, 'RandomForest-TFIDF model', rf_tfidf_train_score)"
   ]
  },
  {
   "cell_type": "code",
   "execution_count": null,
   "metadata": {
    "ExecuteTime": {
     "end_time": "2021-01-25T09:08:19.397850Z",
     "start_time": "2021-01-25T09:08:19.366774Z"
    }
   },
   "outputs": [],
   "source": [
    "rf_tfidf_cm = pd.DataFrame(sklearn.metrics.confusion_matrix(yval, rf_tfidf_ypred))\n",
    "rf_tfidf_cm"
   ]
  },
  {
   "cell_type": "markdown",
   "metadata": {},
   "source": [
    "#### Random Forest Model - Doc2Vec"
   ]
  },
  {
   "cell_type": "code",
   "execution_count": null,
   "metadata": {
    "ExecuteTime": {
     "end_time": "2021-01-26T04:07:37.442037Z",
     "start_time": "2021-01-26T01:41:17.886677Z"
    },
    "scrolled": true
   },
   "outputs": [],
   "source": [
    "rf_d2v_params = {'doc2vec__vector_size': [100,200]\n",
    "}\n",
    "\n",
    "rf_d2v_pipe = Pipeline([('doc2vec', Doc2VecModel(workers=cores, dm=0)), ('rf', RandomForestClassifier(random_state=42, criterion='gini', n_estimators=80))])\n",
    "\n",
    "rf_d2v_gs = GridSearchCV(rf_d2v_pipe, \n",
    "                        param_grid=rf_d2v_params,\n",
    "                        verbose=2,\n",
    "                        cv=5)\n",
    "\n",
    "# Fit the GridSearchCV object to the data.\n",
    "rf_d2v_gs.fit(Xtrain, ytrain)\n",
    "\n",
    "print(f'Finished and best params: {rf_d2v_gs.best_params_} and best score: {rf_d2v_gs.best_score_}.')"
   ]
  },
  {
   "cell_type": "markdown",
   "metadata": {},
   "source": [
    "##### Fitting with best params"
   ]
  },
  {
   "cell_type": "code",
   "execution_count": null,
   "metadata": {},
   "outputs": [],
   "source": [
    "# Building Doc2Vec model\n",
    "rf_model_d2v = Doc2Vec(size=100, dm=1, workers=cores)\n",
    "rf_model_d2v.build_vocab([x for x in tqdm(train_tagged)])"
   ]
  },
  {
   "cell_type": "code",
   "execution_count": null,
   "metadata": {},
   "outputs": [],
   "source": [
    "#Train Doc2Vec model\n",
    "%time\n",
    "for epoch in range(30):\n",
    "    rf_model_d2v.train(train_tagged, total_examples=rf_model_d2v.corpus_count, epochs=rf_model_d2v.epochs)"
   ]
  },
  {
   "cell_type": "code",
   "execution_count": null,
   "metadata": {},
   "outputs": [],
   "source": [
    "#Extract training vectors\n",
    "rf_Xtrain_d2v = np.array([rf_model_d2v.docvecs[str(i)] for i in range(len(train_tagged))])\n",
    "rf_Xtrain_d2v\n"
   ]
  },
  {
   "cell_type": "code",
   "execution_count": null,
   "metadata": {},
   "outputs": [],
   "source": [
    "# This is for test, but for val, we would want to generate vectors for prediction\n",
    "rf_Xval_d2v = np.array([rf_model_d2v.infer_vector(val_tagged[i][0]) for i in range(len(val_tagged))])\n"
   ]
  },
  {
   "cell_type": "code",
   "execution_count": null,
   "metadata": {},
   "outputs": [],
   "source": [
    "#Train the Model\n",
    "rf_d2v = RandomForestClassifier(n_estimators=80, random_state=42, criterion='gini')\n",
    "rf_d2v_model = rf_d2v.fit(rf_Xtrain_d2v, ytrain)\n",
    "rf_d2v_train_score = rf_d2v_model.score(rf_Xtrain_d2v, ytrain)\n",
    "rf_d2v_ypred = rf_d2v_model.predict(rf_Xval_d2v)\n",
    "print('Testing accuracy %s' % accuracy_score(yval, rf_ypred_d2v))\n",
    "print('Testing F1 score: {}'.format(f1_score(yval, rf_ypred_d2v, average='macro')))"
   ]
  },
  {
   "cell_type": "code",
   "execution_count": null,
   "metadata": {},
   "outputs": [],
   "source": [
    "# save the model to disk\n",
    "pickle.dump(rf_d2v_model, open('../models/rf_d2v_model.sav', 'wb'))"
   ]
  },
  {
   "cell_type": "code",
   "execution_count": null,
   "metadata": {},
   "outputs": [],
   "source": [
    "# load the model from disk\n",
    "#rf_d2v_model = pickle.load(open('../models/rf_d2v_model.sav', 'rb'))"
   ]
  },
  {
   "cell_type": "code",
   "execution_count": null,
   "metadata": {},
   "outputs": [],
   "source": [
    "#Call scoring function\n",
    "scoring(yval, rf_ypred_d2v, 'RandomForest-D2V model', rf_d2v_train_score)"
   ]
  },
  {
   "cell_type": "code",
   "execution_count": null,
   "metadata": {},
   "outputs": [],
   "source": [
    "rf_d2v_cm = pd.DataFrame(sklearn.metrics.confusion_matrix(yval, rf_d2v_ypred))\n",
    "rf_d2v_cm"
   ]
  },
  {
   "cell_type": "markdown",
   "metadata": {},
   "source": [
    "## Evaluation of production model"
   ]
  },
  {
   "cell_type": "markdown",
   "metadata": {},
   "source": [
    "### Model Summary"
   ]
  },
  {
   "cell_type": "markdown",
   "metadata": {},
   "source": [
    "The production model chosen is the Logistic Regression fitted with CountVectorized features."
   ]
  },
  {
   "cell_type": "code",
   "execution_count": 56,
   "metadata": {
    "ExecuteTime": {
     "end_time": "2021-01-27T09:00:46.452454Z",
     "start_time": "2021-01-27T09:00:46.439408Z"
    }
   },
   "outputs": [
    {
     "data": {
      "text/html": [
       "<div>\n",
       "<style scoped>\n",
       "    .dataframe tbody tr th:only-of-type {\n",
       "        vertical-align: middle;\n",
       "    }\n",
       "\n",
       "    .dataframe tbody tr th {\n",
       "        vertical-align: top;\n",
       "    }\n",
       "\n",
       "    .dataframe thead th {\n",
       "        text-align: right;\n",
       "    }\n",
       "</style>\n",
       "<table border=\"1\" class=\"dataframe\">\n",
       "  <thead>\n",
       "    <tr style=\"text-align: right;\">\n",
       "      <th></th>\n",
       "      <th>Model Name</th>\n",
       "      <th>F1-Score</th>\n",
       "      <th>Recall</th>\n",
       "      <th>Precision</th>\n",
       "      <th>Train Accuracy</th>\n",
       "      <th>Test Accuracy</th>\n",
       "    </tr>\n",
       "  </thead>\n",
       "  <tbody>\n",
       "    <tr>\n",
       "      <th>0</th>\n",
       "      <td>MultinomialNB-CVEC model</td>\n",
       "      <td>0.695742</td>\n",
       "      <td>0.658032</td>\n",
       "      <td>0.796908</td>\n",
       "      <td>0.884560</td>\n",
       "      <td>0.804675</td>\n",
       "    </tr>\n",
       "    <tr>\n",
       "      <th>1</th>\n",
       "      <td>MultinomialNB-TFIDF model</td>\n",
       "      <td>0.618137</td>\n",
       "      <td>0.573630</td>\n",
       "      <td>0.784968</td>\n",
       "      <td>0.790292</td>\n",
       "      <td>0.755864</td>\n",
       "    </tr>\n",
       "    <tr>\n",
       "      <th>2</th>\n",
       "      <td>GaussianNB-D2V model</td>\n",
       "      <td>0.012941</td>\n",
       "      <td>0.082344</td>\n",
       "      <td>0.190904</td>\n",
       "      <td>0.594681</td>\n",
       "      <td>0.044681</td>\n",
       "    </tr>\n",
       "  </tbody>\n",
       "</table>\n",
       "</div>"
      ],
      "text/plain": [
       "                  Model Name  F1-Score    Recall  Precision  Train Accuracy  \\\n",
       "0   MultinomialNB-CVEC model  0.695742  0.658032   0.796908        0.884560   \n",
       "1  MultinomialNB-TFIDF model  0.618137  0.573630   0.784968        0.790292   \n",
       "2       GaussianNB-D2V model  0.012941  0.082344   0.190904        0.594681   \n",
       "\n",
       "   Test Accuracy  \n",
       "0       0.804675  \n",
       "1       0.755864  \n",
       "2       0.044681  "
      ]
     },
     "execution_count": 56,
     "metadata": {},
     "output_type": "execute_result"
    }
   ],
   "source": [
    "model_df = pd.DataFrame({'Model Name': model_name,\n",
    "              'F1-Score': model_F1scores,\n",
    "             'Recall': model_recall,\n",
    "              'Precision': model_precision,\n",
    "              'Train Accuracy': model_train_accuracy,\n",
    "             'Test Accuracy': model_test_accuracy}).sort_values(by='F1-Score', ascending=False)\n",
    "model_df"
   ]
  },
  {
   "cell_type": "markdown",
   "metadata": {},
   "source": [
    "Try plotting all the f1 macro score and vline benchmark and baseline"
   ]
  },
  {
   "cell_type": "code",
   "execution_count": null,
   "metadata": {},
   "outputs": [],
   "source": [
    "sns.barplot(x=model_df['Test Accuracy'], y=model_df.index, orient='h',color='lightgrey')\n",
    "plt.vlines(x=0.14, ymin=0, ymax=2, colors='red', linestyles='dashed', label='baseline')\n",
    "plt.title('Accuracy Comparison for Selected Model');"
   ]
  },
  {
   "cell_type": "markdown",
   "metadata": {},
   "source": [
    "### Plotting Confusion Matrix"
   ]
  },
  {
   "cell_type": "markdown",
   "metadata": {},
   "source": [
    "Lets look at why some of the products got misclassified. Using the production model to plot the confusion matrix, we see that most of the products were predicted into the correct class. However, there are about 15% products misclassified. Lets deep dive into the products that were misclassified quite substantially. For example, products from juice nectars got misclassified to refrigerated and vice versa quite substantially."
   ]
  },
  {
   "cell_type": "code",
   "execution_count": 25,
   "metadata": {
    "ExecuteTime": {
     "end_time": "2021-01-27T13:17:52.442261Z",
     "start_time": "2021-01-27T13:17:52.387799Z"
    }
   },
   "outputs": [
    {
     "name": "stdout",
     "output_type": "stream",
     "text": [
      "(12108,)\n",
      "(12108, 9)\n"
     ]
    }
   ],
   "source": [
    "# taking the index of validation set from main df and all the columns after it for aisles\n",
    "production_val_df = Train.loc[yval.index,:]\n",
    "print(yval.shape)\n",
    "print(production_val_df.shape)\n"
   ]
  },
  {
   "cell_type": "code",
   "execution_count": 26,
   "metadata": {
    "ExecuteTime": {
     "end_time": "2021-01-27T13:17:54.039546Z",
     "start_time": "2021-01-27T13:17:54.011255Z"
    }
   },
   "outputs": [
    {
     "data": {
      "text/html": [
       "<div>\n",
       "<style scoped>\n",
       "    .dataframe tbody tr th:only-of-type {\n",
       "        vertical-align: middle;\n",
       "    }\n",
       "\n",
       "    .dataframe tbody tr th {\n",
       "        vertical-align: top;\n",
       "    }\n",
       "\n",
       "    .dataframe thead th {\n",
       "        text-align: right;\n",
       "    }\n",
       "</style>\n",
       "<table border=\"1\" class=\"dataframe\">\n",
       "  <thead>\n",
       "    <tr style=\"text-align: right;\">\n",
       "      <th></th>\n",
       "      <th>Unnamed: 0</th>\n",
       "      <th>product_id</th>\n",
       "      <th>product_name</th>\n",
       "      <th>aisle_id</th>\n",
       "      <th>aisle_name</th>\n",
       "      <th>department_id</th>\n",
       "      <th>department_name</th>\n",
       "      <th>length_product_name</th>\n",
       "      <th>product_name_words</th>\n",
       "    </tr>\n",
       "  </thead>\n",
       "  <tbody>\n",
       "    <tr>\n",
       "      <th>19437</th>\n",
       "      <td>19437</td>\n",
       "      <td>19438</td>\n",
       "      <td>Chunky Beef Soup</td>\n",
       "      <td>69</td>\n",
       "      <td>soup broth bouillon</td>\n",
       "      <td>15</td>\n",
       "      <td>canned goods</td>\n",
       "      <td>3</td>\n",
       "      <td>chunky beef soup</td>\n",
       "    </tr>\n",
       "  </tbody>\n",
       "</table>\n",
       "</div>"
      ],
      "text/plain": [
       "       Unnamed: 0  product_id      product_name  aisle_id  \\\n",
       "19437       19437       19438  Chunky Beef Soup        69   \n",
       "\n",
       "                aisle_name  department_id department_name  \\\n",
       "19437  soup broth bouillon             15    canned goods   \n",
       "\n",
       "       length_product_name product_name_words  \n",
       "19437                    3   chunky beef soup  "
      ]
     },
     "execution_count": 26,
     "metadata": {},
     "output_type": "execute_result"
    }
   ],
   "source": [
    "production_val_df.head(1)"
   ]
  },
  {
   "cell_type": "code",
   "execution_count": 27,
   "metadata": {
    "ExecuteTime": {
     "end_time": "2021-01-27T13:17:56.019904Z",
     "start_time": "2021-01-27T13:17:56.009923Z"
    }
   },
   "outputs": [],
   "source": [
    "# dropping irrelevant columns\n",
    "production_val_df.drop(columns=['aisle_id','aisle_name'],inplace=True)"
   ]
  },
  {
   "cell_type": "code",
   "execution_count": 28,
   "metadata": {
    "ExecuteTime": {
     "end_time": "2021-01-27T13:17:59.100191Z",
     "start_time": "2021-01-27T13:17:59.087444Z"
    }
   },
   "outputs": [
    {
     "data": {
      "text/html": [
       "<div>\n",
       "<style scoped>\n",
       "    .dataframe tbody tr th:only-of-type {\n",
       "        vertical-align: middle;\n",
       "    }\n",
       "\n",
       "    .dataframe tbody tr th {\n",
       "        vertical-align: top;\n",
       "    }\n",
       "\n",
       "    .dataframe thead th {\n",
       "        text-align: right;\n",
       "    }\n",
       "</style>\n",
       "<table border=\"1\" class=\"dataframe\">\n",
       "  <thead>\n",
       "    <tr style=\"text-align: right;\">\n",
       "      <th></th>\n",
       "      <th>Unnamed: 0</th>\n",
       "      <th>product_id</th>\n",
       "      <th>product_name</th>\n",
       "      <th>department_id</th>\n",
       "      <th>department_name</th>\n",
       "      <th>length_product_name</th>\n",
       "      <th>product_name_words</th>\n",
       "    </tr>\n",
       "  </thead>\n",
       "  <tbody>\n",
       "    <tr>\n",
       "      <th>19437</th>\n",
       "      <td>19437</td>\n",
       "      <td>19438</td>\n",
       "      <td>Chunky Beef Soup</td>\n",
       "      <td>15</td>\n",
       "      <td>canned goods</td>\n",
       "      <td>3</td>\n",
       "      <td>chunky beef soup</td>\n",
       "    </tr>\n",
       "    <tr>\n",
       "      <th>28823</th>\n",
       "      <td>28823</td>\n",
       "      <td>28824</td>\n",
       "      <td>Onion Rings</td>\n",
       "      <td>1</td>\n",
       "      <td>frozen</td>\n",
       "      <td>2</td>\n",
       "      <td>onion ring</td>\n",
       "    </tr>\n",
       "  </tbody>\n",
       "</table>\n",
       "</div>"
      ],
      "text/plain": [
       "       Unnamed: 0  product_id      product_name  department_id  \\\n",
       "19437       19437       19438  Chunky Beef Soup             15   \n",
       "28823       28823       28824       Onion Rings              1   \n",
       "\n",
       "      department_name  length_product_name product_name_words  \n",
       "19437    canned goods                    3   chunky beef soup  \n",
       "28823          frozen                    2         onion ring  "
      ]
     },
     "execution_count": 28,
     "metadata": {},
     "output_type": "execute_result"
    }
   ],
   "source": [
    "production_val_df.head(2)"
   ]
  },
  {
   "cell_type": "code",
   "execution_count": 82,
   "metadata": {
    "ExecuteTime": {
     "end_time": "2021-01-27T14:33:18.097181Z",
     "start_time": "2021-01-27T14:33:18.086954Z"
    },
    "scrolled": true
   },
   "outputs": [
    {
     "data": {
      "text/plain": [
       "department_name  department_id\n",
       "alcohol          5                 263\n",
       "babies           18                270\n",
       "bakery           3                 379\n",
       "beverages        7                1091\n",
       "breakfast        14                279\n",
       "canned goods     15                523\n",
       "dairy eggs       16                862\n",
       "deli             20                331\n",
       "dry goods pasta  9                 465\n",
       "frozen           1                1002\n",
       "household        17                771\n",
       "international    6                 285\n",
       "meat seafood     12                227\n",
       "other            2                 137\n",
       "                 10                  9\n",
       "pantry           13               1343\n",
       "personal care    11               1641\n",
       "pets             8                 243\n",
       "produce          4                 421\n",
       "snacks           19               1566\n",
       "Name: department_id, dtype: int64"
      ]
     },
     "execution_count": 82,
     "metadata": {},
     "output_type": "execute_result"
    }
   ],
   "source": [
    "# getting the aisle names of validation set to add into confusion matrix\n",
    "dept_names = production_val_df.groupby(['department_name'])['department_id'].value_counts()\n",
    "dept_names"
   ]
  },
  {
   "cell_type": "code",
   "execution_count": 42,
   "metadata": {
    "ExecuteTime": {
     "end_time": "2021-01-27T13:34:42.006746Z",
     "start_time": "2021-01-27T13:34:41.973125Z"
    }
   },
   "outputs": [],
   "source": [
    "# Get the predicted aisles\n",
    "production_val_df['pred'] = benchmark_ypred"
   ]
  },
  {
   "cell_type": "code",
   "execution_count": 106,
   "metadata": {
    "ExecuteTime": {
     "end_time": "2021-01-27T14:54:31.302032Z",
     "start_time": "2021-01-27T14:54:31.293553Z"
    }
   },
   "outputs": [],
   "source": [
    "# Get only products which got misclassified\n",
    "misclass_df = production_val_df[production_val_df['department_id']!=production_val_df['pred']]\n",
    "misclass = misclass_df.shape\n",
    "val = production_val_df.shape"
   ]
  },
  {
   "cell_type": "code",
   "execution_count": 107,
   "metadata": {
    "ExecuteTime": {
     "end_time": "2021-01-27T14:54:32.487754Z",
     "start_time": "2021-01-27T14:54:32.482265Z"
    }
   },
   "outputs": [
    {
     "name": "stdout",
     "output_type": "stream",
     "text": [
      "(1904, 8)\n",
      "(12108, 8)\n"
     ]
    },
    {
     "data": {
      "text/plain": [
       "0.15725140403039312"
      ]
     },
     "execution_count": 107,
     "metadata": {},
     "output_type": "execute_result"
    }
   ],
   "source": [
    "#finding the percentage of misclassification\n",
    "print(misclass)\n",
    "print(val)\n",
    "misclass[0]/val[0]"
   ]
  },
  {
   "cell_type": "code",
   "execution_count": 108,
   "metadata": {
    "ExecuteTime": {
     "end_time": "2021-01-27T14:54:34.554414Z",
     "start_time": "2021-01-27T14:54:34.524240Z"
    }
   },
   "outputs": [
    {
     "data": {
      "text/html": [
       "<div>\n",
       "<style scoped>\n",
       "    .dataframe tbody tr th:only-of-type {\n",
       "        vertical-align: middle;\n",
       "    }\n",
       "\n",
       "    .dataframe tbody tr th {\n",
       "        vertical-align: top;\n",
       "    }\n",
       "\n",
       "    .dataframe thead th {\n",
       "        text-align: right;\n",
       "    }\n",
       "</style>\n",
       "<table border=\"1\" class=\"dataframe\">\n",
       "  <thead>\n",
       "    <tr style=\"text-align: right;\">\n",
       "      <th></th>\n",
       "      <th>0</th>\n",
       "      <th>1</th>\n",
       "      <th>2</th>\n",
       "      <th>3</th>\n",
       "      <th>4</th>\n",
       "      <th>5</th>\n",
       "      <th>6</th>\n",
       "      <th>7</th>\n",
       "      <th>8</th>\n",
       "      <th>9</th>\n",
       "      <th>10</th>\n",
       "      <th>11</th>\n",
       "      <th>12</th>\n",
       "      <th>13</th>\n",
       "      <th>14</th>\n",
       "      <th>15</th>\n",
       "      <th>16</th>\n",
       "      <th>17</th>\n",
       "      <th>18</th>\n",
       "      <th>19</th>\n",
       "    </tr>\n",
       "  </thead>\n",
       "  <tbody>\n",
       "    <tr>\n",
       "      <th>0</th>\n",
       "      <td>795</td>\n",
       "      <td>0</td>\n",
       "      <td>16</td>\n",
       "      <td>35</td>\n",
       "      <td>0</td>\n",
       "      <td>3</td>\n",
       "      <td>7</td>\n",
       "      <td>1</td>\n",
       "      <td>28</td>\n",
       "      <td>0</td>\n",
       "      <td>8</td>\n",
       "      <td>16</td>\n",
       "      <td>21</td>\n",
       "      <td>3</td>\n",
       "      <td>16</td>\n",
       "      <td>4</td>\n",
       "      <td>0</td>\n",
       "      <td>0</td>\n",
       "      <td>31</td>\n",
       "      <td>18</td>\n",
       "    </tr>\n",
       "    <tr>\n",
       "      <th>1</th>\n",
       "      <td>3</td>\n",
       "      <td>34</td>\n",
       "      <td>0</td>\n",
       "      <td>3</td>\n",
       "      <td>6</td>\n",
       "      <td>0</td>\n",
       "      <td>0</td>\n",
       "      <td>0</td>\n",
       "      <td>1</td>\n",
       "      <td>0</td>\n",
       "      <td>52</td>\n",
       "      <td>2</td>\n",
       "      <td>15</td>\n",
       "      <td>1</td>\n",
       "      <td>0</td>\n",
       "      <td>3</td>\n",
       "      <td>4</td>\n",
       "      <td>4</td>\n",
       "      <td>8</td>\n",
       "      <td>1</td>\n",
       "    </tr>\n",
       "    <tr>\n",
       "      <th>2</th>\n",
       "      <td>16</td>\n",
       "      <td>0</td>\n",
       "      <td>293</td>\n",
       "      <td>5</td>\n",
       "      <td>0</td>\n",
       "      <td>1</td>\n",
       "      <td>4</td>\n",
       "      <td>0</td>\n",
       "      <td>0</td>\n",
       "      <td>0</td>\n",
       "      <td>2</td>\n",
       "      <td>1</td>\n",
       "      <td>13</td>\n",
       "      <td>1</td>\n",
       "      <td>0</td>\n",
       "      <td>1</td>\n",
       "      <td>1</td>\n",
       "      <td>0</td>\n",
       "      <td>40</td>\n",
       "      <td>1</td>\n",
       "    </tr>\n",
       "    <tr>\n",
       "      <th>3</th>\n",
       "      <td>15</td>\n",
       "      <td>0</td>\n",
       "      <td>0</td>\n",
       "      <td>350</td>\n",
       "      <td>0</td>\n",
       "      <td>2</td>\n",
       "      <td>4</td>\n",
       "      <td>0</td>\n",
       "      <td>0</td>\n",
       "      <td>0</td>\n",
       "      <td>7</td>\n",
       "      <td>0</td>\n",
       "      <td>16</td>\n",
       "      <td>1</td>\n",
       "      <td>5</td>\n",
       "      <td>1</td>\n",
       "      <td>2</td>\n",
       "      <td>2</td>\n",
       "      <td>14</td>\n",
       "      <td>2</td>\n",
       "    </tr>\n",
       "    <tr>\n",
       "      <th>4</th>\n",
       "      <td>0</td>\n",
       "      <td>0</td>\n",
       "      <td>0</td>\n",
       "      <td>9</td>\n",
       "      <td>228</td>\n",
       "      <td>0</td>\n",
       "      <td>6</td>\n",
       "      <td>0</td>\n",
       "      <td>0</td>\n",
       "      <td>0</td>\n",
       "      <td>9</td>\n",
       "      <td>0</td>\n",
       "      <td>5</td>\n",
       "      <td>0</td>\n",
       "      <td>0</td>\n",
       "      <td>0</td>\n",
       "      <td>1</td>\n",
       "      <td>0</td>\n",
       "      <td>5</td>\n",
       "      <td>0</td>\n",
       "    </tr>\n",
       "    <tr>\n",
       "      <th>5</th>\n",
       "      <td>11</td>\n",
       "      <td>0</td>\n",
       "      <td>6</td>\n",
       "      <td>6</td>\n",
       "      <td>1</td>\n",
       "      <td>141</td>\n",
       "      <td>8</td>\n",
       "      <td>0</td>\n",
       "      <td>14</td>\n",
       "      <td>0</td>\n",
       "      <td>4</td>\n",
       "      <td>0</td>\n",
       "      <td>44</td>\n",
       "      <td>0</td>\n",
       "      <td>21</td>\n",
       "      <td>4</td>\n",
       "      <td>4</td>\n",
       "      <td>0</td>\n",
       "      <td>16</td>\n",
       "      <td>5</td>\n",
       "    </tr>\n",
       "    <tr>\n",
       "      <th>6</th>\n",
       "      <td>2</td>\n",
       "      <td>1</td>\n",
       "      <td>2</td>\n",
       "      <td>15</td>\n",
       "      <td>5</td>\n",
       "      <td>1</td>\n",
       "      <td>1013</td>\n",
       "      <td>0</td>\n",
       "      <td>0</td>\n",
       "      <td>0</td>\n",
       "      <td>12</td>\n",
       "      <td>0</td>\n",
       "      <td>9</td>\n",
       "      <td>0</td>\n",
       "      <td>3</td>\n",
       "      <td>13</td>\n",
       "      <td>2</td>\n",
       "      <td>1</td>\n",
       "      <td>12</td>\n",
       "      <td>0</td>\n",
       "    </tr>\n",
       "    <tr>\n",
       "      <th>7</th>\n",
       "      <td>2</td>\n",
       "      <td>0</td>\n",
       "      <td>0</td>\n",
       "      <td>3</td>\n",
       "      <td>0</td>\n",
       "      <td>0</td>\n",
       "      <td>0</td>\n",
       "      <td>221</td>\n",
       "      <td>1</td>\n",
       "      <td>0</td>\n",
       "      <td>5</td>\n",
       "      <td>0</td>\n",
       "      <td>0</td>\n",
       "      <td>0</td>\n",
       "      <td>0</td>\n",
       "      <td>0</td>\n",
       "      <td>6</td>\n",
       "      <td>1</td>\n",
       "      <td>4</td>\n",
       "      <td>0</td>\n",
       "    </tr>\n",
       "    <tr>\n",
       "      <th>8</th>\n",
       "      <td>24</td>\n",
       "      <td>1</td>\n",
       "      <td>1</td>\n",
       "      <td>8</td>\n",
       "      <td>2</td>\n",
       "      <td>19</td>\n",
       "      <td>1</td>\n",
       "      <td>0</td>\n",
       "      <td>362</td>\n",
       "      <td>0</td>\n",
       "      <td>9</td>\n",
       "      <td>0</td>\n",
       "      <td>10</td>\n",
       "      <td>0</td>\n",
       "      <td>17</td>\n",
       "      <td>1</td>\n",
       "      <td>0</td>\n",
       "      <td>0</td>\n",
       "      <td>6</td>\n",
       "      <td>4</td>\n",
       "    </tr>\n",
       "    <tr>\n",
       "      <th>9</th>\n",
       "      <td>0</td>\n",
       "      <td>0</td>\n",
       "      <td>0</td>\n",
       "      <td>0</td>\n",
       "      <td>0</td>\n",
       "      <td>0</td>\n",
       "      <td>0</td>\n",
       "      <td>0</td>\n",
       "      <td>4</td>\n",
       "      <td>0</td>\n",
       "      <td>0</td>\n",
       "      <td>0</td>\n",
       "      <td>0</td>\n",
       "      <td>0</td>\n",
       "      <td>1</td>\n",
       "      <td>0</td>\n",
       "      <td>0</td>\n",
       "      <td>0</td>\n",
       "      <td>4</td>\n",
       "      <td>0</td>\n",
       "    </tr>\n",
       "    <tr>\n",
       "      <th>10</th>\n",
       "      <td>1</td>\n",
       "      <td>10</td>\n",
       "      <td>0</td>\n",
       "      <td>4</td>\n",
       "      <td>1</td>\n",
       "      <td>0</td>\n",
       "      <td>23</td>\n",
       "      <td>0</td>\n",
       "      <td>0</td>\n",
       "      <td>0</td>\n",
       "      <td>1510</td>\n",
       "      <td>0</td>\n",
       "      <td>34</td>\n",
       "      <td>0</td>\n",
       "      <td>0</td>\n",
       "      <td>7</td>\n",
       "      <td>25</td>\n",
       "      <td>4</td>\n",
       "      <td>22</td>\n",
       "      <td>0</td>\n",
       "    </tr>\n",
       "    <tr>\n",
       "      <th>11</th>\n",
       "      <td>25</td>\n",
       "      <td>1</td>\n",
       "      <td>1</td>\n",
       "      <td>2</td>\n",
       "      <td>0</td>\n",
       "      <td>0</td>\n",
       "      <td>0</td>\n",
       "      <td>1</td>\n",
       "      <td>0</td>\n",
       "      <td>0</td>\n",
       "      <td>6</td>\n",
       "      <td>165</td>\n",
       "      <td>7</td>\n",
       "      <td>0</td>\n",
       "      <td>3</td>\n",
       "      <td>3</td>\n",
       "      <td>0</td>\n",
       "      <td>0</td>\n",
       "      <td>1</td>\n",
       "      <td>12</td>\n",
       "    </tr>\n",
       "    <tr>\n",
       "      <th>12</th>\n",
       "      <td>12</td>\n",
       "      <td>0</td>\n",
       "      <td>6</td>\n",
       "      <td>21</td>\n",
       "      <td>2</td>\n",
       "      <td>18</td>\n",
       "      <td>5</td>\n",
       "      <td>0</td>\n",
       "      <td>6</td>\n",
       "      <td>0</td>\n",
       "      <td>10</td>\n",
       "      <td>2</td>\n",
       "      <td>1168</td>\n",
       "      <td>3</td>\n",
       "      <td>14</td>\n",
       "      <td>14</td>\n",
       "      <td>7</td>\n",
       "      <td>1</td>\n",
       "      <td>39</td>\n",
       "      <td>15</td>\n",
       "    </tr>\n",
       "    <tr>\n",
       "      <th>13</th>\n",
       "      <td>2</td>\n",
       "      <td>0</td>\n",
       "      <td>3</td>\n",
       "      <td>0</td>\n",
       "      <td>0</td>\n",
       "      <td>0</td>\n",
       "      <td>1</td>\n",
       "      <td>0</td>\n",
       "      <td>0</td>\n",
       "      <td>0</td>\n",
       "      <td>1</td>\n",
       "      <td>0</td>\n",
       "      <td>9</td>\n",
       "      <td>229</td>\n",
       "      <td>0</td>\n",
       "      <td>0</td>\n",
       "      <td>0</td>\n",
       "      <td>1</td>\n",
       "      <td>33</td>\n",
       "      <td>0</td>\n",
       "    </tr>\n",
       "    <tr>\n",
       "      <th>14</th>\n",
       "      <td>20</td>\n",
       "      <td>0</td>\n",
       "      <td>0</td>\n",
       "      <td>15</td>\n",
       "      <td>0</td>\n",
       "      <td>7</td>\n",
       "      <td>4</td>\n",
       "      <td>0</td>\n",
       "      <td>7</td>\n",
       "      <td>0</td>\n",
       "      <td>2</td>\n",
       "      <td>9</td>\n",
       "      <td>24</td>\n",
       "      <td>0</td>\n",
       "      <td>421</td>\n",
       "      <td>0</td>\n",
       "      <td>1</td>\n",
       "      <td>1</td>\n",
       "      <td>9</td>\n",
       "      <td>3</td>\n",
       "    </tr>\n",
       "    <tr>\n",
       "      <th>15</th>\n",
       "      <td>4</td>\n",
       "      <td>0</td>\n",
       "      <td>2</td>\n",
       "      <td>3</td>\n",
       "      <td>1</td>\n",
       "      <td>0</td>\n",
       "      <td>13</td>\n",
       "      <td>0</td>\n",
       "      <td>1</td>\n",
       "      <td>0</td>\n",
       "      <td>12</td>\n",
       "      <td>0</td>\n",
       "      <td>16</td>\n",
       "      <td>0</td>\n",
       "      <td>0</td>\n",
       "      <td>795</td>\n",
       "      <td>2</td>\n",
       "      <td>0</td>\n",
       "      <td>10</td>\n",
       "      <td>3</td>\n",
       "    </tr>\n",
       "    <tr>\n",
       "      <th>16</th>\n",
       "      <td>4</td>\n",
       "      <td>3</td>\n",
       "      <td>1</td>\n",
       "      <td>5</td>\n",
       "      <td>2</td>\n",
       "      <td>0</td>\n",
       "      <td>7</td>\n",
       "      <td>0</td>\n",
       "      <td>0</td>\n",
       "      <td>0</td>\n",
       "      <td>39</td>\n",
       "      <td>0</td>\n",
       "      <td>15</td>\n",
       "      <td>0</td>\n",
       "      <td>1</td>\n",
       "      <td>1</td>\n",
       "      <td>690</td>\n",
       "      <td>0</td>\n",
       "      <td>2</td>\n",
       "      <td>1</td>\n",
       "    </tr>\n",
       "    <tr>\n",
       "      <th>17</th>\n",
       "      <td>3</td>\n",
       "      <td>3</td>\n",
       "      <td>0</td>\n",
       "      <td>5</td>\n",
       "      <td>0</td>\n",
       "      <td>0</td>\n",
       "      <td>5</td>\n",
       "      <td>0</td>\n",
       "      <td>2</td>\n",
       "      <td>0</td>\n",
       "      <td>21</td>\n",
       "      <td>0</td>\n",
       "      <td>0</td>\n",
       "      <td>3</td>\n",
       "      <td>2</td>\n",
       "      <td>3</td>\n",
       "      <td>6</td>\n",
       "      <td>206</td>\n",
       "      <td>11</td>\n",
       "      <td>0</td>\n",
       "    </tr>\n",
       "    <tr>\n",
       "      <th>18</th>\n",
       "      <td>21</td>\n",
       "      <td>3</td>\n",
       "      <td>19</td>\n",
       "      <td>9</td>\n",
       "      <td>0</td>\n",
       "      <td>6</td>\n",
       "      <td>11</td>\n",
       "      <td>0</td>\n",
       "      <td>6</td>\n",
       "      <td>0</td>\n",
       "      <td>11</td>\n",
       "      <td>1</td>\n",
       "      <td>51</td>\n",
       "      <td>12</td>\n",
       "      <td>7</td>\n",
       "      <td>15</td>\n",
       "      <td>3</td>\n",
       "      <td>3</td>\n",
       "      <td>1387</td>\n",
       "      <td>1</td>\n",
       "    </tr>\n",
       "    <tr>\n",
       "      <th>19</th>\n",
       "      <td>30</td>\n",
       "      <td>1</td>\n",
       "      <td>0</td>\n",
       "      <td>10</td>\n",
       "      <td>2</td>\n",
       "      <td>9</td>\n",
       "      <td>0</td>\n",
       "      <td>0</td>\n",
       "      <td>9</td>\n",
       "      <td>0</td>\n",
       "      <td>7</td>\n",
       "      <td>13</td>\n",
       "      <td>27</td>\n",
       "      <td>0</td>\n",
       "      <td>12</td>\n",
       "      <td>7</td>\n",
       "      <td>1</td>\n",
       "      <td>0</td>\n",
       "      <td>7</td>\n",
       "      <td>196</td>\n",
       "    </tr>\n",
       "  </tbody>\n",
       "</table>\n",
       "</div>"
      ],
      "text/plain": [
       "      0   1    2    3    4    5     6    7    8  9    10   11    12   13   14  \\\n",
       "0   795   0   16   35    0    3     7    1   28  0     8   16    21    3   16   \n",
       "1     3  34    0    3    6    0     0    0    1  0    52    2    15    1    0   \n",
       "2    16   0  293    5    0    1     4    0    0  0     2    1    13    1    0   \n",
       "3    15   0    0  350    0    2     4    0    0  0     7    0    16    1    5   \n",
       "4     0   0    0    9  228    0     6    0    0  0     9    0     5    0    0   \n",
       "5    11   0    6    6    1  141     8    0   14  0     4    0    44    0   21   \n",
       "6     2   1    2   15    5    1  1013    0    0  0    12    0     9    0    3   \n",
       "7     2   0    0    3    0    0     0  221    1  0     5    0     0    0    0   \n",
       "8    24   1    1    8    2   19     1    0  362  0     9    0    10    0   17   \n",
       "9     0   0    0    0    0    0     0    0    4  0     0    0     0    0    1   \n",
       "10    1  10    0    4    1    0    23    0    0  0  1510    0    34    0    0   \n",
       "11   25   1    1    2    0    0     0    1    0  0     6  165     7    0    3   \n",
       "12   12   0    6   21    2   18     5    0    6  0    10    2  1168    3   14   \n",
       "13    2   0    3    0    0    0     1    0    0  0     1    0     9  229    0   \n",
       "14   20   0    0   15    0    7     4    0    7  0     2    9    24    0  421   \n",
       "15    4   0    2    3    1    0    13    0    1  0    12    0    16    0    0   \n",
       "16    4   3    1    5    2    0     7    0    0  0    39    0    15    0    1   \n",
       "17    3   3    0    5    0    0     5    0    2  0    21    0     0    3    2   \n",
       "18   21   3   19    9    0    6    11    0    6  0    11    1    51   12    7   \n",
       "19   30   1    0   10    2    9     0    0    9  0     7   13    27    0   12   \n",
       "\n",
       "     15   16   17    18   19  \n",
       "0     4    0    0    31   18  \n",
       "1     3    4    4     8    1  \n",
       "2     1    1    0    40    1  \n",
       "3     1    2    2    14    2  \n",
       "4     0    1    0     5    0  \n",
       "5     4    4    0    16    5  \n",
       "6    13    2    1    12    0  \n",
       "7     0    6    1     4    0  \n",
       "8     1    0    0     6    4  \n",
       "9     0    0    0     4    0  \n",
       "10    7   25    4    22    0  \n",
       "11    3    0    0     1   12  \n",
       "12   14    7    1    39   15  \n",
       "13    0    0    1    33    0  \n",
       "14    0    1    1     9    3  \n",
       "15  795    2    0    10    3  \n",
       "16    1  690    0     2    1  \n",
       "17    3    6  206    11    0  \n",
       "18   15    3    3  1387    1  \n",
       "19    7    1    0     7  196  "
      ]
     },
     "execution_count": 108,
     "metadata": {},
     "output_type": "execute_result"
    }
   ],
   "source": [
    "cm2 = pd.DataFrame(sklearn.metrics.confusion_matrix(yval, benchmark_ypred))\n",
    "cm2"
   ]
  },
  {
   "cell_type": "code",
   "execution_count": 109,
   "metadata": {
    "ExecuteTime": {
     "end_time": "2021-01-27T14:54:35.410595Z",
     "start_time": "2021-01-27T14:54:35.405245Z"
    }
   },
   "outputs": [
    {
     "name": "stderr",
     "output_type": "stream",
     "text": [
      "/Users/becksphan/opt/anaconda3/lib/python3.8/site-packages/pandas/core/frame.py:3990: SettingWithCopyWarning: \n",
      "A value is trying to be set on a copy of a slice from a DataFrame\n",
      "\n",
      "See the caveats in the documentation: https://pandas.pydata.org/pandas-docs/stable/user_guide/indexing.html#returning-a-view-versus-a-copy\n",
      "  return super().drop(\n"
     ]
    }
   ],
   "source": [
    "misclass_df.drop(['Unnamed: 0','product_name_words'], axis=1, inplace=True)"
   ]
  },
  {
   "cell_type": "code",
   "execution_count": 110,
   "metadata": {
    "ExecuteTime": {
     "end_time": "2021-01-27T14:54:37.884534Z",
     "start_time": "2021-01-27T14:54:37.854087Z"
    }
   },
   "outputs": [
    {
     "data": {
      "text/html": [
       "<div>\n",
       "<style scoped>\n",
       "    .dataframe tbody tr th:only-of-type {\n",
       "        vertical-align: middle;\n",
       "    }\n",
       "\n",
       "    .dataframe tbody tr th {\n",
       "        vertical-align: top;\n",
       "    }\n",
       "\n",
       "    .dataframe thead th {\n",
       "        text-align: right;\n",
       "    }\n",
       "</style>\n",
       "<table border=\"1\" class=\"dataframe\">\n",
       "  <thead>\n",
       "    <tr style=\"text-align: right;\">\n",
       "      <th></th>\n",
       "      <th>product_id</th>\n",
       "      <th>product_name</th>\n",
       "      <th>department_id</th>\n",
       "      <th>department_name</th>\n",
       "      <th>length_product_name</th>\n",
       "      <th>pred</th>\n",
       "    </tr>\n",
       "  </thead>\n",
       "  <tbody>\n",
       "    <tr>\n",
       "      <th>3965</th>\n",
       "      <td>3966</td>\n",
       "      <td>Clean Individual Wipes</td>\n",
       "      <td>11</td>\n",
       "      <td>personal care</td>\n",
       "      <td>3</td>\n",
       "      <td>17</td>\n",
       "    </tr>\n",
       "    <tr>\n",
       "      <th>37545</th>\n",
       "      <td>37546</td>\n",
       "      <td>Sponge Cosmetic Wedges</td>\n",
       "      <td>11</td>\n",
       "      <td>personal care</td>\n",
       "      <td>3</td>\n",
       "      <td>17</td>\n",
       "    </tr>\n",
       "    <tr>\n",
       "      <th>22013</th>\n",
       "      <td>22014</td>\n",
       "      <td>Udo's Oil 3-6-9 Blend</td>\n",
       "      <td>11</td>\n",
       "      <td>personal care</td>\n",
       "      <td>4</td>\n",
       "      <td>13</td>\n",
       "    </tr>\n",
       "    <tr>\n",
       "      <th>40929</th>\n",
       "      <td>40930</td>\n",
       "      <td>O.S.SFT SOLID DEOD RED ZN SPRT</td>\n",
       "      <td>11</td>\n",
       "      <td>personal care</td>\n",
       "      <td>6</td>\n",
       "      <td>5</td>\n",
       "    </tr>\n",
       "    <tr>\n",
       "      <th>10132</th>\n",
       "      <td>10133</td>\n",
       "      <td>Rockin Refuel Chocolate Protein Milk Beverage</td>\n",
       "      <td>11</td>\n",
       "      <td>personal care</td>\n",
       "      <td>6</td>\n",
       "      <td>16</td>\n",
       "    </tr>\n",
       "    <tr>\n",
       "      <th>22278</th>\n",
       "      <td>22279</td>\n",
       "      <td>Handcrafted Organic Original Digestive Bitters</td>\n",
       "      <td>11</td>\n",
       "      <td>personal care</td>\n",
       "      <td>5</td>\n",
       "      <td>13</td>\n",
       "    </tr>\n",
       "    <tr>\n",
       "      <th>14090</th>\n",
       "      <td>14091</td>\n",
       "      <td>Macro Greens Drink Mix</td>\n",
       "      <td>11</td>\n",
       "      <td>personal care</td>\n",
       "      <td>4</td>\n",
       "      <td>7</td>\n",
       "    </tr>\n",
       "    <tr>\n",
       "      <th>1173</th>\n",
       "      <td>1174</td>\n",
       "      <td>Organic Flax Oil</td>\n",
       "      <td>11</td>\n",
       "      <td>personal care</td>\n",
       "      <td>3</td>\n",
       "      <td>13</td>\n",
       "    </tr>\n",
       "    <tr>\n",
       "      <th>4207</th>\n",
       "      <td>4208</td>\n",
       "      <td>Pink Lemonade Vitamin C 1000mg Drink Mix Dieta...</td>\n",
       "      <td>11</td>\n",
       "      <td>personal care</td>\n",
       "      <td>9</td>\n",
       "      <td>7</td>\n",
       "    </tr>\n",
       "    <tr>\n",
       "      <th>39653</th>\n",
       "      <td>39654</td>\n",
       "      <td>Pain Reliever and Nighttime Sleep Aid Caplets</td>\n",
       "      <td>11</td>\n",
       "      <td>personal care</td>\n",
       "      <td>7</td>\n",
       "      <td>2</td>\n",
       "    </tr>\n",
       "    <tr>\n",
       "      <th>10006</th>\n",
       "      <td>10007</td>\n",
       "      <td>GUM Proxabrush Go-Betweens Cleaners, #872 Tight</td>\n",
       "      <td>11</td>\n",
       "      <td>personal care</td>\n",
       "      <td>6</td>\n",
       "      <td>19</td>\n",
       "    </tr>\n",
       "    <tr>\n",
       "      <th>39710</th>\n",
       "      <td>39711</td>\n",
       "      <td>Kids Apple Detangler Spray</td>\n",
       "      <td>11</td>\n",
       "      <td>personal care</td>\n",
       "      <td>4</td>\n",
       "      <td>18</td>\n",
       "    </tr>\n",
       "    <tr>\n",
       "      <th>27854</th>\n",
       "      <td>27855</td>\n",
       "      <td>Caramel Chocolate Peanut Nougat Bars</td>\n",
       "      <td>11</td>\n",
       "      <td>personal care</td>\n",
       "      <td>5</td>\n",
       "      <td>19</td>\n",
       "    </tr>\n",
       "    <tr>\n",
       "      <th>6227</th>\n",
       "      <td>6228</td>\n",
       "      <td>Cardamom SmartFloss</td>\n",
       "      <td>11</td>\n",
       "      <td>personal care</td>\n",
       "      <td>2</td>\n",
       "      <td>13</td>\n",
       "    </tr>\n",
       "    <tr>\n",
       "      <th>3779</th>\n",
       "      <td>3780</td>\n",
       "      <td>Bioactive Manuka 24+ Honey</td>\n",
       "      <td>11</td>\n",
       "      <td>personal care</td>\n",
       "      <td>4</td>\n",
       "      <td>13</td>\n",
       "    </tr>\n",
       "    <tr>\n",
       "      <th>43779</th>\n",
       "      <td>43780</td>\n",
       "      <td>Extra Cleansing Vinegar &amp; Water Douche</td>\n",
       "      <td>11</td>\n",
       "      <td>personal care</td>\n",
       "      <td>6</td>\n",
       "      <td>7</td>\n",
       "    </tr>\n",
       "    <tr>\n",
       "      <th>10078</th>\n",
       "      <td>10079</td>\n",
       "      <td>LamisilAT® Athlete's Foot Antifungal Cream</td>\n",
       "      <td>11</td>\n",
       "      <td>personal care</td>\n",
       "      <td>5</td>\n",
       "      <td>2</td>\n",
       "    </tr>\n",
       "    <tr>\n",
       "      <th>42531</th>\n",
       "      <td>42532</td>\n",
       "      <td>Protein &amp; Greens Chocolate Flavor Drink Mix</td>\n",
       "      <td>11</td>\n",
       "      <td>personal care</td>\n",
       "      <td>7</td>\n",
       "      <td>7</td>\n",
       "    </tr>\n",
       "    <tr>\n",
       "      <th>26501</th>\n",
       "      <td>26502</td>\n",
       "      <td>Stevia</td>\n",
       "      <td>11</td>\n",
       "      <td>personal care</td>\n",
       "      <td>1</td>\n",
       "      <td>13</td>\n",
       "    </tr>\n",
       "    <tr>\n",
       "      <th>8488</th>\n",
       "      <td>8489</td>\n",
       "      <td>Aspartame Free Spearmint Gum</td>\n",
       "      <td>11</td>\n",
       "      <td>personal care</td>\n",
       "      <td>4</td>\n",
       "      <td>19</td>\n",
       "    </tr>\n",
       "    <tr>\n",
       "      <th>35414</th>\n",
       "      <td>35415</td>\n",
       "      <td>Dark Chocolate Coconut Protein Bar</td>\n",
       "      <td>11</td>\n",
       "      <td>personal care</td>\n",
       "      <td>5</td>\n",
       "      <td>19</td>\n",
       "    </tr>\n",
       "    <tr>\n",
       "      <th>31658</th>\n",
       "      <td>31659</td>\n",
       "      <td>Chocolate Cacao Powder</td>\n",
       "      <td>11</td>\n",
       "      <td>personal care</td>\n",
       "      <td>3</td>\n",
       "      <td>13</td>\n",
       "    </tr>\n",
       "    <tr>\n",
       "      <th>26583</th>\n",
       "      <td>26584</td>\n",
       "      <td>SensorExcel Blade Refills</td>\n",
       "      <td>11</td>\n",
       "      <td>personal care</td>\n",
       "      <td>3</td>\n",
       "      <td>17</td>\n",
       "    </tr>\n",
       "    <tr>\n",
       "      <th>41578</th>\n",
       "      <td>41579</td>\n",
       "      <td>Maximum Absorbency Small/Medium Incontinence U...</td>\n",
       "      <td>11</td>\n",
       "      <td>personal care</td>\n",
       "      <td>5</td>\n",
       "      <td>17</td>\n",
       "    </tr>\n",
       "    <tr>\n",
       "      <th>25796</th>\n",
       "      <td>25797</td>\n",
       "      <td>Infant's Pain &amp; Fever Grape Flavor Oral Suspen...</td>\n",
       "      <td>11</td>\n",
       "      <td>personal care</td>\n",
       "      <td>8</td>\n",
       "      <td>2</td>\n",
       "    </tr>\n",
       "    <tr>\n",
       "      <th>7549</th>\n",
       "      <td>7550</td>\n",
       "      <td>Electrolyte Stamina Power Pak 1200mg - Lemon Lime</td>\n",
       "      <td>11</td>\n",
       "      <td>personal care</td>\n",
       "      <td>8</td>\n",
       "      <td>7</td>\n",
       "    </tr>\n",
       "    <tr>\n",
       "      <th>39955</th>\n",
       "      <td>39956</td>\n",
       "      <td>Cranberry Extract</td>\n",
       "      <td>11</td>\n",
       "      <td>personal care</td>\n",
       "      <td>2</td>\n",
       "      <td>13</td>\n",
       "    </tr>\n",
       "    <tr>\n",
       "      <th>41080</th>\n",
       "      <td>41081</td>\n",
       "      <td>100% Pure Patchouli Essential Oil</td>\n",
       "      <td>11</td>\n",
       "      <td>personal care</td>\n",
       "      <td>5</td>\n",
       "      <td>17</td>\n",
       "    </tr>\n",
       "    <tr>\n",
       "      <th>957</th>\n",
       "      <td>958</td>\n",
       "      <td>Almond Extract</td>\n",
       "      <td>11</td>\n",
       "      <td>personal care</td>\n",
       "      <td>2</td>\n",
       "      <td>13</td>\n",
       "    </tr>\n",
       "    <tr>\n",
       "      <th>11499</th>\n",
       "      <td>11500</td>\n",
       "      <td>Cherry Blossom Organic Energy Chews</td>\n",
       "      <td>11</td>\n",
       "      <td>personal care</td>\n",
       "      <td>5</td>\n",
       "      <td>19</td>\n",
       "    </tr>\n",
       "    <tr>\n",
       "      <th>18703</th>\n",
       "      <td>18704</td>\n",
       "      <td>Aromatherapy Singles Lavender</td>\n",
       "      <td>11</td>\n",
       "      <td>personal care</td>\n",
       "      <td>3</td>\n",
       "      <td>17</td>\n",
       "    </tr>\n",
       "    <tr>\n",
       "      <th>32882</th>\n",
       "      <td>32883</td>\n",
       "      <td>Original Refreshing Bars</td>\n",
       "      <td>11</td>\n",
       "      <td>personal care</td>\n",
       "      <td>3</td>\n",
       "      <td>19</td>\n",
       "    </tr>\n",
       "    <tr>\n",
       "      <th>41304</th>\n",
       "      <td>41305</td>\n",
       "      <td>Double Chocolate Chunk Protein Bar</td>\n",
       "      <td>11</td>\n",
       "      <td>personal care</td>\n",
       "      <td>5</td>\n",
       "      <td>19</td>\n",
       "    </tr>\n",
       "    <tr>\n",
       "      <th>9231</th>\n",
       "      <td>9232</td>\n",
       "      <td>Essential Oils Cheer Up ButterCup Uplifting Blend</td>\n",
       "      <td>11</td>\n",
       "      <td>personal care</td>\n",
       "      <td>7</td>\n",
       "      <td>17</td>\n",
       "    </tr>\n",
       "    <tr>\n",
       "      <th>26403</th>\n",
       "      <td>26404</td>\n",
       "      <td>Frozen Frosted Berry Scented Bubble Bath</td>\n",
       "      <td>11</td>\n",
       "      <td>personal care</td>\n",
       "      <td>6</td>\n",
       "      <td>1</td>\n",
       "    </tr>\n",
       "    <tr>\n",
       "      <th>13994</th>\n",
       "      <td>13995</td>\n",
       "      <td>One Chocolate Cherry Almond Meal Bar</td>\n",
       "      <td>11</td>\n",
       "      <td>personal care</td>\n",
       "      <td>6</td>\n",
       "      <td>19</td>\n",
       "    </tr>\n",
       "    <tr>\n",
       "      <th>39523</th>\n",
       "      <td>39524</td>\n",
       "      <td>More Milk Plus</td>\n",
       "      <td>11</td>\n",
       "      <td>personal care</td>\n",
       "      <td>3</td>\n",
       "      <td>16</td>\n",
       "    </tr>\n",
       "    <tr>\n",
       "      <th>38691</th>\n",
       "      <td>38692</td>\n",
       "      <td>100% Natural Fruit Chew C Chewable Wafers Tang...</td>\n",
       "      <td>11</td>\n",
       "      <td>personal care</td>\n",
       "      <td>9</td>\n",
       "      <td>19</td>\n",
       "    </tr>\n",
       "    <tr>\n",
       "      <th>46237</th>\n",
       "      <td>46238</td>\n",
       "      <td>Fresh Scent Douche</td>\n",
       "      <td>11</td>\n",
       "      <td>personal care</td>\n",
       "      <td>3</td>\n",
       "      <td>17</td>\n",
       "    </tr>\n",
       "    <tr>\n",
       "      <th>18967</th>\n",
       "      <td>18968</td>\n",
       "      <td>Hello Kitty</td>\n",
       "      <td>11</td>\n",
       "      <td>personal care</td>\n",
       "      <td>2</td>\n",
       "      <td>19</td>\n",
       "    </tr>\n",
       "    <tr>\n",
       "      <th>5600</th>\n",
       "      <td>5601</td>\n",
       "      <td>Soothing Baby Shampoo &amp; Wash</td>\n",
       "      <td>11</td>\n",
       "      <td>personal care</td>\n",
       "      <td>5</td>\n",
       "      <td>18</td>\n",
       "    </tr>\n",
       "    <tr>\n",
       "      <th>28339</th>\n",
       "      <td>28340</td>\n",
       "      <td>Instant Ginger Honey Crystals</td>\n",
       "      <td>11</td>\n",
       "      <td>personal care</td>\n",
       "      <td>4</td>\n",
       "      <td>13</td>\n",
       "    </tr>\n",
       "    <tr>\n",
       "      <th>15707</th>\n",
       "      <td>15708</td>\n",
       "      <td>Lime Tangerine Yerba Mate Shot</td>\n",
       "      <td>11</td>\n",
       "      <td>personal care</td>\n",
       "      <td>5</td>\n",
       "      <td>7</td>\n",
       "    </tr>\n",
       "    <tr>\n",
       "      <th>7535</th>\n",
       "      <td>7536</td>\n",
       "      <td>Natural Nipple Butter</td>\n",
       "      <td>11</td>\n",
       "      <td>personal care</td>\n",
       "      <td>3</td>\n",
       "      <td>16</td>\n",
       "    </tr>\n",
       "    <tr>\n",
       "      <th>10600</th>\n",
       "      <td>10601</td>\n",
       "      <td>My First Fluoride-Free Infant &amp; Toddler Toothp...</td>\n",
       "      <td>11</td>\n",
       "      <td>personal care</td>\n",
       "      <td>9</td>\n",
       "      <td>18</td>\n",
       "    </tr>\n",
       "    <tr>\n",
       "      <th>23433</th>\n",
       "      <td>23434</td>\n",
       "      <td>Premium 7 Sources Oil Blend</td>\n",
       "      <td>11</td>\n",
       "      <td>personal care</td>\n",
       "      <td>5</td>\n",
       "      <td>13</td>\n",
       "    </tr>\n",
       "    <tr>\n",
       "      <th>9442</th>\n",
       "      <td>9443</td>\n",
       "      <td>Cordyceps Organic Mushrooms Energy Support</td>\n",
       "      <td>11</td>\n",
       "      <td>personal care</td>\n",
       "      <td>5</td>\n",
       "      <td>4</td>\n",
       "    </tr>\n",
       "    <tr>\n",
       "      <th>6256</th>\n",
       "      <td>6257</td>\n",
       "      <td>Raw Organic Cacao Powder</td>\n",
       "      <td>11</td>\n",
       "      <td>personal care</td>\n",
       "      <td>4</td>\n",
       "      <td>13</td>\n",
       "    </tr>\n",
       "    <tr>\n",
       "      <th>15501</th>\n",
       "      <td>15502</td>\n",
       "      <td>Natcol 3 N Cola</td>\n",
       "      <td>11</td>\n",
       "      <td>personal care</td>\n",
       "      <td>4</td>\n",
       "      <td>7</td>\n",
       "    </tr>\n",
       "    <tr>\n",
       "      <th>30436</th>\n",
       "      <td>30437</td>\n",
       "      <td>Lemongrass Pure Essential Oil</td>\n",
       "      <td>11</td>\n",
       "      <td>personal care</td>\n",
       "      <td>4</td>\n",
       "      <td>17</td>\n",
       "    </tr>\n",
       "    <tr>\n",
       "      <th>14710</th>\n",
       "      <td>14711</td>\n",
       "      <td>Organic Lowfat Mango Kefir</td>\n",
       "      <td>11</td>\n",
       "      <td>personal care</td>\n",
       "      <td>4</td>\n",
       "      <td>16</td>\n",
       "    </tr>\n",
       "    <tr>\n",
       "      <th>2275</th>\n",
       "      <td>2276</td>\n",
       "      <td>Organic Sweet Mesquite Powder</td>\n",
       "      <td>11</td>\n",
       "      <td>personal care</td>\n",
       "      <td>4</td>\n",
       "      <td>13</td>\n",
       "    </tr>\n",
       "    <tr>\n",
       "      <th>3896</th>\n",
       "      <td>3897</td>\n",
       "      <td>Reduced Bitterness Brewer's Yeast</td>\n",
       "      <td>11</td>\n",
       "      <td>personal care</td>\n",
       "      <td>4</td>\n",
       "      <td>13</td>\n",
       "    </tr>\n",
       "    <tr>\n",
       "      <th>18550</th>\n",
       "      <td>18551</td>\n",
       "      <td>Organic Mint Chews</td>\n",
       "      <td>11</td>\n",
       "      <td>personal care</td>\n",
       "      <td>3</td>\n",
       "      <td>19</td>\n",
       "    </tr>\n",
       "    <tr>\n",
       "      <th>14469</th>\n",
       "      <td>14470</td>\n",
       "      <td>Strawberry Probiotic Dairy Drink</td>\n",
       "      <td>11</td>\n",
       "      <td>personal care</td>\n",
       "      <td>4</td>\n",
       "      <td>16</td>\n",
       "    </tr>\n",
       "    <tr>\n",
       "      <th>35325</th>\n",
       "      <td>35326</td>\n",
       "      <td>Mullein Garlic Ear Oil</td>\n",
       "      <td>11</td>\n",
       "      <td>personal care</td>\n",
       "      <td>4</td>\n",
       "      <td>13</td>\n",
       "    </tr>\n",
       "    <tr>\n",
       "      <th>6266</th>\n",
       "      <td>6267</td>\n",
       "      <td>Good Mood Tonic</td>\n",
       "      <td>11</td>\n",
       "      <td>personal care</td>\n",
       "      <td>3</td>\n",
       "      <td>7</td>\n",
       "    </tr>\n",
       "    <tr>\n",
       "      <th>16886</th>\n",
       "      <td>16887</td>\n",
       "      <td>Grapefruit Seed Liquid</td>\n",
       "      <td>11</td>\n",
       "      <td>personal care</td>\n",
       "      <td>3</td>\n",
       "      <td>17</td>\n",
       "    </tr>\n",
       "    <tr>\n",
       "      <th>38430</th>\n",
       "      <td>38431</td>\n",
       "      <td>Diaper Rash &amp; Thrush</td>\n",
       "      <td>11</td>\n",
       "      <td>personal care</td>\n",
       "      <td>4</td>\n",
       "      <td>2</td>\n",
       "    </tr>\n",
       "    <tr>\n",
       "      <th>1719</th>\n",
       "      <td>1720</td>\n",
       "      <td>100% Pure Ginger Oil</td>\n",
       "      <td>11</td>\n",
       "      <td>personal care</td>\n",
       "      <td>4</td>\n",
       "      <td>13</td>\n",
       "    </tr>\n",
       "    <tr>\n",
       "      <th>31905</th>\n",
       "      <td>31906</td>\n",
       "      <td>Kefir Starter Kit</td>\n",
       "      <td>11</td>\n",
       "      <td>personal care</td>\n",
       "      <td>3</td>\n",
       "      <td>17</td>\n",
       "    </tr>\n",
       "    <tr>\n",
       "      <th>22229</th>\n",
       "      <td>22230</td>\n",
       "      <td>Deep Sleep Travel</td>\n",
       "      <td>11</td>\n",
       "      <td>personal care</td>\n",
       "      <td>3</td>\n",
       "      <td>2</td>\n",
       "    </tr>\n",
       "    <tr>\n",
       "      <th>48997</th>\n",
       "      <td>48998</td>\n",
       "      <td>Triple Chocolate Snack Bar</td>\n",
       "      <td>11</td>\n",
       "      <td>personal care</td>\n",
       "      <td>4</td>\n",
       "      <td>19</td>\n",
       "    </tr>\n",
       "    <tr>\n",
       "      <th>36168</th>\n",
       "      <td>36169</td>\n",
       "      <td>The Itch Eraser</td>\n",
       "      <td>11</td>\n",
       "      <td>personal care</td>\n",
       "      <td>3</td>\n",
       "      <td>17</td>\n",
       "    </tr>\n",
       "    <tr>\n",
       "      <th>46528</th>\n",
       "      <td>46529</td>\n",
       "      <td>Tropical Tango Flavor Protein Smoothie Instant...</td>\n",
       "      <td>11</td>\n",
       "      <td>personal care</td>\n",
       "      <td>9</td>\n",
       "      <td>7</td>\n",
       "    </tr>\n",
       "    <tr>\n",
       "      <th>47532</th>\n",
       "      <td>47533</td>\n",
       "      <td>Wildberry Reishi Yerba Mate Shot</td>\n",
       "      <td>11</td>\n",
       "      <td>personal care</td>\n",
       "      <td>5</td>\n",
       "      <td>7</td>\n",
       "    </tr>\n",
       "    <tr>\n",
       "      <th>21968</th>\n",
       "      <td>21969</td>\n",
       "      <td>Lactation Support SystemSupport Herbal Tea Bags</td>\n",
       "      <td>11</td>\n",
       "      <td>personal care</td>\n",
       "      <td>6</td>\n",
       "      <td>7</td>\n",
       "    </tr>\n",
       "    <tr>\n",
       "      <th>39615</th>\n",
       "      <td>39616</td>\n",
       "      <td>Ultra Apple Blossom Anti-Bacterial Dish Soap</td>\n",
       "      <td>11</td>\n",
       "      <td>personal care</td>\n",
       "      <td>6</td>\n",
       "      <td>17</td>\n",
       "    </tr>\n",
       "    <tr>\n",
       "      <th>8825</th>\n",
       "      <td>8826</td>\n",
       "      <td>Umcka ColdCare Sugar-Free Grape Flavored Syrup</td>\n",
       "      <td>11</td>\n",
       "      <td>personal care</td>\n",
       "      <td>6</td>\n",
       "      <td>13</td>\n",
       "    </tr>\n",
       "    <tr>\n",
       "      <th>10451</th>\n",
       "      <td>10452</td>\n",
       "      <td>100% Pure Bergamot</td>\n",
       "      <td>11</td>\n",
       "      <td>personal care</td>\n",
       "      <td>3</td>\n",
       "      <td>17</td>\n",
       "    </tr>\n",
       "    <tr>\n",
       "      <th>18938</th>\n",
       "      <td>18939</td>\n",
       "      <td>Gluten Free Chocolate Brownie Protein Bar</td>\n",
       "      <td>11</td>\n",
       "      <td>personal care</td>\n",
       "      <td>6</td>\n",
       "      <td>19</td>\n",
       "    </tr>\n",
       "    <tr>\n",
       "      <th>14514</th>\n",
       "      <td>14515</td>\n",
       "      <td>Organic Freeze Dried Goji Berry Powder</td>\n",
       "      <td>11</td>\n",
       "      <td>personal care</td>\n",
       "      <td>6</td>\n",
       "      <td>19</td>\n",
       "    </tr>\n",
       "    <tr>\n",
       "      <th>9563</th>\n",
       "      <td>9564</td>\n",
       "      <td>Square Tip Tweezers</td>\n",
       "      <td>11</td>\n",
       "      <td>personal care</td>\n",
       "      <td>3</td>\n",
       "      <td>17</td>\n",
       "    </tr>\n",
       "    <tr>\n",
       "      <th>32677</th>\n",
       "      <td>32678</td>\n",
       "      <td>Fenugreek Tea</td>\n",
       "      <td>11</td>\n",
       "      <td>personal care</td>\n",
       "      <td>2</td>\n",
       "      <td>7</td>\n",
       "    </tr>\n",
       "    <tr>\n",
       "      <th>47720</th>\n",
       "      <td>47721</td>\n",
       "      <td>Aromatic Chest Rub</td>\n",
       "      <td>11</td>\n",
       "      <td>personal care</td>\n",
       "      <td>3</td>\n",
       "      <td>13</td>\n",
       "    </tr>\n",
       "    <tr>\n",
       "      <th>25666</th>\n",
       "      <td>25667</td>\n",
       "      <td>Slant-Tip Tweezers</td>\n",
       "      <td>11</td>\n",
       "      <td>personal care</td>\n",
       "      <td>2</td>\n",
       "      <td>17</td>\n",
       "    </tr>\n",
       "    <tr>\n",
       "      <th>25467</th>\n",
       "      <td>25468</td>\n",
       "      <td>Original Moisturiser</td>\n",
       "      <td>11</td>\n",
       "      <td>personal care</td>\n",
       "      <td>2</td>\n",
       "      <td>19</td>\n",
       "    </tr>\n",
       "    <tr>\n",
       "      <th>16213</th>\n",
       "      <td>16214</td>\n",
       "      <td>Lower Back and Hip Heat Wrap</td>\n",
       "      <td>11</td>\n",
       "      <td>personal care</td>\n",
       "      <td>6</td>\n",
       "      <td>17</td>\n",
       "    </tr>\n",
       "    <tr>\n",
       "      <th>36354</th>\n",
       "      <td>36355</td>\n",
       "      <td>Double Air-Pillo Custom Comfort with Memory Fo...</td>\n",
       "      <td>11</td>\n",
       "      <td>personal care</td>\n",
       "      <td>8</td>\n",
       "      <td>17</td>\n",
       "    </tr>\n",
       "    <tr>\n",
       "      <th>15244</th>\n",
       "      <td>15245</td>\n",
       "      <td>Nail Clipper With Catcher</td>\n",
       "      <td>11</td>\n",
       "      <td>personal care</td>\n",
       "      <td>4</td>\n",
       "      <td>17</td>\n",
       "    </tr>\n",
       "    <tr>\n",
       "      <th>8297</th>\n",
       "      <td>8298</td>\n",
       "      <td>Baby &amp; Me Tablets</td>\n",
       "      <td>11</td>\n",
       "      <td>personal care</td>\n",
       "      <td>4</td>\n",
       "      <td>2</td>\n",
       "    </tr>\n",
       "    <tr>\n",
       "      <th>49159</th>\n",
       "      <td>49160</td>\n",
       "      <td>Everlasting French Nails - Endless</td>\n",
       "      <td>11</td>\n",
       "      <td>personal care</td>\n",
       "      <td>5</td>\n",
       "      <td>4</td>\n",
       "    </tr>\n",
       "    <tr>\n",
       "      <th>5411</th>\n",
       "      <td>5412</td>\n",
       "      <td>Exam Glove Latex Osfm</td>\n",
       "      <td>11</td>\n",
       "      <td>personal care</td>\n",
       "      <td>4</td>\n",
       "      <td>17</td>\n",
       "    </tr>\n",
       "    <tr>\n",
       "      <th>8701</th>\n",
       "      <td>8702</td>\n",
       "      <td>Organic Reishi Mushroom Combinations Capsules</td>\n",
       "      <td>11</td>\n",
       "      <td>personal care</td>\n",
       "      <td>5</td>\n",
       "      <td>4</td>\n",
       "    </tr>\n",
       "    <tr>\n",
       "      <th>5895</th>\n",
       "      <td>5896</td>\n",
       "      <td>Tropical Flavor Dairy-Free Probiotic Kefir</td>\n",
       "      <td>11</td>\n",
       "      <td>personal care</td>\n",
       "      <td>5</td>\n",
       "      <td>16</td>\n",
       "    </tr>\n",
       "    <tr>\n",
       "      <th>34425</th>\n",
       "      <td>34426</td>\n",
       "      <td>Lemon Lime Greens Energy</td>\n",
       "      <td>11</td>\n",
       "      <td>personal care</td>\n",
       "      <td>4</td>\n",
       "      <td>7</td>\n",
       "    </tr>\n",
       "    <tr>\n",
       "      <th>49652</th>\n",
       "      <td>49653</td>\n",
       "      <td>Organic Aromatherapeutic Moroccan Argan Oil Set</td>\n",
       "      <td>11</td>\n",
       "      <td>personal care</td>\n",
       "      <td>6</td>\n",
       "      <td>13</td>\n",
       "    </tr>\n",
       "    <tr>\n",
       "      <th>44183</th>\n",
       "      <td>44184</td>\n",
       "      <td>Strawberry Banana Tooth Gel with Xylitol For A...</td>\n",
       "      <td>11</td>\n",
       "      <td>personal care</td>\n",
       "      <td>11</td>\n",
       "      <td>18</td>\n",
       "    </tr>\n",
       "    <tr>\n",
       "      <th>21487</th>\n",
       "      <td>21488</td>\n",
       "      <td>Hemp Seed Oil, Organic</td>\n",
       "      <td>11</td>\n",
       "      <td>personal care</td>\n",
       "      <td>4</td>\n",
       "      <td>13</td>\n",
       "    </tr>\n",
       "    <tr>\n",
       "      <th>32898</th>\n",
       "      <td>32899</td>\n",
       "      <td>Coco Hydro Original Electrolyte Drink Mix</td>\n",
       "      <td>11</td>\n",
       "      <td>personal care</td>\n",
       "      <td>6</td>\n",
       "      <td>7</td>\n",
       "    </tr>\n",
       "    <tr>\n",
       "      <th>14098</th>\n",
       "      <td>14099</td>\n",
       "      <td>Grape Baby Cough Syrup &amp; Mucus Reducer</td>\n",
       "      <td>11</td>\n",
       "      <td>personal care</td>\n",
       "      <td>7</td>\n",
       "      <td>2</td>\n",
       "    </tr>\n",
       "    <tr>\n",
       "      <th>6169</th>\n",
       "      <td>6170</td>\n",
       "      <td>Simple Styles™ Spin Pins 2ct - Assorted Colors</td>\n",
       "      <td>11</td>\n",
       "      <td>personal care</td>\n",
       "      <td>8</td>\n",
       "      <td>19</td>\n",
       "    </tr>\n",
       "    <tr>\n",
       "      <th>9046</th>\n",
       "      <td>9047</td>\n",
       "      <td>Premium Epsom Salt</td>\n",
       "      <td>11</td>\n",
       "      <td>personal care</td>\n",
       "      <td>3</td>\n",
       "      <td>13</td>\n",
       "    </tr>\n",
       "    <tr>\n",
       "      <th>32083</th>\n",
       "      <td>32084</td>\n",
       "      <td>Manuka Honey MGO 250+</td>\n",
       "      <td>11</td>\n",
       "      <td>personal care</td>\n",
       "      <td>4</td>\n",
       "      <td>13</td>\n",
       "    </tr>\n",
       "    <tr>\n",
       "      <th>16898</th>\n",
       "      <td>16899</td>\n",
       "      <td>Mango Flavor Dairy Free Fermented Soy Probiotic</td>\n",
       "      <td>11</td>\n",
       "      <td>personal care</td>\n",
       "      <td>7</td>\n",
       "      <td>16</td>\n",
       "    </tr>\n",
       "    <tr>\n",
       "      <th>8723</th>\n",
       "      <td>8724</td>\n",
       "      <td>Liquid Personal Lubricant &amp; Vaginal Moisturizer</td>\n",
       "      <td>11</td>\n",
       "      <td>personal care</td>\n",
       "      <td>6</td>\n",
       "      <td>2</td>\n",
       "    </tr>\n",
       "    <tr>\n",
       "      <th>29234</th>\n",
       "      <td>29235</td>\n",
       "      <td>Apple Cider Vinegar 500mg</td>\n",
       "      <td>11</td>\n",
       "      <td>personal care</td>\n",
       "      <td>4</td>\n",
       "      <td>13</td>\n",
       "    </tr>\n",
       "    <tr>\n",
       "      <th>9403</th>\n",
       "      <td>9404</td>\n",
       "      <td>Kava Extract</td>\n",
       "      <td>11</td>\n",
       "      <td>personal care</td>\n",
       "      <td>2</td>\n",
       "      <td>13</td>\n",
       "    </tr>\n",
       "    <tr>\n",
       "      <th>40781</th>\n",
       "      <td>40782</td>\n",
       "      <td>Milk Chocolate Delight Shakes</td>\n",
       "      <td>11</td>\n",
       "      <td>personal care</td>\n",
       "      <td>4</td>\n",
       "      <td>19</td>\n",
       "    </tr>\n",
       "    <tr>\n",
       "      <th>36546</th>\n",
       "      <td>36547</td>\n",
       "      <td>Aloe Vera Juice Whole Leaf</td>\n",
       "      <td>11</td>\n",
       "      <td>personal care</td>\n",
       "      <td>5</td>\n",
       "      <td>7</td>\n",
       "    </tr>\n",
       "    <tr>\n",
       "      <th>40117</th>\n",
       "      <td>40118</td>\n",
       "      <td>Hello Beautiful Organic Chocolate Protein Shake</td>\n",
       "      <td>11</td>\n",
       "      <td>personal care</td>\n",
       "      <td>6</td>\n",
       "      <td>7</td>\n",
       "    </tr>\n",
       "    <tr>\n",
       "      <th>41447</th>\n",
       "      <td>41448</td>\n",
       "      <td>Dark Chocolate Mixed Nuts &amp; Sea Salt Snack Bar</td>\n",
       "      <td>11</td>\n",
       "      <td>personal care</td>\n",
       "      <td>9</td>\n",
       "      <td>19</td>\n",
       "    </tr>\n",
       "    <tr>\n",
       "      <th>24617</th>\n",
       "      <td>24618</td>\n",
       "      <td>Vitamin C Raspberry/Tangerine/Super Orange Fla...</td>\n",
       "      <td>11</td>\n",
       "      <td>personal care</td>\n",
       "      <td>9</td>\n",
       "      <td>7</td>\n",
       "    </tr>\n",
       "    <tr>\n",
       "      <th>28990</th>\n",
       "      <td>28991</td>\n",
       "      <td>Refined Avocado Oil</td>\n",
       "      <td>11</td>\n",
       "      <td>personal care</td>\n",
       "      <td>3</td>\n",
       "      <td>13</td>\n",
       "    </tr>\n",
       "    <tr>\n",
       "      <th>32076</th>\n",
       "      <td>32077</td>\n",
       "      <td>Oil-Absorbing Sheets Cleansers</td>\n",
       "      <td>11</td>\n",
       "      <td>personal care</td>\n",
       "      <td>3</td>\n",
       "      <td>17</td>\n",
       "    </tr>\n",
       "    <tr>\n",
       "      <th>6207</th>\n",
       "      <td>6208</td>\n",
       "      <td>Organic French Vanilla Protein Shake</td>\n",
       "      <td>11</td>\n",
       "      <td>personal care</td>\n",
       "      <td>5</td>\n",
       "      <td>7</td>\n",
       "    </tr>\n",
       "    <tr>\n",
       "      <th>38937</th>\n",
       "      <td>38938</td>\n",
       "      <td>Maca Powder, Raw</td>\n",
       "      <td>11</td>\n",
       "      <td>personal care</td>\n",
       "      <td>3</td>\n",
       "      <td>13</td>\n",
       "    </tr>\n",
       "    <tr>\n",
       "      <th>23226</th>\n",
       "      <td>23227</td>\n",
       "      <td>Skullcap Extract</td>\n",
       "      <td>11</td>\n",
       "      <td>personal care</td>\n",
       "      <td>2</td>\n",
       "      <td>13</td>\n",
       "    </tr>\n",
       "    <tr>\n",
       "      <th>16360</th>\n",
       "      <td>16361</td>\n",
       "      <td>Organic Freeze-Dried Wheatgrass Powder</td>\n",
       "      <td>11</td>\n",
       "      <td>personal care</td>\n",
       "      <td>4</td>\n",
       "      <td>19</td>\n",
       "    </tr>\n",
       "    <tr>\n",
       "      <th>20686</th>\n",
       "      <td>20687</td>\n",
       "      <td>100% Pure Cocoa Butter</td>\n",
       "      <td>11</td>\n",
       "      <td>personal care</td>\n",
       "      <td>4</td>\n",
       "      <td>13</td>\n",
       "    </tr>\n",
       "    <tr>\n",
       "      <th>20856</th>\n",
       "      <td>20857</td>\n",
       "      <td>Argan Oil 100% USDA Organic Moroccan</td>\n",
       "      <td>11</td>\n",
       "      <td>personal care</td>\n",
       "      <td>6</td>\n",
       "      <td>13</td>\n",
       "    </tr>\n",
       "    <tr>\n",
       "      <th>31796</th>\n",
       "      <td>31797</td>\n",
       "      <td>Cell Food</td>\n",
       "      <td>11</td>\n",
       "      <td>personal care</td>\n",
       "      <td>2</td>\n",
       "      <td>13</td>\n",
       "    </tr>\n",
       "    <tr>\n",
       "      <th>23220</th>\n",
       "      <td>23221</td>\n",
       "      <td>Large Shower Cap</td>\n",
       "      <td>11</td>\n",
       "      <td>personal care</td>\n",
       "      <td>3</td>\n",
       "      <td>17</td>\n",
       "    </tr>\n",
       "    <tr>\n",
       "      <th>4406</th>\n",
       "      <td>4407</td>\n",
       "      <td>Saw Palmetto Berries</td>\n",
       "      <td>11</td>\n",
       "      <td>personal care</td>\n",
       "      <td>3</td>\n",
       "      <td>19</td>\n",
       "    </tr>\n",
       "    <tr>\n",
       "      <th>7682</th>\n",
       "      <td>7683</td>\n",
       "      <td>Everyday Coconut Water Balancing Toner</td>\n",
       "      <td>11</td>\n",
       "      <td>personal care</td>\n",
       "      <td>5</td>\n",
       "      <td>7</td>\n",
       "    </tr>\n",
       "    <tr>\n",
       "      <th>36415</th>\n",
       "      <td>36416</td>\n",
       "      <td>First Aid 1 Inch 20 Yd Durable Cloth Tape</td>\n",
       "      <td>11</td>\n",
       "      <td>personal care</td>\n",
       "      <td>9</td>\n",
       "      <td>17</td>\n",
       "    </tr>\n",
       "    <tr>\n",
       "      <th>21235</th>\n",
       "      <td>21236</td>\n",
       "      <td>Nourish Strengthener</td>\n",
       "      <td>11</td>\n",
       "      <td>personal care</td>\n",
       "      <td>2</td>\n",
       "      <td>4</td>\n",
       "    </tr>\n",
       "    <tr>\n",
       "      <th>44856</th>\n",
       "      <td>44857</td>\n",
       "      <td>Myoplex Original Chocolate Fudge Protein Shake</td>\n",
       "      <td>11</td>\n",
       "      <td>personal care</td>\n",
       "      <td>6</td>\n",
       "      <td>7</td>\n",
       "    </tr>\n",
       "    <tr>\n",
       "      <th>37123</th>\n",
       "      <td>37124</td>\n",
       "      <td>Melatonin 5 Mg Tablets</td>\n",
       "      <td>11</td>\n",
       "      <td>personal care</td>\n",
       "      <td>4</td>\n",
       "      <td>2</td>\n",
       "    </tr>\n",
       "    <tr>\n",
       "      <th>27268</th>\n",
       "      <td>27269</td>\n",
       "      <td>Sweet Almond Oil</td>\n",
       "      <td>11</td>\n",
       "      <td>personal care</td>\n",
       "      <td>3</td>\n",
       "      <td>13</td>\n",
       "    </tr>\n",
       "    <tr>\n",
       "      <th>28299</th>\n",
       "      <td>28300</td>\n",
       "      <td>Pure Magnesium Flakes</td>\n",
       "      <td>11</td>\n",
       "      <td>personal care</td>\n",
       "      <td>3</td>\n",
       "      <td>13</td>\n",
       "    </tr>\n",
       "    <tr>\n",
       "      <th>36130</th>\n",
       "      <td>36131</td>\n",
       "      <td>Elderberry Syrup</td>\n",
       "      <td>11</td>\n",
       "      <td>personal care</td>\n",
       "      <td>2</td>\n",
       "      <td>13</td>\n",
       "    </tr>\n",
       "    <tr>\n",
       "      <th>48730</th>\n",
       "      <td>48731</td>\n",
       "      <td>Fresh Effects {Everything Off!} Deluxe Make-Up...</td>\n",
       "      <td>11</td>\n",
       "      <td>personal care</td>\n",
       "      <td>9</td>\n",
       "      <td>17</td>\n",
       "    </tr>\n",
       "    <tr>\n",
       "      <th>45043</th>\n",
       "      <td>45044</td>\n",
       "      <td>100% Organic Pure &amp; Unfiltered Cold Pressed Fl...</td>\n",
       "      <td>11</td>\n",
       "      <td>personal care</td>\n",
       "      <td>9</td>\n",
       "      <td>13</td>\n",
       "    </tr>\n",
       "    <tr>\n",
       "      <th>45828</th>\n",
       "      <td>45829</td>\n",
       "      <td>Aloe &amp; Cucumber Bar Soaps</td>\n",
       "      <td>11</td>\n",
       "      <td>personal care</td>\n",
       "      <td>5</td>\n",
       "      <td>19</td>\n",
       "    </tr>\n",
       "    <tr>\n",
       "      <th>39571</th>\n",
       "      <td>39572</td>\n",
       "      <td>Blister Water Proof Bandages</td>\n",
       "      <td>11</td>\n",
       "      <td>personal care</td>\n",
       "      <td>4</td>\n",
       "      <td>7</td>\n",
       "    </tr>\n",
       "    <tr>\n",
       "      <th>11985</th>\n",
       "      <td>11986</td>\n",
       "      <td>Silhouette for Women L/XL Briefs</td>\n",
       "      <td>11</td>\n",
       "      <td>personal care</td>\n",
       "      <td>5</td>\n",
       "      <td>2</td>\n",
       "    </tr>\n",
       "    <tr>\n",
       "      <th>24887</th>\n",
       "      <td>24888</td>\n",
       "      <td>Organic Superfood Blend Protein Smoothie Mix</td>\n",
       "      <td>11</td>\n",
       "      <td>personal care</td>\n",
       "      <td>6</td>\n",
       "      <td>7</td>\n",
       "    </tr>\n",
       "    <tr>\n",
       "      <th>38885</th>\n",
       "      <td>38886</td>\n",
       "      <td>Pomegranate Blackberry Probiotic Juice Drink</td>\n",
       "      <td>11</td>\n",
       "      <td>personal care</td>\n",
       "      <td>5</td>\n",
       "      <td>7</td>\n",
       "    </tr>\n",
       "    <tr>\n",
       "      <th>1041</th>\n",
       "      <td>1042</td>\n",
       "      <td>Perfect Fit Facial Tissue</td>\n",
       "      <td>11</td>\n",
       "      <td>personal care</td>\n",
       "      <td>4</td>\n",
       "      <td>17</td>\n",
       "    </tr>\n",
       "    <tr>\n",
       "      <th>9328</th>\n",
       "      <td>9329</td>\n",
       "      <td>Revitalizing Lemon Zest Herb Drops</td>\n",
       "      <td>11</td>\n",
       "      <td>personal care</td>\n",
       "      <td>5</td>\n",
       "      <td>19</td>\n",
       "    </tr>\n",
       "  </tbody>\n",
       "</table>\n",
       "</div>"
      ],
      "text/plain": [
       "       product_id                                       product_name  \\\n",
       "3965         3966                             Clean Individual Wipes   \n",
       "37545       37546                             Sponge Cosmetic Wedges   \n",
       "22013       22014                              Udo's Oil 3-6-9 Blend   \n",
       "40929       40930                     O.S.SFT SOLID DEOD RED ZN SPRT   \n",
       "10132       10133      Rockin Refuel Chocolate Protein Milk Beverage   \n",
       "22278       22279     Handcrafted Organic Original Digestive Bitters   \n",
       "14090       14091                             Macro Greens Drink Mix   \n",
       "1173         1174                                   Organic Flax Oil   \n",
       "4207         4208  Pink Lemonade Vitamin C 1000mg Drink Mix Dieta...   \n",
       "39653       39654      Pain Reliever and Nighttime Sleep Aid Caplets   \n",
       "10006       10007    GUM Proxabrush Go-Betweens Cleaners, #872 Tight   \n",
       "39710       39711                         Kids Apple Detangler Spray   \n",
       "27854       27855               Caramel Chocolate Peanut Nougat Bars   \n",
       "6227         6228                                Cardamom SmartFloss   \n",
       "3779         3780                         Bioactive Manuka 24+ Honey   \n",
       "43779       43780             Extra Cleansing Vinegar & Water Douche   \n",
       "10078       10079         LamisilAT® Athlete's Foot Antifungal Cream   \n",
       "42531       42532        Protein & Greens Chocolate Flavor Drink Mix   \n",
       "26501       26502                                             Stevia   \n",
       "8488         8489                       Aspartame Free Spearmint Gum   \n",
       "35414       35415                 Dark Chocolate Coconut Protein Bar   \n",
       "31658       31659                             Chocolate Cacao Powder   \n",
       "26583       26584                          SensorExcel Blade Refills   \n",
       "41578       41579  Maximum Absorbency Small/Medium Incontinence U...   \n",
       "25796       25797  Infant's Pain & Fever Grape Flavor Oral Suspen...   \n",
       "7549         7550  Electrolyte Stamina Power Pak 1200mg - Lemon Lime   \n",
       "39955       39956                                  Cranberry Extract   \n",
       "41080       41081                  100% Pure Patchouli Essential Oil   \n",
       "957           958                                     Almond Extract   \n",
       "11499       11500                Cherry Blossom Organic Energy Chews   \n",
       "18703       18704                      Aromatherapy Singles Lavender   \n",
       "32882       32883                           Original Refreshing Bars   \n",
       "41304       41305                 Double Chocolate Chunk Protein Bar   \n",
       "9231         9232  Essential Oils Cheer Up ButterCup Uplifting Blend   \n",
       "26403       26404           Frozen Frosted Berry Scented Bubble Bath   \n",
       "13994       13995               One Chocolate Cherry Almond Meal Bar   \n",
       "39523       39524                                     More Milk Plus   \n",
       "38691       38692  100% Natural Fruit Chew C Chewable Wafers Tang...   \n",
       "46237       46238                                 Fresh Scent Douche   \n",
       "18967       18968                                        Hello Kitty   \n",
       "5600         5601                       Soothing Baby Shampoo & Wash   \n",
       "28339       28340                      Instant Ginger Honey Crystals   \n",
       "15707       15708                     Lime Tangerine Yerba Mate Shot   \n",
       "7535         7536                              Natural Nipple Butter   \n",
       "10600       10601  My First Fluoride-Free Infant & Toddler Toothp...   \n",
       "23433       23434                        Premium 7 Sources Oil Blend   \n",
       "9442         9443         Cordyceps Organic Mushrooms Energy Support   \n",
       "6256         6257                           Raw Organic Cacao Powder   \n",
       "15501       15502                                    Natcol 3 N Cola   \n",
       "30436       30437                      Lemongrass Pure Essential Oil   \n",
       "14710       14711                         Organic Lowfat Mango Kefir   \n",
       "2275         2276                      Organic Sweet Mesquite Powder   \n",
       "3896         3897                  Reduced Bitterness Brewer's Yeast   \n",
       "18550       18551                                 Organic Mint Chews   \n",
       "14469       14470                   Strawberry Probiotic Dairy Drink   \n",
       "35325       35326                             Mullein Garlic Ear Oil   \n",
       "6266         6267                                    Good Mood Tonic   \n",
       "16886       16887                             Grapefruit Seed Liquid   \n",
       "38430       38431                               Diaper Rash & Thrush   \n",
       "1719         1720                               100% Pure Ginger Oil   \n",
       "31905       31906                                  Kefir Starter Kit   \n",
       "22229       22230                                  Deep Sleep Travel   \n",
       "48997       48998                         Triple Chocolate Snack Bar   \n",
       "36168       36169                                    The Itch Eraser   \n",
       "46528       46529  Tropical Tango Flavor Protein Smoothie Instant...   \n",
       "47532       47533                   Wildberry Reishi Yerba Mate Shot   \n",
       "21968       21969    Lactation Support SystemSupport Herbal Tea Bags   \n",
       "39615       39616       Ultra Apple Blossom Anti-Bacterial Dish Soap   \n",
       "8825         8826     Umcka ColdCare Sugar-Free Grape Flavored Syrup   \n",
       "10451       10452                                 100% Pure Bergamot   \n",
       "18938       18939          Gluten Free Chocolate Brownie Protein Bar   \n",
       "14514       14515             Organic Freeze Dried Goji Berry Powder   \n",
       "9563         9564                                Square Tip Tweezers   \n",
       "32677       32678                                      Fenugreek Tea   \n",
       "47720       47721                                 Aromatic Chest Rub   \n",
       "25666       25667                                 Slant-Tip Tweezers   \n",
       "25467       25468                               Original Moisturiser   \n",
       "16213       16214                       Lower Back and Hip Heat Wrap   \n",
       "36354       36355  Double Air-Pillo Custom Comfort with Memory Fo...   \n",
       "15244       15245                          Nail Clipper With Catcher   \n",
       "8297         8298                                  Baby & Me Tablets   \n",
       "49159       49160                 Everlasting French Nails - Endless   \n",
       "5411         5412                              Exam Glove Latex Osfm   \n",
       "8701         8702      Organic Reishi Mushroom Combinations Capsules   \n",
       "5895         5896         Tropical Flavor Dairy-Free Probiotic Kefir   \n",
       "34425       34426                           Lemon Lime Greens Energy   \n",
       "49652       49653    Organic Aromatherapeutic Moroccan Argan Oil Set   \n",
       "44183       44184  Strawberry Banana Tooth Gel with Xylitol For A...   \n",
       "21487       21488                             Hemp Seed Oil, Organic   \n",
       "32898       32899          Coco Hydro Original Electrolyte Drink Mix   \n",
       "14098       14099             Grape Baby Cough Syrup & Mucus Reducer   \n",
       "6169         6170     Simple Styles™ Spin Pins 2ct - Assorted Colors   \n",
       "9046         9047                                 Premium Epsom Salt   \n",
       "32083       32084                              Manuka Honey MGO 250+   \n",
       "16898       16899    Mango Flavor Dairy Free Fermented Soy Probiotic   \n",
       "8723         8724    Liquid Personal Lubricant & Vaginal Moisturizer   \n",
       "29234       29235                          Apple Cider Vinegar 500mg   \n",
       "9403         9404                                       Kava Extract   \n",
       "40781       40782                      Milk Chocolate Delight Shakes   \n",
       "36546       36547                         Aloe Vera Juice Whole Leaf   \n",
       "40117       40118    Hello Beautiful Organic Chocolate Protein Shake   \n",
       "41447       41448     Dark Chocolate Mixed Nuts & Sea Salt Snack Bar   \n",
       "24617       24618  Vitamin C Raspberry/Tangerine/Super Orange Fla...   \n",
       "28990       28991                                Refined Avocado Oil   \n",
       "32076       32077                     Oil-Absorbing Sheets Cleansers   \n",
       "6207         6208               Organic French Vanilla Protein Shake   \n",
       "38937       38938                                   Maca Powder, Raw   \n",
       "23226       23227                                   Skullcap Extract   \n",
       "16360       16361             Organic Freeze-Dried Wheatgrass Powder   \n",
       "20686       20687                             100% Pure Cocoa Butter   \n",
       "20856       20857               Argan Oil 100% USDA Organic Moroccan   \n",
       "31796       31797                                          Cell Food   \n",
       "23220       23221                                   Large Shower Cap   \n",
       "4406         4407                               Saw Palmetto Berries   \n",
       "7682         7683             Everyday Coconut Water Balancing Toner   \n",
       "36415       36416          First Aid 1 Inch 20 Yd Durable Cloth Tape   \n",
       "21235       21236                               Nourish Strengthener   \n",
       "44856       44857     Myoplex Original Chocolate Fudge Protein Shake   \n",
       "37123       37124                             Melatonin 5 Mg Tablets   \n",
       "27268       27269                                   Sweet Almond Oil   \n",
       "28299       28300                              Pure Magnesium Flakes   \n",
       "36130       36131                                   Elderberry Syrup   \n",
       "48730       48731  Fresh Effects {Everything Off!} Deluxe Make-Up...   \n",
       "45043       45044  100% Organic Pure & Unfiltered Cold Pressed Fl...   \n",
       "45828       45829                          Aloe & Cucumber Bar Soaps   \n",
       "39571       39572                       Blister Water Proof Bandages   \n",
       "11985       11986                   Silhouette for Women L/XL Briefs   \n",
       "24887       24888       Organic Superfood Blend Protein Smoothie Mix   \n",
       "38885       38886       Pomegranate Blackberry Probiotic Juice Drink   \n",
       "1041         1042                          Perfect Fit Facial Tissue   \n",
       "9328         9329                 Revitalizing Lemon Zest Herb Drops   \n",
       "\n",
       "       department_id department_name  length_product_name  pred  \n",
       "3965              11   personal care                    3    17  \n",
       "37545             11   personal care                    3    17  \n",
       "22013             11   personal care                    4    13  \n",
       "40929             11   personal care                    6     5  \n",
       "10132             11   personal care                    6    16  \n",
       "22278             11   personal care                    5    13  \n",
       "14090             11   personal care                    4     7  \n",
       "1173              11   personal care                    3    13  \n",
       "4207              11   personal care                    9     7  \n",
       "39653             11   personal care                    7     2  \n",
       "10006             11   personal care                    6    19  \n",
       "39710             11   personal care                    4    18  \n",
       "27854             11   personal care                    5    19  \n",
       "6227              11   personal care                    2    13  \n",
       "3779              11   personal care                    4    13  \n",
       "43779             11   personal care                    6     7  \n",
       "10078             11   personal care                    5     2  \n",
       "42531             11   personal care                    7     7  \n",
       "26501             11   personal care                    1    13  \n",
       "8488              11   personal care                    4    19  \n",
       "35414             11   personal care                    5    19  \n",
       "31658             11   personal care                    3    13  \n",
       "26583             11   personal care                    3    17  \n",
       "41578             11   personal care                    5    17  \n",
       "25796             11   personal care                    8     2  \n",
       "7549              11   personal care                    8     7  \n",
       "39955             11   personal care                    2    13  \n",
       "41080             11   personal care                    5    17  \n",
       "957               11   personal care                    2    13  \n",
       "11499             11   personal care                    5    19  \n",
       "18703             11   personal care                    3    17  \n",
       "32882             11   personal care                    3    19  \n",
       "41304             11   personal care                    5    19  \n",
       "9231              11   personal care                    7    17  \n",
       "26403             11   personal care                    6     1  \n",
       "13994             11   personal care                    6    19  \n",
       "39523             11   personal care                    3    16  \n",
       "38691             11   personal care                    9    19  \n",
       "46237             11   personal care                    3    17  \n",
       "18967             11   personal care                    2    19  \n",
       "5600              11   personal care                    5    18  \n",
       "28339             11   personal care                    4    13  \n",
       "15707             11   personal care                    5     7  \n",
       "7535              11   personal care                    3    16  \n",
       "10600             11   personal care                    9    18  \n",
       "23433             11   personal care                    5    13  \n",
       "9442              11   personal care                    5     4  \n",
       "6256              11   personal care                    4    13  \n",
       "15501             11   personal care                    4     7  \n",
       "30436             11   personal care                    4    17  \n",
       "14710             11   personal care                    4    16  \n",
       "2275              11   personal care                    4    13  \n",
       "3896              11   personal care                    4    13  \n",
       "18550             11   personal care                    3    19  \n",
       "14469             11   personal care                    4    16  \n",
       "35325             11   personal care                    4    13  \n",
       "6266              11   personal care                    3     7  \n",
       "16886             11   personal care                    3    17  \n",
       "38430             11   personal care                    4     2  \n",
       "1719              11   personal care                    4    13  \n",
       "31905             11   personal care                    3    17  \n",
       "22229             11   personal care                    3     2  \n",
       "48997             11   personal care                    4    19  \n",
       "36168             11   personal care                    3    17  \n",
       "46528             11   personal care                    9     7  \n",
       "47532             11   personal care                    5     7  \n",
       "21968             11   personal care                    6     7  \n",
       "39615             11   personal care                    6    17  \n",
       "8825              11   personal care                    6    13  \n",
       "10451             11   personal care                    3    17  \n",
       "18938             11   personal care                    6    19  \n",
       "14514             11   personal care                    6    19  \n",
       "9563              11   personal care                    3    17  \n",
       "32677             11   personal care                    2     7  \n",
       "47720             11   personal care                    3    13  \n",
       "25666             11   personal care                    2    17  \n",
       "25467             11   personal care                    2    19  \n",
       "16213             11   personal care                    6    17  \n",
       "36354             11   personal care                    8    17  \n",
       "15244             11   personal care                    4    17  \n",
       "8297              11   personal care                    4     2  \n",
       "49159             11   personal care                    5     4  \n",
       "5411              11   personal care                    4    17  \n",
       "8701              11   personal care                    5     4  \n",
       "5895              11   personal care                    5    16  \n",
       "34425             11   personal care                    4     7  \n",
       "49652             11   personal care                    6    13  \n",
       "44183             11   personal care                   11    18  \n",
       "21487             11   personal care                    4    13  \n",
       "32898             11   personal care                    6     7  \n",
       "14098             11   personal care                    7     2  \n",
       "6169              11   personal care                    8    19  \n",
       "9046              11   personal care                    3    13  \n",
       "32083             11   personal care                    4    13  \n",
       "16898             11   personal care                    7    16  \n",
       "8723              11   personal care                    6     2  \n",
       "29234             11   personal care                    4    13  \n",
       "9403              11   personal care                    2    13  \n",
       "40781             11   personal care                    4    19  \n",
       "36546             11   personal care                    5     7  \n",
       "40117             11   personal care                    6     7  \n",
       "41447             11   personal care                    9    19  \n",
       "24617             11   personal care                    9     7  \n",
       "28990             11   personal care                    3    13  \n",
       "32076             11   personal care                    3    17  \n",
       "6207              11   personal care                    5     7  \n",
       "38937             11   personal care                    3    13  \n",
       "23226             11   personal care                    2    13  \n",
       "16360             11   personal care                    4    19  \n",
       "20686             11   personal care                    4    13  \n",
       "20856             11   personal care                    6    13  \n",
       "31796             11   personal care                    2    13  \n",
       "23220             11   personal care                    3    17  \n",
       "4406              11   personal care                    3    19  \n",
       "7682              11   personal care                    5     7  \n",
       "36415             11   personal care                    9    17  \n",
       "21235             11   personal care                    2     4  \n",
       "44856             11   personal care                    6     7  \n",
       "37123             11   personal care                    4     2  \n",
       "27268             11   personal care                    3    13  \n",
       "28299             11   personal care                    3    13  \n",
       "36130             11   personal care                    2    13  \n",
       "48730             11   personal care                    9    17  \n",
       "45043             11   personal care                    9    13  \n",
       "45828             11   personal care                    5    19  \n",
       "39571             11   personal care                    4     7  \n",
       "11985             11   personal care                    5     2  \n",
       "24887             11   personal care                    6     7  \n",
       "38885             11   personal care                    5     7  \n",
       "1041              11   personal care                    4    17  \n",
       "9328              11   personal care                    5    19  "
      ]
     },
     "execution_count": 110,
     "metadata": {},
     "output_type": "execute_result"
    }
   ],
   "source": [
    "misclass_df[(misclass_df['department_id']==11)]"
   ]
  },
  {
   "cell_type": "code",
   "execution_count": 112,
   "metadata": {
    "ExecuteTime": {
     "end_time": "2021-01-27T14:56:54.881512Z",
     "start_time": "2021-01-27T14:56:54.868197Z"
    }
   },
   "outputs": [
    {
     "data": {
      "text/html": [
       "<div>\n",
       "<style scoped>\n",
       "    .dataframe tbody tr th:only-of-type {\n",
       "        vertical-align: middle;\n",
       "    }\n",
       "\n",
       "    .dataframe tbody tr th {\n",
       "        vertical-align: top;\n",
       "    }\n",
       "\n",
       "    .dataframe thead th {\n",
       "        text-align: right;\n",
       "    }\n",
       "</style>\n",
       "<table border=\"1\" class=\"dataframe\">\n",
       "  <thead>\n",
       "    <tr style=\"text-align: right;\">\n",
       "      <th></th>\n",
       "      <th>product_id</th>\n",
       "      <th>product_name</th>\n",
       "      <th>department_id</th>\n",
       "      <th>department_name</th>\n",
       "      <th>length_product_name</th>\n",
       "      <th>pred</th>\n",
       "    </tr>\n",
       "  </thead>\n",
       "  <tbody>\n",
       "    <tr>\n",
       "      <th>30431</th>\n",
       "      <td>30432</td>\n",
       "      <td>Women's Health Magazine</td>\n",
       "      <td>17</td>\n",
       "      <td>household</td>\n",
       "      <td>3</td>\n",
       "      <td>11</td>\n",
       "    </tr>\n",
       "    <tr>\n",
       "      <th>27346</th>\n",
       "      <td>27347</td>\n",
       "      <td>Small Picture Hanging Strips</td>\n",
       "      <td>17</td>\n",
       "      <td>household</td>\n",
       "      <td>4</td>\n",
       "      <td>11</td>\n",
       "    </tr>\n",
       "    <tr>\n",
       "      <th>41682</th>\n",
       "      <td>41683</td>\n",
       "      <td>100% Pure Tangerine Oil</td>\n",
       "      <td>17</td>\n",
       "      <td>household</td>\n",
       "      <td>4</td>\n",
       "      <td>11</td>\n",
       "    </tr>\n",
       "    <tr>\n",
       "      <th>2229</th>\n",
       "      <td>2230</td>\n",
       "      <td>Power Source Grounding Strip Tap 6 Outlets</td>\n",
       "      <td>17</td>\n",
       "      <td>household</td>\n",
       "      <td>7</td>\n",
       "      <td>11</td>\n",
       "    </tr>\n",
       "    <tr>\n",
       "      <th>16579</th>\n",
       "      <td>16580</td>\n",
       "      <td>Unstopables Lush</td>\n",
       "      <td>17</td>\n",
       "      <td>household</td>\n",
       "      <td>2</td>\n",
       "      <td>11</td>\n",
       "    </tr>\n",
       "    <tr>\n",
       "      <th>9434</th>\n",
       "      <td>9435</td>\n",
       "      <td>Suavitel Soothing Lavender Fabric Conditioner</td>\n",
       "      <td>17</td>\n",
       "      <td>household</td>\n",
       "      <td>5</td>\n",
       "      <td>11</td>\n",
       "    </tr>\n",
       "    <tr>\n",
       "      <th>17216</th>\n",
       "      <td>17217</td>\n",
       "      <td>Handcrafted Unscented Shea Butter</td>\n",
       "      <td>17</td>\n",
       "      <td>household</td>\n",
       "      <td>4</td>\n",
       "      <td>11</td>\n",
       "    </tr>\n",
       "    <tr>\n",
       "      <th>28427</th>\n",
       "      <td>28428</td>\n",
       "      <td>FamilyCare Clean Feel Insect Repellent</td>\n",
       "      <td>17</td>\n",
       "      <td>household</td>\n",
       "      <td>5</td>\n",
       "      <td>11</td>\n",
       "    </tr>\n",
       "    <tr>\n",
       "      <th>24728</th>\n",
       "      <td>24729</td>\n",
       "      <td>Cabinet Makers Wax</td>\n",
       "      <td>17</td>\n",
       "      <td>household</td>\n",
       "      <td>3</td>\n",
       "      <td>11</td>\n",
       "    </tr>\n",
       "    <tr>\n",
       "      <th>32966</th>\n",
       "      <td>32967</td>\n",
       "      <td>Unstoppables Liquid Lush</td>\n",
       "      <td>17</td>\n",
       "      <td>household</td>\n",
       "      <td>3</td>\n",
       "      <td>11</td>\n",
       "    </tr>\n",
       "    <tr>\n",
       "      <th>19434</th>\n",
       "      <td>19435</td>\n",
       "      <td>Cleansing Cloths</td>\n",
       "      <td>17</td>\n",
       "      <td>household</td>\n",
       "      <td>2</td>\n",
       "      <td>11</td>\n",
       "    </tr>\n",
       "    <tr>\n",
       "      <th>16840</th>\n",
       "      <td>16841</td>\n",
       "      <td>Soap Saver 2 Pack</td>\n",
       "      <td>17</td>\n",
       "      <td>household</td>\n",
       "      <td>4</td>\n",
       "      <td>11</td>\n",
       "    </tr>\n",
       "    <tr>\n",
       "      <th>27752</th>\n",
       "      <td>27753</td>\n",
       "      <td>Clean Care</td>\n",
       "      <td>17</td>\n",
       "      <td>household</td>\n",
       "      <td>2</td>\n",
       "      <td>11</td>\n",
       "    </tr>\n",
       "    <tr>\n",
       "      <th>46113</th>\n",
       "      <td>46114</td>\n",
       "      <td>Extra Gentle Sensitive Skin Hand Wipes</td>\n",
       "      <td>17</td>\n",
       "      <td>household</td>\n",
       "      <td>6</td>\n",
       "      <td>11</td>\n",
       "    </tr>\n",
       "    <tr>\n",
       "      <th>22210</th>\n",
       "      <td>22211</td>\n",
       "      <td>Free &amp; Clean Unscented Hand Soap</td>\n",
       "      <td>17</td>\n",
       "      <td>household</td>\n",
       "      <td>6</td>\n",
       "      <td>11</td>\n",
       "    </tr>\n",
       "    <tr>\n",
       "      <th>5991</th>\n",
       "      <td>5992</td>\n",
       "      <td>Revitalizing Oil Furniture Spray</td>\n",
       "      <td>17</td>\n",
       "      <td>household</td>\n",
       "      <td>4</td>\n",
       "      <td>11</td>\n",
       "    </tr>\n",
       "    <tr>\n",
       "      <th>12914</th>\n",
       "      <td>12915</td>\n",
       "      <td>Cotton Butcher's String 185 Feet</td>\n",
       "      <td>17</td>\n",
       "      <td>household</td>\n",
       "      <td>5</td>\n",
       "      <td>11</td>\n",
       "    </tr>\n",
       "    <tr>\n",
       "      <th>20307</th>\n",
       "      <td>20308</td>\n",
       "      <td>Canned Heat 2 Hour</td>\n",
       "      <td>17</td>\n",
       "      <td>household</td>\n",
       "      <td>4</td>\n",
       "      <td>11</td>\n",
       "    </tr>\n",
       "    <tr>\n",
       "      <th>38370</th>\n",
       "      <td>38371</td>\n",
       "      <td>Plus Lotion Facial Tissues</td>\n",
       "      <td>17</td>\n",
       "      <td>household</td>\n",
       "      <td>4</td>\n",
       "      <td>11</td>\n",
       "    </tr>\n",
       "    <tr>\n",
       "      <th>46620</th>\n",
       "      <td>46621</td>\n",
       "      <td>Bio Scour Pads</td>\n",
       "      <td>17</td>\n",
       "      <td>household</td>\n",
       "      <td>3</td>\n",
       "      <td>11</td>\n",
       "    </tr>\n",
       "  </tbody>\n",
       "</table>\n",
       "</div>"
      ],
      "text/plain": [
       "       product_id                                   product_name  \\\n",
       "30431       30432                        Women's Health Magazine   \n",
       "27346       27347                   Small Picture Hanging Strips   \n",
       "41682       41683                        100% Pure Tangerine Oil   \n",
       "2229         2230     Power Source Grounding Strip Tap 6 Outlets   \n",
       "16579       16580                               Unstopables Lush   \n",
       "9434         9435  Suavitel Soothing Lavender Fabric Conditioner   \n",
       "17216       17217              Handcrafted Unscented Shea Butter   \n",
       "28427       28428         FamilyCare Clean Feel Insect Repellent   \n",
       "24728       24729                             Cabinet Makers Wax   \n",
       "32966       32967                       Unstoppables Liquid Lush   \n",
       "19434       19435                               Cleansing Cloths   \n",
       "16840       16841                              Soap Saver 2 Pack   \n",
       "27752       27753                                     Clean Care   \n",
       "46113       46114         Extra Gentle Sensitive Skin Hand Wipes   \n",
       "22210       22211               Free & Clean Unscented Hand Soap   \n",
       "5991         5992               Revitalizing Oil Furniture Spray   \n",
       "12914       12915               Cotton Butcher's String 185 Feet   \n",
       "20307       20308                             Canned Heat 2 Hour   \n",
       "38370       38371                     Plus Lotion Facial Tissues   \n",
       "46620       46621                                 Bio Scour Pads   \n",
       "\n",
       "       department_id department_name  length_product_name  pred  \n",
       "30431             17       household                    3    11  \n",
       "27346             17       household                    4    11  \n",
       "41682             17       household                    4    11  \n",
       "2229              17       household                    7    11  \n",
       "16579             17       household                    2    11  \n",
       "9434              17       household                    5    11  \n",
       "17216             17       household                    4    11  \n",
       "28427             17       household                    5    11  \n",
       "24728             17       household                    3    11  \n",
       "32966             17       household                    3    11  \n",
       "19434             17       household                    2    11  \n",
       "16840             17       household                    4    11  \n",
       "27752             17       household                    2    11  \n",
       "46113             17       household                    6    11  \n",
       "22210             17       household                    6    11  \n",
       "5991              17       household                    4    11  \n",
       "12914             17       household                    5    11  \n",
       "20307             17       household                    4    11  \n",
       "38370             17       household                    4    11  \n",
       "46620             17       household                    3    11  "
      ]
     },
     "execution_count": 112,
     "metadata": {},
     "output_type": "execute_result"
    }
   ],
   "source": [
    "misclass_df[(misclass_df['department_id']==17) & (misclass_df['pred']==11)].head(20)"
   ]
  },
  {
   "cell_type": "code",
   "execution_count": 76,
   "metadata": {
    "ExecuteTime": {
     "end_time": "2021-01-27T14:27:07.107028Z",
     "start_time": "2021-01-27T14:27:07.103498Z"
    }
   },
   "outputs": [],
   "source": [
    "dept_list = []\n",
    "for i, name in dept_names.index:\n",
    "    if name not in dept_list:\n",
    "        dept_list.append(name)"
   ]
  },
  {
   "cell_type": "code",
   "execution_count": 77,
   "metadata": {
    "ExecuteTime": {
     "end_time": "2021-01-27T14:27:07.561444Z",
     "start_time": "2021-01-27T14:27:07.557436Z"
    },
    "scrolled": true
   },
   "outputs": [
    {
     "data": {
      "text/plain": [
       "['frozen',\n",
       " 'other',\n",
       " 'bakery',\n",
       " 'produce',\n",
       " 'alcohol',\n",
       " 'international',\n",
       " 'beverages',\n",
       " 'pets',\n",
       " 'dry goods pasta',\n",
       " 'personal care',\n",
       " 'meat seafood',\n",
       " 'pantry',\n",
       " 'breakfast',\n",
       " 'canned goods',\n",
       " 'dairy eggs',\n",
       " 'household',\n",
       " 'babies',\n",
       " 'snacks',\n",
       " 'deli']"
      ]
     },
     "execution_count": 77,
     "metadata": {},
     "output_type": "execute_result"
    }
   ],
   "source": [
    "# list of aisles in the validation set\n",
    "dept_list"
   ]
  },
  {
   "cell_type": "code",
   "execution_count": 80,
   "metadata": {
    "ExecuteTime": {
     "end_time": "2021-01-27T14:28:29.122567Z",
     "start_time": "2021-01-27T14:28:16.596602Z"
    }
   },
   "outputs": [
    {
     "data": {
      "image/png": "[encoded data removed]",
      "text/plain": [
       "<Figure size 864x864 with 2 Axes>"
      ]
     },
     "metadata": {
      "needs_background": "light"
     },
     "output_type": "display_data"
    }
   ],
   "source": [
    "fig, ax = plt.subplots(figsize=(12, 12))\n",
    "cm = plot_confusion_matrix(benchmark_model,lr_Xval_cvec,yval, ax=ax, cmap=plt.cm.Blues)\n",
    "ax.set_xticklabels(dept_list,rotation=90, fontsize=10)\n",
    "ax.set_yticklabels(dept_list,rotation=0, fontsize=10)\n",
    "plt.show();"
   ]
  },
  {
   "cell_type": "code",
   "execution_count": 55,
   "metadata": {
    "ExecuteTime": {
     "end_time": "2021-01-27T13:48:27.803233Z",
     "start_time": "2021-01-27T13:48:27.787235Z"
    }
   },
   "outputs": [
    {
     "data": {
      "text/html": [
       "<div>\n",
       "<style scoped>\n",
       "    .dataframe tbody tr th:only-of-type {\n",
       "        vertical-align: middle;\n",
       "    }\n",
       "\n",
       "    .dataframe tbody tr th {\n",
       "        vertical-align: top;\n",
       "    }\n",
       "\n",
       "    .dataframe thead th {\n",
       "        text-align: right;\n",
       "    }\n",
       "</style>\n",
       "<table border=\"1\" class=\"dataframe\">\n",
       "  <thead>\n",
       "    <tr style=\"text-align: right;\">\n",
       "      <th></th>\n",
       "      <th>Unnamed: 0</th>\n",
       "      <th>product_id</th>\n",
       "      <th>product_name</th>\n",
       "      <th>department_id</th>\n",
       "      <th>department_name</th>\n",
       "      <th>length_product_name</th>\n",
       "      <th>product_name_words</th>\n",
       "      <th>pred</th>\n",
       "    </tr>\n",
       "  </thead>\n",
       "  <tbody>\n",
       "    <tr>\n",
       "      <th>8330</th>\n",
       "      <td>8330</td>\n",
       "      <td>8331</td>\n",
       "      <td>Mouse Traps</td>\n",
       "      <td>17</td>\n",
       "      <td>household</td>\n",
       "      <td>2</td>\n",
       "      <td>mouse trap</td>\n",
       "      <td>2</td>\n",
       "    </tr>\n",
       "    <tr>\n",
       "      <th>41343</th>\n",
       "      <td>41343</td>\n",
       "      <td>41344</td>\n",
       "      <td>Eucalyptus Tea Lights</td>\n",
       "      <td>17</td>\n",
       "      <td>household</td>\n",
       "      <td>3</td>\n",
       "      <td>eucalyptus tea light</td>\n",
       "      <td>7</td>\n",
       "    </tr>\n",
       "    <tr>\n",
       "      <th>14871</th>\n",
       "      <td>14871</td>\n",
       "      <td>14872</td>\n",
       "      <td>All Natural Powder Cleanser</td>\n",
       "      <td>17</td>\n",
       "      <td>household</td>\n",
       "      <td>4</td>\n",
       "      <td>natural powder cleanser</td>\n",
       "      <td>11</td>\n",
       "    </tr>\n",
       "    <tr>\n",
       "      <th>21388</th>\n",
       "      <td>21388</td>\n",
       "      <td>21389</td>\n",
       "      <td>Vanilla Spice Herbal Incense Sticks</td>\n",
       "      <td>17</td>\n",
       "      <td>household</td>\n",
       "      <td>5</td>\n",
       "      <td>vanilla spice herbal incense stick</td>\n",
       "      <td>7</td>\n",
       "    </tr>\n",
       "    <tr>\n",
       "      <th>30202</th>\n",
       "      <td>30202</td>\n",
       "      <td>30203</td>\n",
       "      <td>Ceramic Pepper Grinder</td>\n",
       "      <td>17</td>\n",
       "      <td>household</td>\n",
       "      <td>3</td>\n",
       "      <td>ceramic pepper grinder</td>\n",
       "      <td>13</td>\n",
       "    </tr>\n",
       "    <tr>\n",
       "      <th>44514</th>\n",
       "      <td>44514</td>\n",
       "      <td>44515</td>\n",
       "      <td>Large Picture Hanging Strips</td>\n",
       "      <td>17</td>\n",
       "      <td>household</td>\n",
       "      <td>4</td>\n",
       "      <td>large picture hang strip</td>\n",
       "      <td>11</td>\n",
       "    </tr>\n",
       "    <tr>\n",
       "      <th>6822</th>\n",
       "      <td>6822</td>\n",
       "      <td>6823</td>\n",
       "      <td>Black Aroma Mist Diffuser</td>\n",
       "      <td>17</td>\n",
       "      <td>household</td>\n",
       "      <td>4</td>\n",
       "      <td>black aroma mist diffuser</td>\n",
       "      <td>11</td>\n",
       "    </tr>\n",
       "    <tr>\n",
       "      <th>37901</th>\n",
       "      <td>37901</td>\n",
       "      <td>37902</td>\n",
       "      <td>Dry Ice</td>\n",
       "      <td>17</td>\n",
       "      <td>household</td>\n",
       "      <td>2</td>\n",
       "      <td>dry ice</td>\n",
       "      <td>1</td>\n",
       "    </tr>\n",
       "    <tr>\n",
       "      <th>19026</th>\n",
       "      <td>19026</td>\n",
       "      <td>19027</td>\n",
       "      <td>Takealongs Serving Bowl</td>\n",
       "      <td>17</td>\n",
       "      <td>household</td>\n",
       "      <td>3</td>\n",
       "      <td>takealongs serve bowl</td>\n",
       "      <td>4</td>\n",
       "    </tr>\n",
       "    <tr>\n",
       "      <th>5363</th>\n",
       "      <td>5363</td>\n",
       "      <td>5364</td>\n",
       "      <td>Muffin Pan 12 Cup Non Stick</td>\n",
       "      <td>17</td>\n",
       "      <td>household</td>\n",
       "      <td>6</td>\n",
       "      <td>muffin pan cup non stick</td>\n",
       "      <td>13</td>\n",
       "    </tr>\n",
       "    <tr>\n",
       "      <th>39939</th>\n",
       "      <td>39939</td>\n",
       "      <td>39940</td>\n",
       "      <td>Cheese Slicer</td>\n",
       "      <td>17</td>\n",
       "      <td>household</td>\n",
       "      <td>2</td>\n",
       "      <td>cheese slicer</td>\n",
       "      <td>16</td>\n",
       "    </tr>\n",
       "    <tr>\n",
       "      <th>29331</th>\n",
       "      <td>29331</td>\n",
       "      <td>29332</td>\n",
       "      <td>Combination Padlock</td>\n",
       "      <td>17</td>\n",
       "      <td>household</td>\n",
       "      <td>2</td>\n",
       "      <td>combination padlock</td>\n",
       "      <td>11</td>\n",
       "    </tr>\n",
       "    <tr>\n",
       "      <th>46099</th>\n",
       "      <td>46099</td>\n",
       "      <td>46100</td>\n",
       "      <td>Allergen Reducer</td>\n",
       "      <td>17</td>\n",
       "      <td>household</td>\n",
       "      <td>2</td>\n",
       "      <td>allergen reducer</td>\n",
       "      <td>11</td>\n",
       "    </tr>\n",
       "    <tr>\n",
       "      <th>8329</th>\n",
       "      <td>8329</td>\n",
       "      <td>8330</td>\n",
       "      <td>Trash Liner Rubber Bands</td>\n",
       "      <td>17</td>\n",
       "      <td>household</td>\n",
       "      <td>4</td>\n",
       "      <td>trash liner rubber band</td>\n",
       "      <td>13</td>\n",
       "    </tr>\n",
       "    <tr>\n",
       "      <th>1474</th>\n",
       "      <td>1474</td>\n",
       "      <td>1475</td>\n",
       "      <td>Light Body Fabric Finish Ironing Spray</td>\n",
       "      <td>17</td>\n",
       "      <td>household</td>\n",
       "      <td>6</td>\n",
       "      <td>light body fabric finish iron spray</td>\n",
       "      <td>11</td>\n",
       "    </tr>\n",
       "    <tr>\n",
       "      <th>36908</th>\n",
       "      <td>36908</td>\n",
       "      <td>36909</td>\n",
       "      <td>Grapefruit &amp; Green Tea Dishwashing Liquid</td>\n",
       "      <td>17</td>\n",
       "      <td>household</td>\n",
       "      <td>6</td>\n",
       "      <td>grapefruit green tea dishwashing liquid</td>\n",
       "      <td>7</td>\n",
       "    </tr>\n",
       "    <tr>\n",
       "      <th>32719</th>\n",
       "      <td>32719</td>\n",
       "      <td>32720</td>\n",
       "      <td>Eco Broom</td>\n",
       "      <td>17</td>\n",
       "      <td>household</td>\n",
       "      <td>2</td>\n",
       "      <td>eco broom</td>\n",
       "      <td>11</td>\n",
       "    </tr>\n",
       "    <tr>\n",
       "      <th>46342</th>\n",
       "      <td>46342</td>\n",
       "      <td>46343</td>\n",
       "      <td>Large Pumpkin Carving Kit</td>\n",
       "      <td>17</td>\n",
       "      <td>household</td>\n",
       "      <td>4</td>\n",
       "      <td>large pumpkin carve kit</td>\n",
       "      <td>4</td>\n",
       "    </tr>\n",
       "    <tr>\n",
       "      <th>17286</th>\n",
       "      <td>17286</td>\n",
       "      <td>17287</td>\n",
       "      <td>Ice Cream Scoop</td>\n",
       "      <td>17</td>\n",
       "      <td>household</td>\n",
       "      <td>3</td>\n",
       "      <td>ice cream scoop</td>\n",
       "      <td>1</td>\n",
       "    </tr>\n",
       "    <tr>\n",
       "      <th>38831</th>\n",
       "      <td>38831</td>\n",
       "      <td>38832</td>\n",
       "      <td>Mint Tea Tree Flavored Toothpicks</td>\n",
       "      <td>17</td>\n",
       "      <td>household</td>\n",
       "      <td>5</td>\n",
       "      <td>mint tea tree flavor toothpick</td>\n",
       "      <td>7</td>\n",
       "    </tr>\n",
       "  </tbody>\n",
       "</table>\n",
       "</div>"
      ],
      "text/plain": [
       "       Unnamed: 0  product_id                               product_name  \\\n",
       "8330         8330        8331                                Mouse Traps   \n",
       "41343       41343       41344                      Eucalyptus Tea Lights   \n",
       "14871       14871       14872                All Natural Powder Cleanser   \n",
       "21388       21388       21389        Vanilla Spice Herbal Incense Sticks   \n",
       "30202       30202       30203                     Ceramic Pepper Grinder   \n",
       "44514       44514       44515               Large Picture Hanging Strips   \n",
       "6822         6822        6823                  Black Aroma Mist Diffuser   \n",
       "37901       37901       37902                                    Dry Ice   \n",
       "19026       19026       19027                    Takealongs Serving Bowl   \n",
       "5363         5363        5364                Muffin Pan 12 Cup Non Stick   \n",
       "39939       39939       39940                              Cheese Slicer   \n",
       "29331       29331       29332                        Combination Padlock   \n",
       "46099       46099       46100                           Allergen Reducer   \n",
       "8329         8329        8330                   Trash Liner Rubber Bands   \n",
       "1474         1474        1475     Light Body Fabric Finish Ironing Spray   \n",
       "36908       36908       36909  Grapefruit & Green Tea Dishwashing Liquid   \n",
       "32719       32719       32720                                  Eco Broom   \n",
       "46342       46342       46343                  Large Pumpkin Carving Kit   \n",
       "17286       17286       17287                            Ice Cream Scoop   \n",
       "38831       38831       38832          Mint Tea Tree Flavored Toothpicks   \n",
       "\n",
       "       department_id department_name  length_product_name  \\\n",
       "8330              17       household                    2   \n",
       "41343             17       household                    3   \n",
       "14871             17       household                    4   \n",
       "21388             17       household                    5   \n",
       "30202             17       household                    3   \n",
       "44514             17       household                    4   \n",
       "6822              17       household                    4   \n",
       "37901             17       household                    2   \n",
       "19026             17       household                    3   \n",
       "5363              17       household                    6   \n",
       "39939             17       household                    2   \n",
       "29331             17       household                    2   \n",
       "46099             17       household                    2   \n",
       "8329              17       household                    4   \n",
       "1474              17       household                    6   \n",
       "36908             17       household                    6   \n",
       "32719             17       household                    2   \n",
       "46342             17       household                    4   \n",
       "17286             17       household                    3   \n",
       "38831             17       household                    5   \n",
       "\n",
       "                            product_name_words  pred  \n",
       "8330                                mouse trap     2  \n",
       "41343                     eucalyptus tea light     7  \n",
       "14871                  natural powder cleanser    11  \n",
       "21388       vanilla spice herbal incense stick     7  \n",
       "30202                   ceramic pepper grinder    13  \n",
       "44514                 large picture hang strip    11  \n",
       "6822                 black aroma mist diffuser    11  \n",
       "37901                                  dry ice     1  \n",
       "19026                    takealongs serve bowl     4  \n",
       "5363                  muffin pan cup non stick    13  \n",
       "39939                            cheese slicer    16  \n",
       "29331                      combination padlock    11  \n",
       "46099                         allergen reducer    11  \n",
       "8329                   trash liner rubber band    13  \n",
       "1474       light body fabric finish iron spray    11  \n",
       "36908  grapefruit green tea dishwashing liquid     7  \n",
       "32719                                eco broom    11  \n",
       "46342                  large pumpkin carve kit     4  \n",
       "17286                          ice cream scoop     1  \n",
       "38831           mint tea tree flavor toothpick     7  "
      ]
     },
     "execution_count": 55,
     "metadata": {},
     "output_type": "execute_result"
    }
   ],
   "source": [
    "misclass_df[misclass_df['department_name']=='household'].tail(20)"
   ]
  },
  {
   "cell_type": "markdown",
   "metadata": {},
   "source": [
    "It seems like the aisles juice nectars and refrigerated is very similar, and some misclassifications still makes sense, for example, ginger kombucha could be classified as refrigerated as well even though the actual is juice nectars whereas organic amber coconut nectar could be juice nectars even though the actual is refrigerated. However, it does seem that the product name is being classified according to the fruit name in each product name."
   ]
  },
  {
   "cell_type": "code",
   "execution_count": 47,
   "metadata": {
    "ExecuteTime": {
     "end_time": "2021-01-27T13:39:53.720583Z",
     "start_time": "2021-01-27T13:39:53.707498Z"
    }
   },
   "outputs": [
    {
     "data": {
      "text/html": [
       "<div>\n",
       "<style scoped>\n",
       "    .dataframe tbody tr th:only-of-type {\n",
       "        vertical-align: middle;\n",
       "    }\n",
       "\n",
       "    .dataframe tbody tr th {\n",
       "        vertical-align: top;\n",
       "    }\n",
       "\n",
       "    .dataframe thead th {\n",
       "        text-align: right;\n",
       "    }\n",
       "</style>\n",
       "<table border=\"1\" class=\"dataframe\">\n",
       "  <thead>\n",
       "    <tr style=\"text-align: right;\">\n",
       "      <th></th>\n",
       "      <th>Unnamed: 0</th>\n",
       "      <th>product_id</th>\n",
       "      <th>product_name</th>\n",
       "      <th>department_id</th>\n",
       "      <th>department_name</th>\n",
       "      <th>length_product_name</th>\n",
       "      <th>product_name_words</th>\n",
       "      <th>pred</th>\n",
       "    </tr>\n",
       "  </thead>\n",
       "  <tbody>\n",
       "    <tr>\n",
       "      <th>10428</th>\n",
       "      <td>10428</td>\n",
       "      <td>10429</td>\n",
       "      <td>Spider-Man Boy's Small/Medium Bedtime Underwear</td>\n",
       "      <td>18</td>\n",
       "      <td>babies</td>\n",
       "      <td>5</td>\n",
       "      <td>spider man boy small medium bedtime underwear</td>\n",
       "      <td>17</td>\n",
       "    </tr>\n",
       "    <tr>\n",
       "      <th>2305</th>\n",
       "      <td>2305</td>\n",
       "      <td>2306</td>\n",
       "      <td>VentAire Wide Bottle</td>\n",
       "      <td>18</td>\n",
       "      <td>babies</td>\n",
       "      <td>3</td>\n",
       "      <td>ventaire wide bottle</td>\n",
       "      <td>17</td>\n",
       "    </tr>\n",
       "    <tr>\n",
       "      <th>28894</th>\n",
       "      <td>28894</td>\n",
       "      <td>28895</td>\n",
       "      <td>72ct Chlorine Free Wipes Refill</td>\n",
       "      <td>18</td>\n",
       "      <td>babies</td>\n",
       "      <td>5</td>\n",
       "      <td>chlorine free wipe refill</td>\n",
       "      <td>17</td>\n",
       "    </tr>\n",
       "    <tr>\n",
       "      <th>2858</th>\n",
       "      <td>2858</td>\n",
       "      <td>2859</td>\n",
       "      <td>Flushable Wipes</td>\n",
       "      <td>18</td>\n",
       "      <td>babies</td>\n",
       "      <td>2</td>\n",
       "      <td>flushable wipe</td>\n",
       "      <td>17</td>\n",
       "    </tr>\n",
       "    <tr>\n",
       "      <th>37963</th>\n",
       "      <td>37963</td>\n",
       "      <td>37964</td>\n",
       "      <td>Big Kid Flushable Wipes</td>\n",
       "      <td>18</td>\n",
       "      <td>babies</td>\n",
       "      <td>4</td>\n",
       "      <td>big kid flushable wipe</td>\n",
       "      <td>17</td>\n",
       "    </tr>\n",
       "    <tr>\n",
       "      <th>36944</th>\n",
       "      <td>36944</td>\n",
       "      <td>36945</td>\n",
       "      <td>Sponge Bottle Brush</td>\n",
       "      <td>18</td>\n",
       "      <td>babies</td>\n",
       "      <td>3</td>\n",
       "      <td>sponge bottle brush</td>\n",
       "      <td>17</td>\n",
       "    </tr>\n",
       "  </tbody>\n",
       "</table>\n",
       "</div>"
      ],
      "text/plain": [
       "       Unnamed: 0  product_id  \\\n",
       "10428       10428       10429   \n",
       "2305         2305        2306   \n",
       "28894       28894       28895   \n",
       "2858         2858        2859   \n",
       "37963       37963       37964   \n",
       "36944       36944       36945   \n",
       "\n",
       "                                          product_name  department_id  \\\n",
       "10428  Spider-Man Boy's Small/Medium Bedtime Underwear             18   \n",
       "2305                              VentAire Wide Bottle             18   \n",
       "28894                  72ct Chlorine Free Wipes Refill             18   \n",
       "2858                                   Flushable Wipes             18   \n",
       "37963                          Big Kid Flushable Wipes             18   \n",
       "36944                              Sponge Bottle Brush             18   \n",
       "\n",
       "      department_name  length_product_name  \\\n",
       "10428          babies                    5   \n",
       "2305           babies                    3   \n",
       "28894          babies                    5   \n",
       "2858           babies                    2   \n",
       "37963          babies                    4   \n",
       "36944          babies                    3   \n",
       "\n",
       "                                  product_name_words  pred  \n",
       "10428  spider man boy small medium bedtime underwear    17  \n",
       "2305                            ventaire wide bottle    17  \n",
       "28894                      chlorine free wipe refill    17  \n",
       "2858                                  flushable wipe    17  \n",
       "37963                         big kid flushable wipe    17  \n",
       "36944                            sponge bottle brush    17  "
      ]
     },
     "execution_count": 47,
     "metadata": {},
     "output_type": "execute_result"
    }
   ],
   "source": [
    "#taking at the 52 products from babies department that was classified to household\n",
    "misclass_df[(misclass_df['department_name']=='babies') & (misclass_df['pred']==17)]"
   ]
  },
  {
   "cell_type": "code",
   "execution_count": null,
   "metadata": {
    "ExecuteTime": {
     "end_time": "2021-01-23T04:56:09.779768Z",
     "start_time": "2021-01-23T04:28:34.743Z"
    }
   },
   "outputs": [],
   "source": [
    "misclass_df[(misclass_df['department_name']=='refrigerated') & (misclass_df['pred']==98)]"
   ]
  },
  {
   "cell_type": "code",
   "execution_count": null,
   "metadata": {
    "ExecuteTime": {
     "end_time": "2021-01-23T04:56:09.781306Z",
     "start_time": "2021-01-23T04:28:34.745Z"
    }
   },
   "outputs": [],
   "source": [
    "baseline_val_df[(baseline_val_df['aisle_name']=='refrigerated') & (baseline_val_df['pred']==31)].head(20)"
   ]
  },
  {
   "cell_type": "code",
   "execution_count": null,
   "metadata": {
    "ExecuteTime": {
     "end_time": "2021-01-23T04:56:09.782986Z",
     "start_time": "2021-01-23T04:28:34.748Z"
    }
   },
   "outputs": [],
   "source": [
    "baseline_val_df[(baseline_val_df['aisle_name']=='juice nectars') & (baseline_val_df['pred']==98)].head(20)"
   ]
  },
  {
   "cell_type": "markdown",
   "metadata": {},
   "source": [
    "Could try showing t-sne on how well it was clustered"
   ]
  },
  {
   "cell_type": "markdown",
   "metadata": {},
   "source": [
    "## Conclusion and Recommendation"
   ]
  },
  {
   "cell_type": "markdown",
   "metadata": {},
   "source": [
    "The production model choses what the Logistic Regression model with count vectorized features. There were about 216,000 features after vectorizing, we used the count vectorizer of max features 80,000 to fit into the model. The model may have been slightly overfitted with the train accuracy at 0.97 and test at 0.84. However it had the highest F1-score which was our main metric for measuring the performance of our models. Looking at the confusion matrix was another method for choosing the model. Most of the confusion matrix had similar results, except for all the Doc2Vec features that were fitted, where most of the classes were predicted correctly. I would recommend to first implement a simple model, and looking at how the model performs and whether there was improved sales especially for those products that were missing initially, and from there we could probably fine-tune the model more, build a recommender system to recommend products that are similar to those the customer tends to buy or even build a model to categorize products by aisles(subcategory to department) to help filter items better, if we see that the model helps improve sales for products especially those initially with missing departments."
   ]
  },
  {
   "cell_type": "code",
   "execution_count": null,
   "metadata": {},
   "outputs": [],
   "source": []
  }
 ],
 "metadata": {
  "kernelspec": {
   "display_name": "Python 3",
   "language": "python",
   "name": "python3"
  },
  "language_info": {
   "codemirror_mode": {
    "name": "ipython",
    "version": 3
   },
   "file_extension": ".py",
   "mimetype": "text/x-python",
   "name": "python",
   "nbconvert_exporter": "python",
   "pygments_lexer": "ipython3",
   "version": "3.8.3"
  },
  "toc": {
   "base_numbering": 1,
   "nav_menu": {},
   "number_sections": true,
   "sideBar": true,
   "skip_h1_title": false,
   "title_cell": "Table of Contents",
   "title_sidebar": "Contents",
   "toc_cell": false,
   "toc_position": {
    "height": "calc(100% - 180px)",
    "left": "10px",
    "top": "150px",
    "width": "165px"
   },
   "toc_section_display": true,
   "toc_window_display": true
  }
 },
 "nbformat": 4,
 "nbformat_minor": 4
}
